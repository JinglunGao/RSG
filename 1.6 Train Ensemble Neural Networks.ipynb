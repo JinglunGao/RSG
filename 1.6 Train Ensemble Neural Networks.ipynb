{
 "cells": [
  {
   "cell_type": "code",
   "execution_count": 1,
   "metadata": {},
   "outputs": [],
   "source": [
    "import numpy as np\n",
    "import pandas as pd\n",
    "from sklearn.utils import resample\n",
    "from sklearn.preprocessing import MinMaxScaler\n",
    "from sklearn.metrics import r2_score\n",
    "\n",
    "import tensorflow as tf\n",
    "from tensorflow import keras\n",
    "from tensorflow.keras import models, layers, activations, initializers\n",
    "\n",
    "from EnsembleNeuralNetworks import ENN\n",
    "from BSModel import black_scholes_call_option, black_scholes_put_option"
   ]
  },
  {
   "cell_type": "code",
   "execution_count": 2,
   "metadata": {},
   "outputs": [
    {
     "data": {
      "text/html": [
       "<div>\n",
       "<style scoped>\n",
       "    .dataframe tbody tr th:only-of-type {\n",
       "        vertical-align: middle;\n",
       "    }\n",
       "\n",
       "    .dataframe tbody tr th {\n",
       "        vertical-align: top;\n",
       "    }\n",
       "\n",
       "    .dataframe thead th {\n",
       "        text-align: right;\n",
       "    }\n",
       "</style>\n",
       "<table border=\"1\" class=\"dataframe\">\n",
       "  <thead>\n",
       "    <tr style=\"text-align: right;\">\n",
       "      <th></th>\n",
       "      <th>Put.Call</th>\n",
       "      <th>Strike.Price</th>\n",
       "      <th>Settlement</th>\n",
       "      <th>Historical Vol</th>\n",
       "      <th>futures.price</th>\n",
       "      <th>Time.to.maturity</th>\n",
       "      <th>Risk.Free.Rate</th>\n",
       "      <th>Implied.Volatility</th>\n",
       "    </tr>\n",
       "  </thead>\n",
       "  <tbody>\n",
       "    <tr>\n",
       "      <th>0</th>\n",
       "      <td>C</td>\n",
       "      <td>2200</td>\n",
       "      <td>1059.0</td>\n",
       "      <td>0.008335</td>\n",
       "      <td>3259.0</td>\n",
       "      <td>0.213699</td>\n",
       "      <td>0.0154</td>\n",
       "      <td>0.338267</td>\n",
       "    </tr>\n",
       "    <tr>\n",
       "      <th>1</th>\n",
       "      <td>C</td>\n",
       "      <td>2250</td>\n",
       "      <td>1009.1</td>\n",
       "      <td>0.008335</td>\n",
       "      <td>3259.0</td>\n",
       "      <td>0.213699</td>\n",
       "      <td>0.0154</td>\n",
       "      <td>0.326829</td>\n",
       "    </tr>\n",
       "    <tr>\n",
       "      <th>2</th>\n",
       "      <td>C</td>\n",
       "      <td>2270</td>\n",
       "      <td>989.1</td>\n",
       "      <td>0.008335</td>\n",
       "      <td>3259.0</td>\n",
       "      <td>0.213699</td>\n",
       "      <td>0.0154</td>\n",
       "      <td>0.323456</td>\n",
       "    </tr>\n",
       "    <tr>\n",
       "      <th>3</th>\n",
       "      <td>C</td>\n",
       "      <td>2300</td>\n",
       "      <td>959.2</td>\n",
       "      <td>0.008335</td>\n",
       "      <td>3259.0</td>\n",
       "      <td>0.213699</td>\n",
       "      <td>0.0154</td>\n",
       "      <td>0.317834</td>\n",
       "    </tr>\n",
       "    <tr>\n",
       "      <th>4</th>\n",
       "      <td>C</td>\n",
       "      <td>2310</td>\n",
       "      <td>949.2</td>\n",
       "      <td>0.008335</td>\n",
       "      <td>3259.0</td>\n",
       "      <td>0.213699</td>\n",
       "      <td>0.0154</td>\n",
       "      <td>0.314282</td>\n",
       "    </tr>\n",
       "  </tbody>\n",
       "</table>\n",
       "</div>"
      ],
      "text/plain": [
       "  Put.Call  Strike.Price  Settlement  Historical Vol  futures.price  \\\n",
       "0        C          2200      1059.0        0.008335         3259.0   \n",
       "1        C          2250      1009.1        0.008335         3259.0   \n",
       "2        C          2270       989.1        0.008335         3259.0   \n",
       "3        C          2300       959.2        0.008335         3259.0   \n",
       "4        C          2310       949.2        0.008335         3259.0   \n",
       "\n",
       "   Time.to.maturity  Risk.Free.Rate  Implied.Volatility  \n",
       "0          0.213699          0.0154            0.338267  \n",
       "1          0.213699          0.0154            0.326829  \n",
       "2          0.213699          0.0154            0.323456  \n",
       "3          0.213699          0.0154            0.317834  \n",
       "4          0.213699          0.0154            0.314282  "
      ]
     },
     "execution_count": 2,
     "metadata": {},
     "output_type": "execute_result"
    }
   ],
   "source": [
    "ES_EZ = pd.read_csv('/Users/gaojinglun/Desktop/RSG/data/ES_EZ.csv')\n",
    "ES_EZ = ES_EZ.drop(['Unnamed: 0'], axis = 1)\n",
    "df = ES_EZ[['Put.Call', 'Strike.Price', 'Settlement', 'Historical Vol', \n",
    "            'futures.price', 'Time.to.maturity', 'Risk.Free.Rate', 'Implied.Volatility']]\n",
    "df = df.dropna()\n",
    "df.head()"
   ]
  },
  {
   "cell_type": "code",
   "execution_count": 3,
   "metadata": {},
   "outputs": [],
   "source": [
    "n_estimators = 10"
   ]
  },
  {
   "cell_type": "markdown",
   "metadata": {},
   "source": [
    "### Call Options"
   ]
  },
  {
   "cell_type": "code",
   "execution_count": 4,
   "metadata": {},
   "outputs": [
    {
     "name": "stdout",
     "output_type": "stream",
     "text": [
      "The number of ITM Call options is 6678\n",
      "The number of ATM Call options is 2223\n",
      "The number of OTM Call options is 4807\n"
     ]
    }
   ],
   "source": [
    "ES_EZ_call = df[df['Put.Call'] == 'C']\n",
    "Call_temp = 100 * ES_EZ_call['Strike.Price'].values / ES_EZ_call['futures.price'].values\n",
    "Call_ITM_idx = Call_temp < 95.2\n",
    "Call_ATM_idx = np.logical_and(Call_temp < 103, Call_temp >= 95.2)\n",
    "Call_OTM_idx = Call_temp > 103\n",
    "print('The number of ITM Call options is', np.sum(Call_ITM_idx))\n",
    "print('The number of ATM Call options is', np.sum(Call_ATM_idx))\n",
    "print('The number of OTM Call options is', np.sum(Call_OTM_idx))"
   ]
  },
  {
   "cell_type": "code",
   "execution_count": 5,
   "metadata": {},
   "outputs": [
    {
     "data": {
      "text/plain": [
       "(13708, 5)"
      ]
     },
     "execution_count": 5,
     "metadata": {},
     "output_type": "execute_result"
    }
   ],
   "source": [
    "# Add the moneyness indicator \n",
    "Call_moneyness = np.array(['ITM'] * ES_EZ_call.shape[0])\n",
    "Call_moneyness[Call_ATM_idx] = 'ATM'\n",
    "Call_moneyness[Call_OTM_idx] = 'OTM'\n",
    "\n",
    "ES_EZ_call_X = ES_EZ_call[['futures.price', 'Strike.Price', 'Time.to.maturity', \n",
    "                           'Risk.Free.Rate', 'Historical Vol']]\n",
    "ES_EZ_call_y = ES_EZ_call['Implied.Volatility']\n",
    "ES_EZ_call_X.shape"
   ]
  },
  {
   "cell_type": "code",
   "execution_count": 6,
   "metadata": {},
   "outputs": [],
   "source": [
    "ENN_Call = ENN(n_estimators = n_estimators)\n",
    "ENN_Call.bootstrap(data = ES_EZ_call, stratification = Call_moneyness, trainsize = 0.8)\n",
    "LR = [1e-2, 1e-3]\n",
    "xcol = ['futures.price', 'Strike.Price', 'Time.to.maturity', 'Risk.Free.Rate', 'Historical Vol']\n",
    "ycol = 'Implied.Volatility'\n",
    "ENN_Call.fit(LR, xcol, ycol)"
   ]
  },
  {
   "cell_type": "code",
   "execution_count": 7,
   "metadata": {},
   "outputs": [
    {
     "name": "stdout",
     "output_type": "stream",
     "text": [
      "The training R^2 for model 0 is 0.8885 and 0.8881, respectively\n",
      "The training R^2 for model 1 is 0.8787 and 0.8672, respectively\n",
      "The training R^2 for model 2 is 0.9115 and 0.8991, respectively\n",
      "The training R^2 for model 3 is 0.8693 and 0.8778, respectively\n",
      "The training R^2 for model 4 is 0.8876 and 0.8872, respectively\n",
      "The training R^2 for model 5 is 0.8959 and 0.8925, respectively\n",
      "The training R^2 for model 6 is 0.9549 and 0.9539, respectively\n",
      "The training R^2 for model 7 is 0.9326 and 0.9165, respectively\n",
      "The training R^2 for model 8 is 0.9382 and 0.9347, respectively\n",
      "The training R^2 for model 9 is 0.9213 and 0.9255, respectively\n"
     ]
    }
   ],
   "source": [
    "ENN_Call.get_results()"
   ]
  },
  {
   "cell_type": "code",
   "execution_count": 8,
   "metadata": {},
   "outputs": [
    {
     "name": "stdout",
     "output_type": "stream",
     "text": [
      "The training R^2 for call option is 0.9078 +/- 0.0268.\n",
      "The testing R^2 for call option is 0.9042 +/- 0.026.\n"
     ]
    }
   ],
   "source": [
    "print('The training R^2 for call option is {} +/- {}.'.format(np.round(np.mean(ENN_Call.results[:,0]), 4), \n",
    "                                                          np.round(np.std(ENN_Call.results[:,0]), 4)))\n",
    "print('The testing R^2 for call option is {} +/- {}.'.format(np.round(np.mean(ENN_Call.results[:,1]), 4), \n",
    "                                                          np.round(np.std(ENN_Call.results[:,1]), 4)))"
   ]
  },
  {
   "cell_type": "code",
   "execution_count": 9,
   "metadata": {},
   "outputs": [
    {
     "data": {
      "text/plain": [
       "array([[0.8885, 0.8881],\n",
       "       [0.8787, 0.8672],\n",
       "       [0.9115, 0.8991],\n",
       "       [0.8693, 0.8778],\n",
       "       [0.8876, 0.8872],\n",
       "       [0.8959, 0.8925],\n",
       "       [0.9549, 0.9539],\n",
       "       [0.9326, 0.9165],\n",
       "       [0.9382, 0.9347],\n",
       "       [0.9213, 0.9255]])"
      ]
     },
     "execution_count": 9,
     "metadata": {},
     "output_type": "execute_result"
    }
   ],
   "source": [
    "ENN_Call.results"
   ]
  },
  {
   "cell_type": "code",
   "execution_count": 10,
   "metadata": {},
   "outputs": [],
   "source": [
    "scalerX_call = MinMaxScaler().fit(ES_EZ_call_X)\n",
    "ES_EZ_call_X = pd.DataFrame(scalerX_call.transform(ES_EZ_call_X), columns = ES_EZ_call_X.columns.values) \n",
    "scalery_call = MinMaxScaler().fit(ES_EZ_call_y.values.reshape(-1, 1))\n",
    "ES_EZ_call_y = scalery_call.transform(ES_EZ_call_y.values.reshape(-1, 1))"
   ]
  },
  {
   "cell_type": "code",
   "execution_count": 11,
   "metadata": {},
   "outputs": [
    {
     "data": {
      "text/plain": [
       "0.9365"
      ]
     },
     "execution_count": 11,
     "metadata": {},
     "output_type": "execute_result"
    }
   ],
   "source": [
    "np.round(r2_score(ES_EZ_call_y, ENN_Call.predict(ES_EZ_call_X)), 4)"
   ]
  },
  {
   "cell_type": "markdown",
   "metadata": {},
   "source": [
    "### Put Options"
   ]
  },
  {
   "cell_type": "code",
   "execution_count": 12,
   "metadata": {},
   "outputs": [
    {
     "name": "stdout",
     "output_type": "stream",
     "text": [
      "The number of ITM Call options is 3123\n",
      "The number of ATM Call options is 2234\n",
      "The number of OTM Call options is 10906\n"
     ]
    }
   ],
   "source": [
    "ES_EZ_put = df[df['Put.Call'] == 'P']\n",
    "Put_temp = 100 * ES_EZ_put['Strike.Price'].values / ES_EZ_put['futures.price'].values\n",
    "Put_ITM_idx = Put_temp > 103\n",
    "Put_ATM_idx = np.logical_and(Put_temp < 103, Put_temp >= 95.2)\n",
    "Put_OTM_idx = Put_temp < 95.2\n",
    "print('The number of ITM Call options is', np.sum(Put_ITM_idx))\n",
    "print('The number of ATM Call options is', np.sum(Put_ATM_idx))\n",
    "print('The number of OTM Call options is', np.sum(Put_OTM_idx))"
   ]
  },
  {
   "cell_type": "code",
   "execution_count": 13,
   "metadata": {},
   "outputs": [
    {
     "data": {
      "text/plain": [
       "(16263, 5)"
      ]
     },
     "execution_count": 13,
     "metadata": {},
     "output_type": "execute_result"
    }
   ],
   "source": [
    "# Add the moneyness indicator \n",
    "Put_moneyness = np.array(['ITM'] * ES_EZ_put.shape[0])\n",
    "Put_moneyness[Put_ATM_idx] = 'ATM'\n",
    "Put_moneyness[Put_OTM_idx] = 'OTM'\n",
    "\n",
    "ES_EZ_put_X = ES_EZ_put[['futures.price', 'Strike.Price', 'Time.to.maturity', \n",
    "                           'Risk.Free.Rate', 'Historical Vol']]\n",
    "ES_EZ_put_y = ES_EZ_put['Implied.Volatility']\n",
    "ES_EZ_put_X.shape"
   ]
  },
  {
   "cell_type": "code",
   "execution_count": 14,
   "metadata": {},
   "outputs": [],
   "source": [
    "ENN_Put = ENN(n_estimators = n_estimators)\n",
    "ENN_Put.bootstrap(data = ES_EZ_put, stratification = Put_moneyness, trainsize = 0.8)\n",
    "LR = [1e-2, 1e-3]\n",
    "xcol = ['futures.price', 'Strike.Price', 'Time.to.maturity', 'Risk.Free.Rate', 'Historical Vol']\n",
    "ycol = 'Implied.Volatility'\n",
    "ENN_Put.fit(LR, xcol, ycol)"
   ]
  },
  {
   "cell_type": "code",
   "execution_count": 15,
   "metadata": {},
   "outputs": [
    {
     "name": "stdout",
     "output_type": "stream",
     "text": [
      "The training R^2 for model 0 is 0.9492 and 0.9442, respectively\n",
      "The training R^2 for model 1 is 0.9467 and 0.9448, respectively\n",
      "The training R^2 for model 2 is 0.9565 and 0.9559, respectively\n",
      "The training R^2 for model 3 is 0.9507 and 0.9483, respectively\n",
      "The training R^2 for model 4 is 0.9511 and 0.9443, respectively\n",
      "The training R^2 for model 5 is 0.8906 and 0.8862, respectively\n",
      "The training R^2 for model 6 is 0.9346 and 0.9322, respectively\n",
      "The training R^2 for model 7 is 0.9483 and 0.946, respectively\n",
      "The training R^2 for model 8 is 0.9477 and 0.9464, respectively\n",
      "The training R^2 for model 9 is 0.9166 and 0.9159, respectively\n"
     ]
    }
   ],
   "source": [
    "ENN_Put.get_results()"
   ]
  },
  {
   "cell_type": "code",
   "execution_count": 16,
   "metadata": {},
   "outputs": [
    {
     "name": "stdout",
     "output_type": "stream",
     "text": [
      "The training R^2 for put option is 0.9392 +/- 0.0194.\n",
      "The testing R^2 for put option is 0.9364 +/- 0.0197.\n"
     ]
    }
   ],
   "source": [
    "print('The training R^2 for put option is {} +/- {}.'.format(np.round(np.mean(ENN_Put.results[:,0]), 4), \n",
    "                                                          np.round(np.std(ENN_Put.results[:,0]), 4)))\n",
    "print('The testing R^2 for put option is {} +/- {}.'.format(np.round(np.mean(ENN_Put.results[:,1]), 4), \n",
    "                                                          np.round(np.std(ENN_Put.results[:,1]), 4)))"
   ]
  },
  {
   "cell_type": "code",
   "execution_count": 17,
   "metadata": {},
   "outputs": [
    {
     "data": {
      "text/plain": [
       "array([[0.9492, 0.9442],\n",
       "       [0.9467, 0.9448],\n",
       "       [0.9565, 0.9559],\n",
       "       [0.9507, 0.9483],\n",
       "       [0.9511, 0.9443],\n",
       "       [0.8906, 0.8862],\n",
       "       [0.9346, 0.9322],\n",
       "       [0.9483, 0.946 ],\n",
       "       [0.9477, 0.9464],\n",
       "       [0.9166, 0.9159]])"
      ]
     },
     "execution_count": 17,
     "metadata": {},
     "output_type": "execute_result"
    }
   ],
   "source": [
    "ENN_Put.results"
   ]
  },
  {
   "cell_type": "code",
   "execution_count": 18,
   "metadata": {},
   "outputs": [],
   "source": [
    "scalerX_put = MinMaxScaler().fit(ES_EZ_put_X)\n",
    "ES_EZ_put_X = pd.DataFrame(scalerX_put.transform(ES_EZ_put_X), columns = ES_EZ_put_X.columns.values) \n",
    "scalery_put = MinMaxScaler().fit(ES_EZ_put_y.values.reshape(-1, 1))\n",
    "ES_EZ_put_y = scalery_put.transform(ES_EZ_put_y.values.reshape(-1, 1))"
   ]
  },
  {
   "cell_type": "code",
   "execution_count": 19,
   "metadata": {},
   "outputs": [
    {
     "data": {
      "text/plain": [
       "0.9596"
      ]
     },
     "execution_count": 19,
     "metadata": {},
     "output_type": "execute_result"
    }
   ],
   "source": [
    "np.round(r2_score(ES_EZ_put_y, ENN_Put.predict(ES_EZ_put_X)), 4)"
   ]
  },
  {
   "cell_type": "markdown",
   "metadata": {},
   "source": [
    "### Summary"
   ]
  },
  {
   "cell_type": "code",
   "execution_count": 20,
   "metadata": {},
   "outputs": [],
   "source": [
    "Call_ITM = ES_EZ_call['Settlement'][Call_ITM_idx]\n",
    "Call_ATM = ES_EZ_call['Settlement'][Call_ATM_idx]\n",
    "Call_OTM = ES_EZ_call['Settlement'][Call_OTM_idx]\n",
    "Call_ALL = ES_EZ_call['Settlement']\n",
    "\n",
    "Put_ITM = ES_EZ_put['Settlement'][Put_ITM_idx]\n",
    "Put_ATM = ES_EZ_put['Settlement'][Put_ATM_idx]\n",
    "Put_OTM = ES_EZ_put['Settlement'][Put_OTM_idx]\n",
    "Put_ALL = ES_EZ_put['Settlement']\n",
    "\n",
    "def Call_Results(Call_Pred):\n",
    "    '''\n",
    "    Get the results for Call options (TIM, ATM, OTM, and Overall) in terms of the R^2 \n",
    "    '''\n",
    "    return (\n",
    "        np.round(r2_score(Call_ITM, Call_Pred[Call_ITM_idx]), 5),\n",
    "        np.round(r2_score(Call_ATM, Call_Pred[Call_ATM_idx]), 5),\n",
    "        np.round(r2_score(Call_OTM, Call_Pred[Call_OTM_idx]), 5),\n",
    "        np.round(r2_score(Call_ALL, Call_Pred), 5)\n",
    "    )\n",
    "\n",
    "def Put_Results(Put_Pred):\n",
    "    '''\n",
    "    Get the results for Put options (TIM, ATM, OTM, and Overall) in terms of the R^2 \n",
    "    '''\n",
    "    return (\n",
    "        np.round(r2_score(Put_ITM, Put_Pred[Put_ITM_idx]), 5),\n",
    "        np.round(r2_score(Put_ATM, Put_Pred[Put_ATM_idx]), 5),\n",
    "        np.round(r2_score(Put_OTM, Put_Pred[Put_OTM_idx]), 5),\n",
    "        np.round(r2_score(Put_ALL, Put_Pred), 5)   \n",
    "    )"
   ]
  },
  {
   "cell_type": "code",
   "execution_count": 21,
   "metadata": {},
   "outputs": [],
   "source": [
    "ENN_call = scalery_call.inverse_transform(ENN_Call.predict(ES_EZ_call_X))\n",
    "ENN_put = scalery_put.inverse_transform(ENN_Put.predict(ES_EZ_put_X))"
   ]
  },
  {
   "cell_type": "code",
   "execution_count": 22,
   "metadata": {},
   "outputs": [
    {
     "name": "stdout",
     "output_type": "stream",
     "text": [
      "The total variance explained by BS is 0.99868 for the Call Options\n",
      "The total variance explained by BS is 0.99651 for the Put Options\n"
     ]
    }
   ],
   "source": [
    "# Test the performances of ENN \n",
    "ENN_Call_Pred = black_scholes_call_option(\n",
    "    ES_EZ_call['futures.price'], \n",
    "    ES_EZ_call['Strike.Price'], \n",
    "    ES_EZ_call['Time.to.maturity'], \n",
    "    np.zeros(ES_EZ_call.shape[0]), \n",
    "    ES_EZ_call['Risk.Free.Rate'], \n",
    "    ENN_call.reshape(-1)\n",
    ")\n",
    "ENN_PUT_Pred = black_scholes_put_option(\n",
    "    ES_EZ_put['futures.price'], \n",
    "    ES_EZ_put['Strike.Price'], \n",
    "    ES_EZ_put['Time.to.maturity'], \n",
    "    np.zeros(ES_EZ_put.shape[0]), \n",
    "    ES_EZ_put['Risk.Free.Rate'], \n",
    "    ENN_put.reshape(-1)\n",
    ")\n",
    "\n",
    "print('The total variance explained by BS is {} for the Call Options'.format(\n",
    "    np.round(r2_score(ES_EZ_call['Settlement'], ENN_Call_Pred), 5))\n",
    "     )\n",
    "print('The total variance explained by BS is {} for the Put Options'.format(\n",
    "    np.round(r2_score(ES_EZ_put['Settlement'], ENN_PUT_Pred), 5))\n",
    "     )"
   ]
  },
  {
   "cell_type": "code",
   "execution_count": 23,
   "metadata": {},
   "outputs": [
    {
     "data": {
      "text/plain": [
       "(0.99826, 0.95193, 0.9297, 0.99868)"
      ]
     },
     "execution_count": 23,
     "metadata": {},
     "output_type": "execute_result"
    }
   ],
   "source": [
    "Call_Results(ENN_Call_Pred)"
   ]
  },
  {
   "cell_type": "code",
   "execution_count": 24,
   "metadata": {},
   "outputs": [
    {
     "data": {
      "text/plain": [
       "(0.9948, 0.95646, 0.97637, 0.99651)"
      ]
     },
     "execution_count": 24,
     "metadata": {},
     "output_type": "execute_result"
    }
   ],
   "source": [
    "Put_Results(ENN_PUT_Pred)"
   ]
  }
 ],
 "metadata": {
  "hide_input": false,
  "kernelspec": {
   "display_name": "Python 3",
   "language": "python",
   "name": "python3"
  },
  "language_info": {
   "codemirror_mode": {
    "name": "ipython",
    "version": 3
   },
   "file_extension": ".py",
   "mimetype": "text/x-python",
   "name": "python",
   "nbconvert_exporter": "python",
   "pygments_lexer": "ipython3",
   "version": "3.8.3"
  }
 },
 "nbformat": 4,
 "nbformat_minor": 4
}
