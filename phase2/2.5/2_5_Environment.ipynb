{
 "cells": [
  {
   "cell_type": "code",
   "execution_count": 1,
   "metadata": {
    "id": "fGSwTdgPaWYu"
   },
   "outputs": [],
   "source": [
    "import numpy as np\n",
    "import pandas as pd\n",
    "import pickle\n",
    "import gym\n",
    "from google.colab import files\n",
    "import tensorflow as tf\n",
    "from tensorflow import keras\n",
    "\n",
    "# https://github.com/openai/gym/tree/master/gym/spaces"
   ]
  },
  {
   "cell_type": "code",
   "execution_count": 1,
   "metadata": {
    "colab": {
     "base_uri": "https://localhost:8080/",
     "height": 323,
     "resources": {
      "http://localhost:8080/nbextensions/google.colab/files.js": {
       "data": "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",
       "headers": [
        [
         "content-type",
         "application/javascript"
        ]
       ],
       "ok": true,
       "status": 200,
       "status_text": ""
      }
     }
    },
    "id": "e7C_PzIhbJYz",
    "outputId": "800cff4a-83b2-44fe-b2bd-52f242b8cccf"
   },
   "outputs": [],
   "source": [
    "# files.upload()"
   ]
  },
  {
   "cell_type": "code",
   "execution_count": 3,
   "metadata": {
    "id": "M8FKqh8nKuKy"
   },
   "outputs": [],
   "source": [
    "Call_model = tf.keras.models.load_model('2.5Call_LR0.0001.h5')\n",
    "Call_data = pd.read_csv(\"Call_data.csv\")\n",
    "SPY = pd.read_csv(\"SPY.csv\")"
   ]
  },
  {
   "cell_type": "code",
   "execution_count": 2,
   "metadata": {
    "colab": {
     "base_uri": "https://localhost:8080/"
    },
    "id": "5qCPZbuDZq6o",
    "outputId": "ee697ece-f646-4fc0-a6a5-3621664b6529"
   },
   "outputs": [],
   "source": [
    "# pickle_in = open(\"scalerX.pickle\",\"rb\")\n",
    "# scalerX = pickle.load(pickle_in)\n",
    "# pickle_in = open(\"scalery.pickle\",\"rb\")\n",
    "# scalery = pickle.load(pickle_in)"
   ]
  },
  {
   "cell_type": "code",
   "execution_count": 5,
   "metadata": {
    "id": "txEZNL4g4yJX"
   },
   "outputs": [],
   "source": [
    "class OptionsTradingEnv(gym.Env):\n",
    "    \"\"\"\n",
    "    An Options trading environment for OpenAI gym\n",
    "    \"\"\"\n",
    "    # - human: render to the current display or terminal and return nothing. \n",
    "    # Usually for human consumption.\n",
    "    metadata = {'render.modes': ['human']}\n",
    "\n",
    "    def __init__(self, df1, df2):\n",
    "        super(OptionsTradingEnv, self).__init__()\n",
    "        self.df = df1\n",
    "        self.contract_days = len(df1['START_DATE'].unique())\n",
    "        self.days = df2['Date'].values\n",
    "        self.underlying_asset_price = df2['Close'].values\n",
    "\n",
    "    # private method\n",
    "    def _next_observation(self): \n",
    "        if self.current_step < len(self.days):\n",
    "            # Get the Options chain \n",
    "            observation = self.df[self.df['START_DATE'] == self.days[self.current_step]]\n",
    "            self.observation = observation\n",
    "\n",
    "            return observation\n",
    "        else:\n",
    "            return\n",
    "\n",
    "    def _take_action(self, action):\n",
    "        # # action in dict type with keys buy and sell\n",
    "        # contracts_to_buy = action['Buy']\n",
    "        # contracts_to_sell = action['Sell']\n",
    "        if len(action) != 0:\n",
    "            for i in range(len(action)):\n",
    "                # Assume the bought price is the ask price\n",
    "                options_price = self.observation['ASK'].iloc[action[i]]\n",
    "                if self.balance >= options_price:\n",
    "                    contract = {\n",
    "                        'START_DATE': self.observation['START_DATE'].iloc[action[i]],\n",
    "                        'END_DATE': self.observation['END_DATE'].iloc[action[i]],\n",
    "                        'SKRIKE': self.observation['SKRIKE'].iloc[action[i]],\n",
    "                        'ASK': options_price,\n",
    "                        'OPTIONS_VALUE': self.underlying_asset_price[self.current_step] - self.observation['SKRIKE'].iloc[action[i]]\n",
    "                    }\n",
    "                    self.Bought_contracts.append(contract)\n",
    "                    self.balance -= options_price\n",
    "\n",
    "    def step(self, action):\n",
    "        number_of_contracts = len(self.Bought_contracts)\n",
    "        contracts_to_sell = []\n",
    "        if number_of_contracts > 0:\n",
    "            for i in range(number_of_contracts):\n",
    "                # Profit for call options\n",
    "                profit = max(0, self.underlying_asset_price[self.current_step] - self.Bought_contracts[i]['SKRIKE'])       \n",
    "                self.Bought_contracts[i]['OPTIONS_VALUE'] = profit\n",
    "                if self.Bought_contracts[i]['END_DATE'] == self.days[self.current_step]:\n",
    "                    # This is at the expiration date\n",
    "                    self.balance += profit\n",
    "                    # Delete the contract from the list\n",
    "                    contracts_to_sell.append(i)\n",
    "                elif profit - self.Bought_contracts[i]['ASK'] > 0:\n",
    "                    # Exercise the contract with probability ACT_RATE\n",
    "                    if np.random.binomial(n = 1, p = self.act_rate) == 1:\n",
    "                        self.balance += profit\n",
    "                        contracts_to_sell.append(i)\n",
    " \n",
    "        # Delete all the exercised contracts\n",
    "        self.Bought_contracts = [self.Bought_contracts[i] for i in range(number_of_contracts) if i not in contracts_to_sell]\n",
    "        # Calculate the net worth\n",
    "        self.net_worth = self.balance + np.sum([self.Bought_contracts[i]['OPTIONS_VALUE'] for i in range(len(self.Bought_contracts))])\n",
    "\n",
    "        done = self.net_worth <= 0\n",
    "\n",
    "        # Execute one time step within the environment\n",
    "        self._take_action(action)\n",
    "        self.current_step += 1\n",
    "\n",
    "        if self.current_step >= self.contract_days and len(self.Bought_contracts) == 0:\n",
    "            # print('We are done here')\n",
    "            done = True\n",
    "            return [], self.net_worth, done\n",
    "        else:\n",
    "            return self._next_observation(), self.net_worth, done\n",
    "\n",
    "    def reset(self):\n",
    "        # Reset the state of the environment to an initial state\n",
    "        self.balance = INITIAL_ACCOUNT_BALANCE\n",
    "        self.net_worth = INITIAL_ACCOUNT_BALANCE\n",
    "        self.act_rate = ACT_RATE\n",
    "\n",
    "        # Set the current step to 0\n",
    "        self.current_step = 0\n",
    "        self.Bought_contracts = []\n",
    "\n",
    "        return self._next_observation()\n",
    "\n",
    "    def render(self, mode = 'human', show = False):\n",
    "        # Render the environment to the screen\n",
    "        print('The current step is', self.current_step)\n",
    "        print('Todays clos price is', self.underlying_asset_price[self.current_step])\n",
    "        print('Hold contracts', self.Bought_contracts)\n",
    "        print('The balance is', self.balance)\n",
    "        print('The current net worth is', self.net_worth)\n",
    "        print('-----------------------------------------------------------------------------------')"
   ]
  },
  {
   "cell_type": "code",
   "execution_count": 6,
   "metadata": {
    "id": "KAlrMCMB6JuL"
   },
   "outputs": [],
   "source": [
    "INITIAL_ACCOUNT_BALANCE = 1000\n",
    "Features = ['UNDERLYING', 'SKRIKE', 'MATURITY', 'DELTA', 'BID', 'ASK', 'IMPLIED_VOL', 'LIQUIDITY', 'INTEREST_RATE']\n",
    "\n",
    "profit_list = []\n",
    "for ACT_RATE in np.arange(0.05, 1, 0.05):\n",
    "    profit = []\n",
    "    for _ in range(20):\n",
    "        Env = OptionsTradingEnv(Call_data, SPY)\n",
    "        cur_state = Env.reset()\n",
    "        done = False\n",
    "        while not done:\n",
    "            # Env.render()\n",
    "            if Env.current_step < Env.contract_days:\n",
    "                # Predict the call options prices\n",
    "                X = scalerX.transform(cur_state[Features].values)\n",
    "                Options_price_pred = scalery.inverse_transform(Call_model.predict(X))\n",
    "                # Buy undervalued call options\n",
    "                price_diff = Options_price_pred.reshape(-1) - cur_state['ASK'].values\n",
    "                if sum(price_diff > 0) > 5:\n",
    "                    action = np.argsort(price_diff)[::-1][:5]\n",
    "                else:\n",
    "                    action = np.argsort(price_diff)[::-1][:sum(price_diff > 0)]\n",
    "            else:\n",
    "                action = []\n",
    "            cur_state, NETWORTH, done = Env.step(action)\n",
    "        profit.append(Env.net_worth - INITIAL_ACCOUNT_BALANCE)\n",
    "    profit_list.append((np.mean(profit), np.std(profit)))"
   ]
  },
  {
   "cell_type": "code",
   "execution_count": 7,
   "metadata": {
    "colab": {
     "base_uri": "https://localhost:8080/"
    },
    "id": "zXCrg7o7ZsI0",
    "outputId": "4f7131a1-a19e-4391-ad5f-324d0d7c6f70"
   },
   "outputs": [
    {
     "name": "stdout",
     "output_type": "stream",
     "text": [
      "When the exercise rate is 0.05, the mean profit is -9.08, with a std of 6.63.\n",
      "When the exercise rate is 0.1, the mean profit is -15.26, with a std of 7.07.\n",
      "When the exercise rate is 0.15, the mean profit is -18.94, with a std of 6.82.\n",
      "When the exercise rate is 0.2, the mean profit is -23.98, with a std of 6.34.\n",
      "When the exercise rate is 0.25, the mean profit is -26.97, with a std of 5.61.\n",
      "When the exercise rate is 0.3, the mean profit is -32.24, with a std of 3.78.\n",
      "When the exercise rate is 0.35, the mean profit is -35.47, with a std of 4.41.\n",
      "When the exercise rate is 0.4, the mean profit is -37.01, with a std of 5.94.\n",
      "When the exercise rate is 0.45, the mean profit is -37.91, with a std of 4.4.\n",
      "When the exercise rate is 0.5, the mean profit is -39.37, with a std of 3.4.\n",
      "When the exercise rate is 0.55, the mean profit is -40.03, with a std of 2.98.\n",
      "When the exercise rate is 0.6, the mean profit is -40.79, with a std of 3.16.\n",
      "When the exercise rate is 0.65, the mean profit is -42.38, with a std of 2.86.\n",
      "When the exercise rate is 0.7, the mean profit is -41.36, with a std of 2.14.\n",
      "When the exercise rate is 0.75, the mean profit is -42.67, with a std of 1.59.\n",
      "When the exercise rate is 0.8, the mean profit is -43.67, with a std of 1.74.\n",
      "When the exercise rate is 0.85, the mean profit is -43.9, with a std of 1.5.\n",
      "When the exercise rate is 0.9, the mean profit is -43.55, with a std of 2.16.\n",
      "When the exercise rate is 0.95, the mean profit is -44.18, with a std of 1.2.\n"
     ]
    }
   ],
   "source": [
    "for i in range(len(np.arange(0.05, 1, 0.05))):\n",
    "    print('When the exercise rate is {}, the mean profit is {}, with a std of {}.'.format(np.round(np.arange(0.05, 1, 0.05)[i], 2), \n",
    "                                                                                          np.round(profit_list[i][0], 2), \n",
    "                                                                                          np.round(profit_list[i][1], 2)))"
   ]
  },
  {
   "cell_type": "code",
   "execution_count": 8,
   "metadata": {
    "id": "3OBeVOCv0frV"
   },
   "outputs": [],
   "source": [
    "profit_list = []\n",
    "for ACT_RATE in np.arange(0.05, 1, 0.05):\n",
    "    profit = []\n",
    "    for _ in range(20):\n",
    "        Env = OptionsTradingEnv(Call_data, SPY)\n",
    "        cur_state = Env.reset()\n",
    "        done = False\n",
    "        while not done:\n",
    "            if Env.current_step < Env.contract_days:\n",
    "                action = np.random.choice(np.arange(cur_state.shape[0]), size = 5, replace = False)\n",
    "            else:\n",
    "                action = []\n",
    "            cur_state, NETWORTH, done = Env.step(action)\n",
    "            # Env.render()\n",
    "        profit.append(Env.net_worth - INITIAL_ACCOUNT_BALANCE)\n",
    "    profit_list.append((np.mean(profit), np.std(profit)))\n",
    "# profit_list"
   ]
  },
  {
   "cell_type": "code",
   "execution_count": 9,
   "metadata": {
    "colab": {
     "base_uri": "https://localhost:8080/"
    },
    "id": "jiavW-H-VTnf",
    "outputId": "d854446a-ab7f-4ae0-9422-8c7864fc04ae"
   },
   "outputs": [
    {
     "name": "stdout",
     "output_type": "stream",
     "text": [
      "When the exercise rate is 0.05, the mean profit is -477.12, with a std of 64.9.\n",
      "When the exercise rate is 0.1, the mean profit is -459.02, with a std of 28.94.\n",
      "When the exercise rate is 0.15, the mean profit is -478.82, with a std of 50.71.\n",
      "When the exercise rate is 0.2, the mean profit is -465.51, with a std of 52.89.\n",
      "When the exercise rate is 0.25, the mean profit is -478.32, with a std of 57.76.\n",
      "When the exercise rate is 0.3, the mean profit is -479.64, with a std of 55.33.\n",
      "When the exercise rate is 0.35, the mean profit is -486.89, with a std of 44.67.\n",
      "When the exercise rate is 0.4, the mean profit is -461.39, with a std of 63.22.\n",
      "When the exercise rate is 0.45, the mean profit is -471.95, with a std of 41.21.\n",
      "When the exercise rate is 0.5, the mean profit is -466.5, with a std of 60.04.\n",
      "When the exercise rate is 0.55, the mean profit is -474.95, with a std of 58.15.\n",
      "When the exercise rate is 0.6, the mean profit is -496.55, with a std of 61.55.\n",
      "When the exercise rate is 0.65, the mean profit is -495.68, with a std of 42.85.\n",
      "When the exercise rate is 0.7, the mean profit is -491.63, with a std of 58.78.\n",
      "When the exercise rate is 0.75, the mean profit is -465.1, with a std of 42.1.\n",
      "When the exercise rate is 0.8, the mean profit is -481.94, with a std of 48.82.\n",
      "When the exercise rate is 0.85, the mean profit is -478.2, with a std of 46.29.\n",
      "When the exercise rate is 0.9, the mean profit is -488.35, with a std of 59.35.\n",
      "When the exercise rate is 0.95, the mean profit is -506.77, with a std of 43.95.\n"
     ]
    }
   ],
   "source": [
    "for i in range(len(np.arange(0.05, 1, 0.05))):\n",
    "    print('When the exercise rate is {}, the mean profit is {}, with a std of {}.'.format(np.round(np.arange(0.05, 1, 0.05)[i], 2), \n",
    "                                                                                          np.round(profit_list[i][0], 2), \n",
    "                                                                                          np.round(profit_list[i][1], 2)))"
   ]
  },
  {
   "cell_type": "code",
   "execution_count": 9,
   "metadata": {
    "id": "ojlvc-WIavLZ"
   },
   "outputs": [],
   "source": []
  }
 ],
 "metadata": {
  "colab": {
   "collapsed_sections": [],
   "name": "2.5 Environment.ipynb",
   "provenance": []
  },
  "hide_input": false,
  "kernelspec": {
   "display_name": "Python 3",
   "language": "python",
   "name": "python3"
  },
  "language_info": {
   "codemirror_mode": {
    "name": "ipython",
    "version": 3
   },
   "file_extension": ".py",
   "mimetype": "text/x-python",
   "name": "python",
   "nbconvert_exporter": "python",
   "pygments_lexer": "ipython3",
   "version": "3.8.3"
  }
 },
 "nbformat": 4,
 "nbformat_minor": 1
}
