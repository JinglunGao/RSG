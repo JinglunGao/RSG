{
 "cells": [
  {
   "cell_type": "code",
   "execution_count": 1,
   "metadata": {
    "id": "fGSwTdgPaWYu"
   },
   "outputs": [],
   "source": [
    "import numpy as np\n",
    "import pandas as pd\n",
    "import pickle\n",
    "import gym\n",
    "from google.colab import files\n",
    "import tensorflow as tf\n",
    "from tensorflow import keras\n",
    "\n",
    "# https://github.com/openai/gym/tree/master/gym/spaces"
   ]
  },
  {
   "cell_type": "code",
   "execution_count": 1,
   "metadata": {
    "colab": {
     "base_uri": "https://localhost:8080/",
     "height": 270,
     "resources": {
      "http://localhost:8080/nbextensions/google.colab/files.js": {
       "data": "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",
       "headers": [
        [
         "content-type",
         "application/javascript"
        ]
       ],
       "ok": true,
       "status": 200,
       "status_text": ""
      }
     }
    },
    "id": "e7C_PzIhbJYz",
    "outputId": "a3c9322f-18a7-49b1-95df-6918578faef0"
   },
   "outputs": [],
   "source": [
    "# files.upload()"
   ]
  },
  {
   "cell_type": "code",
   "execution_count": 2,
   "metadata": {
    "colab": {
     "base_uri": "https://localhost:8080/"
    },
    "id": "5qCPZbuDZq6o",
    "outputId": "763eb4d9-9b42-40d7-ea06-a7f637626f2d"
   },
   "outputs": [],
   "source": [
    "# pickle_in = open(\"scalerX.pickle\",\"rb\")\n",
    "# scalerX = pickle.load(pickle_in)\n",
    "# pickle_in = open(\"scalery.pickle\",\"rb\")\n",
    "# scalery = pickle.load(pickle_in)"
   ]
  },
  {
   "cell_type": "code",
   "execution_count": 4,
   "metadata": {
    "id": "M8FKqh8nKuKy"
   },
   "outputs": [],
   "source": [
    "Call_model = tf.keras.models.load_model('2.5Call_LR0.01.h5')\n",
    "Call_data = pd.read_csv(\"Call_data.csv\")"
   ]
  },
  {
   "cell_type": "code",
   "execution_count": 5,
   "metadata": {
    "id": "txEZNL4g4yJX"
   },
   "outputs": [],
   "source": [
    "class OptionsTradingEnv(gym.Env):\n",
    "    \"\"\"\n",
    "    An Options trading environment for OpenAI gym\n",
    "    \"\"\"\n",
    "    # - human: render to the current display or terminal and return nothing. \n",
    "    # Usually for human consumption.\n",
    "    metadata = {'render.modes': ['human']}\n",
    "\n",
    "    def __init__(self, df):\n",
    "        super(OptionsTradingEnv, self).__init__()\n",
    "        self.df = df\n",
    "        self.days = df['START_DATE'].unique()\n",
    "        self.underlying_asset_price = df['UNDERLYING'].unique()\n",
    "\n",
    "    # private method\n",
    "    def _next_observation(self): \n",
    "        # Get the Options chain \n",
    "        observation = self.df[self.df['START_DATE'] == self.days[self.current_step]]\n",
    "        self.observation = observation\n",
    "\n",
    "        return observation\n",
    "\n",
    "    def _take_action(self, action):\n",
    "        # # action in dict type with keys buy and sell\n",
    "        # contracts_to_buy = action['Buy']\n",
    "        # contracts_to_sell = action['Sell']\n",
    "        for i in range(len(action)):\n",
    "            # Assume the bought price is the ask price\n",
    "            options_price = self.observation['ASK'].iloc[action[i]]\n",
    "            if self.balance >= options_price:\n",
    "                contract = {\n",
    "                    'START_DATE': self.observation['START_DATE'].iloc[action[i]],\n",
    "                    'SKRIKE': self.observation['SKRIKE'].iloc[action[i]],\n",
    "                    'ASK': options_price,\n",
    "                    'END_DATE': self.observation['END_DATE'].iloc[action[i]]\n",
    "                }\n",
    "                self.Bought_contracts.append(contract)\n",
    "                self.balance -= options_price\n",
    "\n",
    "    def step(self, action):\n",
    "        # Execute one time step within the environment\n",
    "        self._take_action(action)\n",
    "        self.current_step += 1\n",
    "\n",
    "        if self.current_step >= len(self.days):\n",
    "            done = True\n",
    "            return [], self.net_worth, done\n",
    "        \n",
    "        number_of_contracts = len(self.Bought_contracts)\n",
    "        contracts_to_sell = []\n",
    "        contracts_profit = 0\n",
    "        if number_of_contracts > 0:\n",
    "            for i in range(number_of_contracts):\n",
    "                # Profit for call options\n",
    "                profit = max(0, self.underlying_asset_price[self.current_step] - self.Bought_contracts[i]['SKRIKE'])\n",
    "                if self.Bought_contracts[i]['END_DATE'] == self.days[self.current_step]:\n",
    "                    # This is at the expiration date\n",
    "                    self.balance += profit\n",
    "                    # Delete the contract from the list\n",
    "                    contracts_to_sell.append(i)\n",
    "                elif profit - self.Bought_contracts[i]['ASK'] > 0:\n",
    "                    # Exercise the contract with probability ACT_RATE\n",
    "                    if np.random.binomial(n = 1, p = self.act_rate) == 1:\n",
    "                        self.balance += profit\n",
    "                        contracts_to_sell.append(i)\n",
    "                else:\n",
    "                    contracts_profit += profit\n",
    " \n",
    "        self.net_worth = self.balance + contracts_profit\n",
    "        # Delete all the exercised contracts\n",
    "        self.Bought_contracts = [self.Bought_contracts[i] for i in range(number_of_contracts) if i not in contracts_to_sell]\n",
    "\n",
    "        done = self.net_worth <= 0\n",
    "        obs = self._next_observation()\n",
    "\n",
    "        return obs, self.net_worth, done\n",
    "\n",
    "    def reset(self):\n",
    "        # Reset the state of the environment to an initial state\n",
    "        self.balance = INITIAL_ACCOUNT_BALANCE\n",
    "        self.net_worth = INITIAL_ACCOUNT_BALANCE\n",
    "        self.act_rate = ACT_RATE\n",
    "\n",
    "        # Set the current step to 0\n",
    "        self.current_step = 0\n",
    "        self.Bought_contracts = []\n",
    "\n",
    "        return self._next_observation()\n",
    "\n",
    "    def render(self, mode = 'human', show = False):\n",
    "        # Render the environment to the screen\n",
    "        print(self.current_step)\n",
    "        # print(self.Bought_contracts)\n",
    "        print(self.balance)\n",
    "        print('The current net worth is', self.net_worth)"
   ]
  },
  {
   "cell_type": "code",
   "execution_count": 6,
   "metadata": {
    "colab": {
     "base_uri": "https://localhost:8080/"
    },
    "id": "KAlrMCMB6JuL",
    "outputId": "4f4c95fb-4716-49cf-f12f-a764116538f5"
   },
   "outputs": [
    {
     "data": {
      "text/plain": [
       "[(-76.15100000000008, 2.363924491179844),\n",
       " (-76.59350000000016, 1.8511571381165706),\n",
       " (-76.59100000000015, 2.7067340098354498),\n",
       " (-76.69950000000016, 2.015858315953786),\n",
       " (-77.7715000000002, 2.6050705844563664),\n",
       " (-77.89600000000021, 2.3207464316464987),\n",
       " (-77.25650000000023, 1.7559364310817267),\n",
       " (-77.82950000000021, 1.677505514148864),\n",
       " (-77.94050000000023, 1.3209295022823562),\n",
       " (-78.21600000000022, 0.8490606574326406)]"
      ]
     },
     "execution_count": 6,
     "metadata": {},
     "output_type": "execute_result"
    }
   ],
   "source": [
    "INITIAL_ACCOUNT_BALANCE = 1000\n",
    "Features = ['UNDERLYING', 'SKRIKE', 'MATURITY', 'DELTA', 'BID', 'ASK', 'IMPLIED_VOL', 'LIQUIDITY', 'INTEREST_RATE']\n",
    "\n",
    "profit_list = []\n",
    "for ACT_RATE in np.arange(0.5, 1, 0.05):\n",
    "    profit = []\n",
    "    for _ in range(20):\n",
    "        Env = OptionsTradingEnv(Call_data)\n",
    "        cur_state = Env.reset()\n",
    "        done = False\n",
    "        while not done:\n",
    "            X = scalerX.transform(cur_state[Features].values)\n",
    "            Options_price_pred = scalery.inverse_transform(Call_model.predict(X))\n",
    "            # Buy undervalued call options\n",
    "            price_diff = Options_price_pred.reshape(-1) - cur_state['ASK'].values\n",
    "            if sum(price_diff > 0) > 5:\n",
    "                action = np.argsort(price_diff)[::-1][:5]\n",
    "            else:\n",
    "                action = np.argsort(price_diff)[::-1][:sum(price_diff > 0)]\n",
    "            cur_state, NETWORTH, done = Env.step(action)\n",
    "            # Env.render()\n",
    "        profit.append(Env.net_worth - INITIAL_ACCOUNT_BALANCE)\n",
    "    profit_list.append((np.mean(profit), np.std(profit)))\n",
    "profit_list"
   ]
  },
  {
   "cell_type": "code",
   "execution_count": 7,
   "metadata": {
    "colab": {
     "base_uri": "https://localhost:8080/"
    },
    "id": "3OBeVOCv0frV",
    "outputId": "b73ee1ac-092e-4e5b-d790-72027a25a9c9"
   },
   "outputs": [
    {
     "data": {
      "text/plain": [
       "[(-593.5954999999997, 70.17793873255324),\n",
       " (-600.2774999999998, 39.35178634763612),\n",
       " (-589.1614999999996, 58.85339822601583),\n",
       " (-594.0299999999997, 56.377465090229144),\n",
       " (-589.5544999999996, 50.5994027113957),\n",
       " (-599.4804999999997, 47.437634792957354),\n",
       " (-565.3694999999996, 47.03255335137562),\n",
       " (-612.7494999999997, 53.4625501145427),\n",
       " (-592.6919999999997, 51.0075331299212),\n",
       " (-592.3119999999997, 35.93808392221267)]"
      ]
     },
     "execution_count": 7,
     "metadata": {},
     "output_type": "execute_result"
    }
   ],
   "source": [
    "profit_list = []\n",
    "for ACT_RATE in np.arange(0.5, 1, 0.05):\n",
    "    profit = []\n",
    "    for _ in range(20):\n",
    "        Env = OptionsTradingEnv(Call_data)\n",
    "        cur_state = Env.reset()\n",
    "        done = False\n",
    "        while not done:\n",
    "            action = np.random.choice(np.arange(cur_state.shape[0]), size = 5, replace = False)\n",
    "            cur_state, NETWORTH, done = Env.step(action)\n",
    "            # Env.render()\n",
    "        profit.append(Env.net_worth - INITIAL_ACCOUNT_BALANCE)\n",
    "    profit_list.append((np.mean(profit), np.std(profit)))\n",
    "profit_list"
   ]
  }
 ],
 "metadata": {
  "colab": {
   "collapsed_sections": [],
   "name": "2.5 Environment.ipynb",
   "provenance": []
  },
  "hide_input": false,
  "kernelspec": {
   "display_name": "Python 3",
   "language": "python",
   "name": "python3"
  },
  "language_info": {
   "codemirror_mode": {
    "name": "ipython",
    "version": 3
   },
   "file_extension": ".py",
   "mimetype": "text/x-python",
   "name": "python",
   "nbconvert_exporter": "python",
   "pygments_lexer": "ipython3",
   "version": "3.8.3"
  }
 },
 "nbformat": 4,
 "nbformat_minor": 1
}
