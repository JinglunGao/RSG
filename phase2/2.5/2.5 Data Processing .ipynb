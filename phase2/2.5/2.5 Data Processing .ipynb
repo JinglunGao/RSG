{
 "cells": [
  {
   "cell_type": "code",
   "execution_count": 1,
   "metadata": {},
   "outputs": [],
   "source": [
    "import numpy as np\n",
    "import pandas as pd\n",
    "import seaborn as sns\n",
    "import matplotlib.pyplot as plt\n",
    "from sklearn.metrics import mean_absolute_percentage_error\n",
    "from datetime import date\n",
    "import warnings\n",
    "warnings.filterwarnings(\"ignore\")\n",
    "\n",
    "sns.set()"
   ]
  },
  {
   "cell_type": "markdown",
   "metadata": {},
   "source": [
    "## Data cleaning"
   ]
  },
  {
   "cell_type": "code",
   "execution_count": 2,
   "metadata": {},
   "outputs": [
    {
     "name": "stdout",
     "output_type": "stream",
     "text": [
      "The uncleaned data has shape (80250, 33)\n"
     ]
    }
   ],
   "source": [
    "path = \"/Users/gaojinglun/Desktop/SPY OPTION CHAIN/spy_eod_2020-kwe0mi/spy_eod_202001.txt\"\n",
    "data = pd.read_csv(path)\n",
    "\n",
    "# Check if all the observations are end of day data\n",
    "assert sum(data[' [QUOTE_TIME_HOURS]'] == 16) == data.shape[0], 'Not end of day data'\n",
    "\n",
    "# Convert date till expire in hour to year\n",
    "data[' [DTE]'] = data[' [DTE]'].values / (24 * 365)\n",
    "\n",
    "print('The uncleaned data has shape', data.shape)"
   ]
  },
  {
   "cell_type": "code",
   "execution_count": 3,
   "metadata": {},
   "outputs": [
    {
     "name": "stdout",
     "output_type": "stream",
     "text": [
      "The uncleaned call data has shape (78751, 9)\n",
      "The uncleaned put data has shape (75205, 9)\n"
     ]
    }
   ],
   "source": [
    "# Select call data based on IV\n",
    "Call_data = data[data[' [C_IV]'] != ' ']\n",
    "# Convert string to float\n",
    "Call_data[' [C_IV]'] = Call_data[' [C_IV]'].astype('float')\n",
    "Call_data[' [C_BID]'] = Call_data[' [C_BID]'].astype('float')\n",
    "Call_data[' [C_ASK]'] = Call_data[' [C_ASK]'].astype('float')\n",
    "\n",
    "# Drop ' ' in teh quote date\n",
    "Call_data[' [QUOTE_DATE]'] = Call_data[' [QUOTE_DATE]'].apply(lambda x: x[1:]).values\n",
    "\n",
    "Call_data = Call_data[[' [QUOTE_DATE]', ' [UNDERLYING_LAST]', ' [STRIKE]', ' [DTE]', ' [C_DELTA]',\n",
    "                       ' [C_BID]', ' [C_ASK]', ' [C_IV]', ' [C_VOLUME]']]\n",
    "\n",
    "# Select put data based on IV\n",
    "Put_data = data[data[' [P_IV]'] != ' ']\n",
    "# Convert string to float\n",
    "Put_data[' [P_IV]'] = Put_data[' [P_IV]'].astype('float')\n",
    "Put_data[' [P_BID]'] = Put_data[' [P_BID]'].astype('float')\n",
    "Put_data[' [P_ASK]'] = Put_data[' [P_ASK]'].astype('float')\n",
    "\n",
    "# Drop ' ' in teh quote date\n",
    "Put_data[' [QUOTE_DATE]'] = Put_data[' [QUOTE_DATE]'].apply(lambda x: x[1:]).values\n",
    "\n",
    "Put_data = Put_data[[' [QUOTE_DATE]', ' [UNDERLYING_LAST]', ' [STRIKE]', ' [DTE]', ' [P_DELTA]',\n",
    "                       ' [P_BID]', ' [P_ASK]', ' [P_IV]', ' [P_VOLUME]']]\n",
    "\n",
    "print('The uncleaned call data has shape', Call_data.shape)\n",
    "print('The uncleaned put data has shape', Put_data.shape)"
   ]
  },
  {
   "cell_type": "code",
   "execution_count": 4,
   "metadata": {},
   "outputs": [
    {
     "name": "stdout",
     "output_type": "stream",
     "text": [
      "Missing values in C_VOLUME 21657\n",
      "Missing values in P_VOLUME 16386\n"
     ]
    }
   ],
   "source": [
    "print(\"Missing values in C_VOLUME\", sum(Call_data[' [C_VOLUME]'] == ' '))\n",
    "print(\"Missing values in P_VOLUME\", sum(Put_data[' [P_VOLUME]'] == ' '))"
   ]
  },
  {
   "cell_type": "markdown",
   "metadata": {},
   "source": [
    "     There are too many missing values in the Volume column, which makes it hard to use. Therefore, I will use the spread to see the liquidity of an option"
   ]
  },
  {
   "cell_type": "code",
   "execution_count": 5,
   "metadata": {},
   "outputs": [
    {
     "data": {
      "text/html": [
       "<div>\n",
       "<style scoped>\n",
       "    .dataframe tbody tr th:only-of-type {\n",
       "        vertical-align: middle;\n",
       "    }\n",
       "\n",
       "    .dataframe tbody tr th {\n",
       "        vertical-align: top;\n",
       "    }\n",
       "\n",
       "    .dataframe thead th {\n",
       "        text-align: right;\n",
       "    }\n",
       "</style>\n",
       "<table border=\"1\" class=\"dataframe\">\n",
       "  <thead>\n",
       "    <tr style=\"text-align: right;\">\n",
       "      <th></th>\n",
       "      <th>[QUOTE_DATE]</th>\n",
       "      <th>[UNDERLYING_LAST]</th>\n",
       "      <th>[STRIKE]</th>\n",
       "      <th>[DTE]</th>\n",
       "      <th>[C_DELTA]</th>\n",
       "      <th>[C_BID]</th>\n",
       "      <th>[C_ASK]</th>\n",
       "      <th>[C_IV]</th>\n",
       "      <th>[C_VOLUME]</th>\n",
       "    </tr>\n",
       "  </thead>\n",
       "  <tbody>\n",
       "    <tr>\n",
       "      <th>79</th>\n",
       "      <td>2020-01-02</td>\n",
       "      <td>324.87</td>\n",
       "      <td>323.0</td>\n",
       "      <td>0.000114</td>\n",
       "      <td>0.887620</td>\n",
       "      <td>1.91</td>\n",
       "      <td>2.00</td>\n",
       "      <td>0.06431</td>\n",
       "      <td></td>\n",
       "    </tr>\n",
       "    <tr>\n",
       "      <th>80</th>\n",
       "      <td>2020-01-02</td>\n",
       "      <td>324.87</td>\n",
       "      <td>323.5</td>\n",
       "      <td>0.000114</td>\n",
       "      <td>0.966980</td>\n",
       "      <td>1.35</td>\n",
       "      <td>1.40</td>\n",
       "      <td>0.03154</td>\n",
       "      <td></td>\n",
       "    </tr>\n",
       "    <tr>\n",
       "      <th>81</th>\n",
       "      <td>2020-01-02</td>\n",
       "      <td>324.87</td>\n",
       "      <td>324.0</td>\n",
       "      <td>0.000114</td>\n",
       "      <td>0.736880</td>\n",
       "      <td>1.07</td>\n",
       "      <td>1.12</td>\n",
       "      <td>0.05721</td>\n",
       "      <td></td>\n",
       "    </tr>\n",
       "    <tr>\n",
       "      <th>82</th>\n",
       "      <td>2020-01-02</td>\n",
       "      <td>324.87</td>\n",
       "      <td>324.5</td>\n",
       "      <td>0.000114</td>\n",
       "      <td>0.623960</td>\n",
       "      <td>0.67</td>\n",
       "      <td>0.70</td>\n",
       "      <td>0.04955</td>\n",
       "      <td></td>\n",
       "    </tr>\n",
       "    <tr>\n",
       "      <th>83</th>\n",
       "      <td>2020-01-02</td>\n",
       "      <td>324.87</td>\n",
       "      <td>325.0</td>\n",
       "      <td>0.000114</td>\n",
       "      <td>0.462840</td>\n",
       "      <td>0.47</td>\n",
       "      <td>0.49</td>\n",
       "      <td>0.05641</td>\n",
       "      <td></td>\n",
       "    </tr>\n",
       "  </tbody>\n",
       "</table>\n",
       "</div>"
      ],
      "text/plain": [
       "    [QUOTE_DATE]   [UNDERLYING_LAST]   [STRIKE]     [DTE]  [C_DELTA]  \\\n",
       "79    2020-01-02              324.87      323.0  0.000114   0.887620   \n",
       "80    2020-01-02              324.87      323.5  0.000114   0.966980   \n",
       "81    2020-01-02              324.87      324.0  0.000114   0.736880   \n",
       "82    2020-01-02              324.87      324.5  0.000114   0.623960   \n",
       "83    2020-01-02              324.87      325.0  0.000114   0.462840   \n",
       "\n",
       "     [C_BID]   [C_ASK]   [C_IV]  [C_VOLUME]  \n",
       "79      1.91      2.00  0.06431              \n",
       "80      1.35      1.40  0.03154              \n",
       "81      1.07      1.12  0.05721              \n",
       "82      0.67      0.70  0.04955              \n",
       "83      0.47      0.49  0.05641              "
      ]
     },
     "execution_count": 5,
     "metadata": {},
     "output_type": "execute_result"
    }
   ],
   "source": [
    "Call_data.head()"
   ]
  },
  {
   "cell_type": "markdown",
   "metadata": {},
   "source": [
    "### Implied Vol\n",
    "\n",
    "Each listed option has a unique sensitivity to implied volatility changes. For example, short-dated options will be less sensitive to implied volatility, while long-dated options will be more sensitive. This is based on the fact that long-dated options have more time value priced into them, while short-dated options have less.\n",
    "\n",
    "<font color='red'>Why we keep obs with IV less then 1?</font>"
   ]
  },
  {
   "cell_type": "code",
   "execution_count": 6,
   "metadata": {},
   "outputs": [
    {
     "data": {
      "image/png": "[encoded data removed]",
      "text/plain": [
       "<Figure size 864x360 with 2 Axes>"
      ]
     },
     "metadata": {},
     "output_type": "display_data"
    }
   ],
   "source": [
    "fig, axes = plt.subplots(1, 2, figsize = (12, 5))\n",
    "fig.suptitle('Density plots of IV')\n",
    "sns.histplot(ax = axes[0], data = Call_data[' [C_IV]'])\n",
    "axes[0].set_xlim(0, 1.5)\n",
    "axes[0].set_ylim(0, 4000)\n",
    "axes[0].set_xlabel(\"Implied Volatility for Call options\")\n",
    "axes[0].set_title(\"Call Options' IV\")\n",
    "\n",
    "sns.histplot(ax = axes[1], data = Put_data[' [P_IV]'])\n",
    "axes[1].set_xlim(0, 1.5)\n",
    "axes[1].set_ylim(0, 4000)\n",
    "axes[1].set_xlabel(\"Implied Volatility for Put options\")\n",
    "axes[1].set_title(\"Put Options' IV\")\n",
    "\n",
    "plt.show()"
   ]
  },
  {
   "cell_type": "code",
   "execution_count": 7,
   "metadata": {},
   "outputs": [
    {
     "data": {
      "image/png": "[encoded data removed]",
      "text/plain": [
       "<Figure size 864x360 with 2 Axes>"
      ]
     },
     "metadata": {},
     "output_type": "display_data"
    }
   ],
   "source": [
    "fig, axes = plt.subplots(1, 2, figsize = (12, 5))\n",
    "fig.suptitle('Density plots of Time to Maturity in days')\n",
    "sns.histplot(ax = axes[0], data = Call_data[' [DTE]'].values * 365)\n",
    "# axes[0].set_xlim(0, 0.14)\n",
    "axes[0].set_xlabel(\"Time to Maturity for Call options\")\n",
    "axes[0].set_title(\"Call Options' Time to Maturity\")\n",
    "\n",
    "sns.histplot(ax = axes[1], data = Put_data[' [DTE]'].values * 365)\n",
    "# axes[1].set_xlim(0, 0.14)\n",
    "axes[1].set_xlabel(\"Time to Maturity for Put options\")\n",
    "axes[1].set_title(\"Put Options' Time to Maturity\")\n",
    "\n",
    "plt.show()"
   ]
  },
  {
   "cell_type": "markdown",
   "metadata": {},
   "source": [
    "[Canceled Order](https://www.investopedia.com/terms/c/canceled_order.asp)\n",
    "\n",
    "Limit orders for purchase that are lower than the bid price, or sell orders above the ask price, can usually be canceled online through a broker's online platform, or if necessary, by calling the broker directly. Good ‘til canceled (GTC) orders, which remain active until purged by the investor or the trade executes, can no longer be directly placed with the Nasdaq and New York Stock Exchange (NYSE). However, most brokerages continue to offer this order type."
   ]
  },
  {
   "cell_type": "code",
   "execution_count": 8,
   "metadata": {},
   "outputs": [
    {
     "data": {
      "image/png": "[encoded data removed]",
      "text/plain": [
       "<Figure size 864x360 with 2 Axes>"
      ]
     },
     "metadata": {},
     "output_type": "display_data"
    }
   ],
   "source": [
    "fig, axes = plt.subplots(1, 2, figsize = (12, 5))\n",
    "fig.suptitle('Density plots of liquidity')\n",
    "\n",
    "# Using the Interquartile Rule to Find Outliers\n",
    "c_percentile25 = np.percentile(Call_data[' [C_ASK]'] - Call_data[' [C_BID]'], 25)\n",
    "c_percentile75 = np.percentile(Call_data[' [C_ASK]'] - Call_data[' [C_BID]'], 75)\n",
    "c_spread_upper_bound = c_percentile75 + 1.5 * (c_percentile75 - c_percentile25)\n",
    "\n",
    "sns.histplot(ax = axes[0], data = Call_data[' [C_ASK]'] - Call_data[' [C_BID]'], label = 'density')\n",
    "axes[0].axvline(c_spread_upper_bound, color = 'red', label = 'Outlier detector')\n",
    "axes[0].set_xlim(0, 2)\n",
    "axes[0].set_ylim(0, 10000)\n",
    "axes[0].set_xlabel(\"liquidity for Call options\")\n",
    "axes[0].set_title(\"Call Options' spread\")\n",
    "axes[0].legend(loc = \"upper left\")\n",
    "\n",
    "# Using the Interquartile Rule to Find Outliers\n",
    "p_percentile25 = np.percentile(Put_data[' [P_ASK]'] - Put_data[' [P_BID]'], 25)\n",
    "p_percentile75 = np.percentile(Put_data[' [P_ASK]'] - Put_data[' [P_BID]'], 75)\n",
    "p_spread_upper_bound = c_percentile75 + 1.5 * (p_percentile75 - p_percentile25)\n",
    "\n",
    "sns.histplot(ax = axes[1], data = Put_data[' [P_ASK]'] - Put_data[' [P_BID]'], label = 'density')\n",
    "axes[1].axvline(p_spread_upper_bound, color = 'red', label = 'Outlier detector')\n",
    "axes[1].set_xlim(0, 2)\n",
    "axes[1].set_ylim(0, 10000)\n",
    "axes[1].set_xlabel(\"liquidity for Put options\")\n",
    "axes[1].set_title(\"Put Options' spread\")\n",
    "axes[1].legend(loc = \"upper left\")\n",
    "\n",
    "plt.show()"
   ]
  },
  {
   "cell_type": "code",
   "execution_count": 9,
   "metadata": {},
   "outputs": [
    {
     "name": "stdout",
     "output_type": "stream",
     "text": [
      "There are 49 call options with nonpositive IV, in 0.0584%.\n",
      "There are 3266 call options with IV greater then 1, in 4.1472%.\n",
      "There are 755 call options with Time to Maturity less then one day, in 22.7299%.\n",
      "There are 1065 call options with negative spread, in 1.3524%.\n",
      "There are 8600 call options greater then the Interquartile Rule's upper bound, in 10.9205%.\n",
      "Finally, we keep 0.6079 % of the original call options.\n"
     ]
    }
   ],
   "source": [
    "n = Call_data.shape[0]\n",
    "print(\"There are {} call options with nonpositive IV, in {}%.\".format(\n",
    "    sum(Call_data[' [C_IV]'] <= 0), \n",
    "    np.round(100 * sum(Call_data[' [C_IV]'] < 0) / n, 4)\n",
    "))\n",
    "Call_data = Call_data[Call_data[' [C_IV]'] > 0]\n",
    "\n",
    "print(\"There are {} call options with IV greater then 1, in {}%.\".format(\n",
    "    sum(Call_data[' [C_IV]'] > 1), \n",
    "    np.round(100 * sum(Call_data[' [C_IV]'] > 1) / n, 4)\n",
    "))\n",
    "Call_data = Call_data[Call_data[' [C_IV]'] <= 1]\n",
    "\n",
    "print(\"There are {} call options with Time to Maturity less then one day, in {}%.\".format(\n",
    "    sum(Call_data[' [DTE]'] == 0), \n",
    "    np.round(100 * sum(Call_data[' [DTE]'] <= 1 / 365) / n, 4)\n",
    "))\n",
    "Call_data = Call_data[Call_data[' [DTE]'] > 1 / 365]\n",
    "\n",
    "print(\"There are {} call options with negative spread, in {}%.\".format(\n",
    "    sum(Call_data[' [C_ASK]'] - Call_data[' [C_BID]'] <= 0), \n",
    "    np.round(100 * sum(Call_data[' [C_ASK]'] - Call_data[' [C_BID]'] <= 0) / n, 4)\n",
    "))\n",
    "Call_data = Call_data[Call_data[' [C_ASK]'] - Call_data[' [C_BID]'] > 0]\n",
    "\n",
    "print(\"There are {} call options greater then the Interquartile Rule's upper bound, in {}%.\".format(\n",
    "    sum(Call_data[' [C_ASK]'] - Call_data[' [C_BID]'] > c_spread_upper_bound), \n",
    "    np.round(100 * sum(Call_data[' [C_ASK]'] - Call_data[' [C_BID]'] > c_spread_upper_bound) / n, 4)\n",
    "))\n",
    "Call_data = Call_data[Call_data[' [C_ASK]'] - Call_data[' [C_BID]'] <= c_spread_upper_bound]\n",
    "\n",
    "print(\"Finally, we keep {} % of the original call options.\".format(\n",
    "    np.round(Call_data.shape[0] / n, 4)\n",
    "))"
   ]
  },
  {
   "cell_type": "code",
   "execution_count": 10,
   "metadata": {},
   "outputs": [
    {
     "name": "stdout",
     "output_type": "stream",
     "text": [
      "There are 2518 put options with nonpositive IV, in 3.0%.\n",
      "There are 924 put options with IV greater then 1, in 1.0%.\n",
      "There are 16361 call options with Time to Maturity less then one day, in 21.7552%.\n",
      "There are 2380 call options with negative spread, in 3.1647%.\n",
      "There are 4063 call options greater then the Interquartile Rule's upper bound, in 5.4026%.\n",
      "Finally, we keep 0.651 % of the original put options.\n"
     ]
    }
   ],
   "source": [
    "n = Put_data.shape[0]\n",
    "print(\"There are {} put options with nonpositive IV, in {}%.\".format(\n",
    "    sum(Put_data[' [P_IV]'] <= 0), np.round(100 * sum(Put_data[' [P_IV]'] < 0) / n)\n",
    "))\n",
    "Put_data = Put_data[Put_data[' [P_IV]'] > 0]\n",
    "\n",
    "print(\"There are {} put options with IV greater then 1, in {}%.\".format(\n",
    "    sum(Put_data[' [P_IV]'] > 1), np.round(100 * sum(Put_data[' [P_IV]'] > 1) / n)\n",
    "))\n",
    "Put_data = Put_data[Put_data[' [P_IV]'] <= 1]\n",
    "\n",
    "print(\"There are {} call options with Time to Maturity less then one day, in {}%.\".format(\n",
    "    sum(Put_data[' [DTE]'] <= 1 / 365), \n",
    "    np.round(100 * sum(Put_data[' [DTE]'] <= 1 / 365) / n, 4)\n",
    "))\n",
    "Put_data = Put_data[Put_data[' [DTE]'] > 1 / 365]\n",
    "\n",
    "print(\"There are {} call options with negative spread, in {}%.\".format(\n",
    "    sum(Put_data[' [P_ASK]'] - Put_data[' [P_BID]'] <= 0), \n",
    "    np.round(100 * sum(Put_data[' [P_ASK]'] - Put_data[' [P_BID]'] <= 0) / n, 4)\n",
    "))\n",
    "Put_data = Put_data[Put_data[' [P_ASK]'] - Put_data[' [P_BID]'] > 0]\n",
    "\n",
    "print(\"There are {} call options greater then the Interquartile Rule's upper bound, in {}%.\".format(\n",
    "    sum(Put_data[' [P_ASK]'] - Put_data[' [P_BID]'] > p_spread_upper_bound), \n",
    "    np.round(100 * sum(Put_data[' [P_ASK]'] - Put_data[' [P_BID]'] > p_spread_upper_bound) / n, 4)\n",
    "))\n",
    "Put_data = Put_data[Put_data[' [P_ASK]'] - Put_data[' [P_BID]'] <= p_spread_upper_bound]\n",
    "\n",
    "print(\"Finally, we keep {} % of the original put options.\".format(\n",
    "    np.round(Put_data.shape[0] / n, 4)\n",
    "))"
   ]
  },
  {
   "cell_type": "markdown",
   "metadata": {},
   "source": [
    "## Liquidity"
   ]
  },
  {
   "cell_type": "code",
   "execution_count": 11,
   "metadata": {},
   "outputs": [],
   "source": [
    "Call_spread = Call_data[' [C_ASK]'] - Call_data[' [C_BID]']\n",
    "Call_spread_min = np.min(Call_spread)\n",
    "Call_spread_max = np.max(Call_spread)\n",
    "Call_data['LIQUIDITY'] = (Call_spread - Call_spread_min) / (Call_spread_max - Call_spread_min)\n",
    "\n",
    "Put_spread = Put_data[' [P_ASK]'] - Put_data[' [P_BID]']\n",
    "Put_spread_min = np.min(Put_spread)\n",
    "Put_spread_max = np.max(Put_spread)\n",
    "Put_data['LIQUIDITY'] = (Put_spread - Put_spread_min) / (Put_spread_max - Put_spread_min)"
   ]
  },
  {
   "cell_type": "markdown",
   "metadata": {},
   "source": [
    "## Interest rate"
   ]
  },
  {
   "cell_type": "code",
   "execution_count": 12,
   "metadata": {},
   "outputs": [
    {
     "data": {
      "text/plain": [
       "1.5333333333333332"
      ]
     },
     "execution_count": 12,
     "metadata": {},
     "output_type": "execute_result"
    }
   ],
   "source": [
    "interest_rate = pd.read_csv(\"DGS1MO.csv\")\n",
    "interest_rate_2020_01 = interest_rate.loc[interest_rate['DATE'].str.startswith('2020-01-')].copy()\n",
    "interest_rate_2020_01 = interest_rate_2020_01.rename({'DATE': ' [QUOTE_DATE]'}, axis='columns')\n",
    "IR = interest_rate_2020_01['DGS1MO'][interest_rate_2020_01['DGS1MO'] != '.'].astype('float').mean()\n",
    "IR"
   ]
  },
  {
   "cell_type": "code",
   "execution_count": 13,
   "metadata": {},
   "outputs": [],
   "source": [
    "# Add interest rate to the data\n",
    "Call_data = Call_data.merge(interest_rate_2020_01, on = ' [QUOTE_DATE]', how = 'left')\n",
    "Call_data = Call_data.drop([' [C_VOLUME]'], axis = 1)\n",
    "\n",
    "Put_data = Put_data.merge(interest_rate_2020_01, on = ' [QUOTE_DATE]', how = 'left')\n",
    "Put_data = Put_data.drop([' [P_VOLUME]'], axis = 1)"
   ]
  },
  {
   "cell_type": "markdown",
   "metadata": {},
   "source": [
    "## SPY"
   ]
  },
  {
   "cell_type": "code",
   "execution_count": 14,
   "metadata": {},
   "outputs": [
    {
     "name": "stdout",
     "output_type": "stream",
     "text": [
      "The MAPE of data from yahoo finance SPY(Close) and last traded underlying asset price from OptionDX is 0.0001017239\n"
     ]
    }
   ],
   "source": [
    "SPY = pd.read_csv(\"SPY.csv\")\n",
    "\n",
    "# Underlying asset price in 2020 01 from OptionDX\n",
    "OptionDX_SPY = Call_data.groupby([' [QUOTE_DATE]']).mean()[' [UNDERLYING_LAST]'].values\n",
    "\n",
    "print('The MAPE of data from yahoo finance SPY(Close) and last traded underlying asset price from OptionDX is', \n",
    "     np.round(mean_absolute_percentage_error(SPY.Close[:21], OptionDX_SPY), 10))"
   ]
  },
  {
   "cell_type": "markdown",
   "metadata": {},
   "source": [
    "## Calculate the \"actual\" Options price"
   ]
  },
  {
   "cell_type": "code",
   "execution_count": 15,
   "metadata": {},
   "outputs": [],
   "source": [
    "def get_date(time):\n",
    "    '''\n",
    "    Convert time in '2020-01-02' to date class\n",
    "    '''\n",
    "    year, month, days = time[:4], time[5:7], time[-2:]\n",
    "\n",
    "    if month[0] == '0':\n",
    "        month = month[1]\n",
    "        \n",
    "    if days[0] == '0':\n",
    "        days = int(days[1])\n",
    "        \n",
    "    return date(int(year), int(month), int(days))\n",
    "    \n",
    "\n",
    "def get_call_options_price(quote_date, S, K, T, R, IR):\n",
    "    '''\n",
    "    T in years\n",
    "    IR in 100%\n",
    "    Also need the SPY historical prices\n",
    "    '''\n",
    "    start_idx = list(SPY['Date']).index(quote_date)\n",
    "    # end date is at least one day from start \n",
    "    end_idx = start_idx + 1\n",
    "    \n",
    "    start = SPY['Date'].values[start_idx]\n",
    "    # convert '2020-01-02' to date class\n",
    "    start_date = get_date(start)\n",
    "    \n",
    "    # get the end day idx\n",
    "    while (get_date(SPY['Date'].values[end_idx]) - start_date).days < T * 365:\n",
    "        end_idx += 1\n",
    "    \n",
    "    profit = [SPY.Close.values[i] - K for i in range(start_idx, end_idx + 1)]\n",
    "    max_idx = np.argmax(profit)\n",
    "    max_profit = profit[max_idx]\n",
    "    days = (get_date(SPY['Date'].values[max_idx]) - start_date).days / 365\n",
    "    # Using simple interest\n",
    "    Options_price = max_profit  / (1 + days * IR  / 100)\n",
    "        \n",
    "    return Options_price, SPY['Date'].values[end_idx]"
   ]
  },
  {
   "cell_type": "code",
   "execution_count": 16,
   "metadata": {},
   "outputs": [],
   "source": [
    "call_options_prices = [get_call_options_price(Call_data[' [QUOTE_DATE]'].values[i],\n",
    "                       Call_data[' [UNDERLYING_LAST]'].values[i],\n",
    "                       Call_data[' [STRIKE]'].values[i],\n",
    "                       Call_data[' [DTE]'].values[i],\n",
    "                       Call_data['DGS1MO'].values[i],\n",
    "                       IR\n",
    ")[0] for i in range(Call_data.shape[0])]\n",
    "Call_data['OPTIONS_PRICE'] = call_options_prices\n",
    "\n",
    "end_date = [get_call_options_price(Call_data[' [QUOTE_DATE]'].values[i],\n",
    "                       Call_data[' [UNDERLYING_LAST]'].values[i],\n",
    "                       Call_data[' [STRIKE]'].values[i],\n",
    "                       Call_data[' [DTE]'].values[i],\n",
    "                       Call_data['DGS1MO'].values[i],\n",
    "                       IR\n",
    ")[1] for i in range(Call_data.shape[0])]\n",
    "Call_data['END_DATE'] = end_date"
   ]
  },
  {
   "cell_type": "code",
   "execution_count": 17,
   "metadata": {},
   "outputs": [
    {
     "data": {
      "text/html": [
       "<div>\n",
       "<style scoped>\n",
       "    .dataframe tbody tr th:only-of-type {\n",
       "        vertical-align: middle;\n",
       "    }\n",
       "\n",
       "    .dataframe tbody tr th {\n",
       "        vertical-align: top;\n",
       "    }\n",
       "\n",
       "    .dataframe thead th {\n",
       "        text-align: right;\n",
       "    }\n",
       "</style>\n",
       "<table border=\"1\" class=\"dataframe\">\n",
       "  <thead>\n",
       "    <tr style=\"text-align: right;\">\n",
       "      <th></th>\n",
       "      <th>START_DATE</th>\n",
       "      <th>UNDERLYING</th>\n",
       "      <th>SKRIKE</th>\n",
       "      <th>MATURITY</th>\n",
       "      <th>DELTA</th>\n",
       "      <th>BID</th>\n",
       "      <th>ASK</th>\n",
       "      <th>IMPLIED_VOL</th>\n",
       "      <th>LIQUIDITY</th>\n",
       "      <th>INTEREST_RATE</th>\n",
       "      <th>OPTIONS_PRICE</th>\n",
       "      <th>END_DATE</th>\n",
       "    </tr>\n",
       "  </thead>\n",
       "  <tbody>\n",
       "    <tr>\n",
       "      <th>0</th>\n",
       "      <td>2020-01-02</td>\n",
       "      <td>324.87</td>\n",
       "      <td>270.0</td>\n",
       "      <td>0.002854</td>\n",
       "      <td>0.984240</td>\n",
       "      <td>54.91</td>\n",
       "      <td>55.15</td>\n",
       "      <td>0.32756</td>\n",
       "      <td>0.181102</td>\n",
       "      <td>1.53</td>\n",
       "      <td>54.869995</td>\n",
       "      <td>2020-01-06</td>\n",
       "    </tr>\n",
       "    <tr>\n",
       "      <th>1</th>\n",
       "      <td>2020-01-02</td>\n",
       "      <td>324.87</td>\n",
       "      <td>275.0</td>\n",
       "      <td>0.002854</td>\n",
       "      <td>0.991900</td>\n",
       "      <td>49.83</td>\n",
       "      <td>50.04</td>\n",
       "      <td>0.26110</td>\n",
       "      <td>0.157480</td>\n",
       "      <td>1.53</td>\n",
       "      <td>49.869995</td>\n",
       "      <td>2020-01-06</td>\n",
       "    </tr>\n",
       "    <tr>\n",
       "      <th>2</th>\n",
       "      <td>2020-01-02</td>\n",
       "      <td>324.87</td>\n",
       "      <td>280.0</td>\n",
       "      <td>0.002854</td>\n",
       "      <td>0.975140</td>\n",
       "      <td>44.72</td>\n",
       "      <td>45.51</td>\n",
       "      <td>0.28942</td>\n",
       "      <td>0.614173</td>\n",
       "      <td>1.53</td>\n",
       "      <td>44.869995</td>\n",
       "      <td>2020-01-06</td>\n",
       "    </tr>\n",
       "    <tr>\n",
       "      <th>3</th>\n",
       "      <td>2020-01-02</td>\n",
       "      <td>324.87</td>\n",
       "      <td>285.0</td>\n",
       "      <td>0.002854</td>\n",
       "      <td>0.979570</td>\n",
       "      <td>39.93</td>\n",
       "      <td>40.13</td>\n",
       "      <td>0.24333</td>\n",
       "      <td>0.149606</td>\n",
       "      <td>1.53</td>\n",
       "      <td>39.869995</td>\n",
       "      <td>2020-01-06</td>\n",
       "    </tr>\n",
       "    <tr>\n",
       "      <th>4</th>\n",
       "      <td>2020-01-02</td>\n",
       "      <td>324.87</td>\n",
       "      <td>290.0</td>\n",
       "      <td>0.002854</td>\n",
       "      <td>0.963990</td>\n",
       "      <td>35.06</td>\n",
       "      <td>35.27</td>\n",
       "      <td>0.24022</td>\n",
       "      <td>0.157480</td>\n",
       "      <td>1.53</td>\n",
       "      <td>34.869995</td>\n",
       "      <td>2020-01-06</td>\n",
       "    </tr>\n",
       "  </tbody>\n",
       "</table>\n",
       "</div>"
      ],
      "text/plain": [
       "   START_DATE  UNDERLYING  SKRIKE  MATURITY      DELTA    BID    ASK  \\\n",
       "0  2020-01-02      324.87   270.0  0.002854   0.984240  54.91  55.15   \n",
       "1  2020-01-02      324.87   275.0  0.002854   0.991900  49.83  50.04   \n",
       "2  2020-01-02      324.87   280.0  0.002854   0.975140  44.72  45.51   \n",
       "3  2020-01-02      324.87   285.0  0.002854   0.979570  39.93  40.13   \n",
       "4  2020-01-02      324.87   290.0  0.002854   0.963990  35.06  35.27   \n",
       "\n",
       "   IMPLIED_VOL  LIQUIDITY INTEREST_RATE  OPTIONS_PRICE    END_DATE  \n",
       "0      0.32756   0.181102          1.53      54.869995  2020-01-06  \n",
       "1      0.26110   0.157480          1.53      49.869995  2020-01-06  \n",
       "2      0.28942   0.614173          1.53      44.869995  2020-01-06  \n",
       "3      0.24333   0.149606          1.53      39.869995  2020-01-06  \n",
       "4      0.24022   0.157480          1.53      34.869995  2020-01-06  "
      ]
     },
     "execution_count": 17,
     "metadata": {},
     "output_type": "execute_result"
    }
   ],
   "source": [
    "Call_data = Call_data.rename({' [QUOTE_DATE]': 'START_DATE',\n",
    "                              ' [UNDERLYING_LAST]': 'UNDERLYING',\n",
    "                              ' [STRIKE]': 'SKRIKE',\n",
    "                              ' [DTE]': 'MATURITY',\n",
    "                              ' [C_DELTA]': 'DELTA',\n",
    "                              ' [C_BID]' : 'BID',\n",
    "                              ' [C_ASK]': 'ASK',\n",
    "                              ' [C_IV]': 'IMPLIED_VOL',\n",
    "                              'DGS1MO': 'INTEREST_RATE'\n",
    "                             }, axis='columns')\n",
    "Call_data.head()"
   ]
  },
  {
   "cell_type": "code",
   "execution_count": 18,
   "metadata": {},
   "outputs": [],
   "source": [
    "def get_put_options_price(quote_date, S, K, T, R, IR):\n",
    "    '''\n",
    "    T in years\n",
    "    IR in 100%\n",
    "    Also need the SPY historical prices\n",
    "    '''\n",
    "    start_idx = list(SPY['Date']).index(quote_date)\n",
    "    # end date is at least one day from start \n",
    "    end_idx = start_idx + 1\n",
    "    \n",
    "    start = SPY['Date'].values[start_idx]\n",
    "    # convert '2020-01-02' to date class\n",
    "    start_date = get_date(start)\n",
    "    \n",
    "    # get the end day idx\n",
    "    while (get_date(SPY['Date'].values[end_idx]) - start_date).days < T * 365:\n",
    "        end_idx += 1\n",
    "    \n",
    "    profit = [K - SPY.Close.values[i] for i in range(start_idx, end_idx + 1)]\n",
    "    max_idx = np.argmax(profit)\n",
    "    max_profit = profit[max_idx]\n",
    "    days = (get_date(SPY['Date'].values[max_idx]) - start_date).days / 365\n",
    "    # Using simple interest\n",
    "    Options_price = max_profit  / (1 + days * IR  / 100)\n",
    "        \n",
    "    return Options_price, SPY['Date'].values[end_idx]"
   ]
  },
  {
   "cell_type": "code",
   "execution_count": 19,
   "metadata": {},
   "outputs": [],
   "source": [
    "put_options_prices = [get_put_options_price(Put_data[' [QUOTE_DATE]'].values[i],\n",
    "                       Put_data[' [UNDERLYING_LAST]'].values[i],\n",
    "                       Put_data[' [STRIKE]'].values[i],\n",
    "                       Put_data[' [DTE]'].values[i],\n",
    "                       Put_data['DGS1MO'].values[i],\n",
    "                       IR\n",
    ")[0] for i in range(Put_data.shape[0])]\n",
    "Put_data['OPTIONS_PRICE'] = put_options_prices\n",
    "\n",
    "end_date = [get_put_options_price(Put_data[' [QUOTE_DATE]'].values[i],\n",
    "                       Put_data[' [UNDERLYING_LAST]'].values[i],\n",
    "                       Put_data[' [STRIKE]'].values[i],\n",
    "                       Put_data[' [DTE]'].values[i],\n",
    "                       Put_data['DGS1MO'].values[i],\n",
    "                       IR\n",
    ")[1] for i in range(Put_data.shape[0])]\n",
    "Put_data['END_DATE'] = end_date"
   ]
  },
  {
   "cell_type": "code",
   "execution_count": 20,
   "metadata": {},
   "outputs": [
    {
     "data": {
      "text/html": [
       "<div>\n",
       "<style scoped>\n",
       "    .dataframe tbody tr th:only-of-type {\n",
       "        vertical-align: middle;\n",
       "    }\n",
       "\n",
       "    .dataframe tbody tr th {\n",
       "        vertical-align: top;\n",
       "    }\n",
       "\n",
       "    .dataframe thead th {\n",
       "        text-align: right;\n",
       "    }\n",
       "</style>\n",
       "<table border=\"1\" class=\"dataframe\">\n",
       "  <thead>\n",
       "    <tr style=\"text-align: right;\">\n",
       "      <th></th>\n",
       "      <th>START_DATE</th>\n",
       "      <th>UNDERLYING</th>\n",
       "      <th>SKRIKE</th>\n",
       "      <th>MATURITY</th>\n",
       "      <th>DELTA</th>\n",
       "      <th>BID</th>\n",
       "      <th>ASK</th>\n",
       "      <th>IMPLIED_VOL</th>\n",
       "      <th>LIQUIDITY</th>\n",
       "      <th>INTEREST_RATE</th>\n",
       "      <th>OPTIONS_PRICE</th>\n",
       "      <th>END_DATE</th>\n",
       "    </tr>\n",
       "  </thead>\n",
       "  <tbody>\n",
       "    <tr>\n",
       "      <th>0</th>\n",
       "      <td>2020-01-02</td>\n",
       "      <td>324.87</td>\n",
       "      <td>270.0</td>\n",
       "      <td>0.002854</td>\n",
       "      <td>-0.006800</td>\n",
       "      <td>0.05</td>\n",
       "      <td>0.06</td>\n",
       "      <td>0.28440</td>\n",
       "      <td>2.365532e-16</td>\n",
       "      <td>1.53</td>\n",
       "      <td>-52.407802</td>\n",
       "      <td>2020-01-06</td>\n",
       "    </tr>\n",
       "    <tr>\n",
       "      <th>1</th>\n",
       "      <td>2020-01-02</td>\n",
       "      <td>324.87</td>\n",
       "      <td>275.0</td>\n",
       "      <td>0.002854</td>\n",
       "      <td>-0.008790</td>\n",
       "      <td>0.07</td>\n",
       "      <td>0.08</td>\n",
       "      <td>0.26526</td>\n",
       "      <td>2.365532e-16</td>\n",
       "      <td>1.53</td>\n",
       "      <td>-47.408012</td>\n",
       "      <td>2020-01-06</td>\n",
       "    </tr>\n",
       "    <tr>\n",
       "      <th>2</th>\n",
       "      <td>2020-01-02</td>\n",
       "      <td>324.87</td>\n",
       "      <td>280.0</td>\n",
       "      <td>0.002854</td>\n",
       "      <td>-0.011020</td>\n",
       "      <td>0.08</td>\n",
       "      <td>0.09</td>\n",
       "      <td>0.24827</td>\n",
       "      <td>2.365532e-16</td>\n",
       "      <td>1.53</td>\n",
       "      <td>-42.408222</td>\n",
       "      <td>2020-01-06</td>\n",
       "    </tr>\n",
       "    <tr>\n",
       "      <th>3</th>\n",
       "      <td>2020-01-02</td>\n",
       "      <td>324.87</td>\n",
       "      <td>285.0</td>\n",
       "      <td>0.002854</td>\n",
       "      <td>-0.016170</td>\n",
       "      <td>0.11</td>\n",
       "      <td>0.13</td>\n",
       "      <td>0.23112</td>\n",
       "      <td>1.136364e-02</td>\n",
       "      <td>1.53</td>\n",
       "      <td>-37.408433</td>\n",
       "      <td>2020-01-06</td>\n",
       "    </tr>\n",
       "    <tr>\n",
       "      <th>4</th>\n",
       "      <td>2020-01-02</td>\n",
       "      <td>324.87</td>\n",
       "      <td>299.0</td>\n",
       "      <td>0.002854</td>\n",
       "      <td>-0.043410</td>\n",
       "      <td>0.28</td>\n",
       "      <td>0.29</td>\n",
       "      <td>0.18376</td>\n",
       "      <td>1.892426e-16</td>\n",
       "      <td>1.53</td>\n",
       "      <td>-23.409021</td>\n",
       "      <td>2020-01-06</td>\n",
       "    </tr>\n",
       "  </tbody>\n",
       "</table>\n",
       "</div>"
      ],
      "text/plain": [
       "   START_DATE  UNDERLYING  SKRIKE  MATURITY       DELTA   BID   ASK  \\\n",
       "0  2020-01-02      324.87   270.0  0.002854   -0.006800  0.05  0.06   \n",
       "1  2020-01-02      324.87   275.0  0.002854   -0.008790  0.07  0.08   \n",
       "2  2020-01-02      324.87   280.0  0.002854   -0.011020  0.08  0.09   \n",
       "3  2020-01-02      324.87   285.0  0.002854   -0.016170  0.11  0.13   \n",
       "4  2020-01-02      324.87   299.0  0.002854   -0.043410  0.28  0.29   \n",
       "\n",
       "   IMPLIED_VOL     LIQUIDITY INTEREST_RATE  OPTIONS_PRICE    END_DATE  \n",
       "0      0.28440  2.365532e-16          1.53     -52.407802  2020-01-06  \n",
       "1      0.26526  2.365532e-16          1.53     -47.408012  2020-01-06  \n",
       "2      0.24827  2.365532e-16          1.53     -42.408222  2020-01-06  \n",
       "3      0.23112  1.136364e-02          1.53     -37.408433  2020-01-06  \n",
       "4      0.18376  1.892426e-16          1.53     -23.409021  2020-01-06  "
      ]
     },
     "execution_count": 20,
     "metadata": {},
     "output_type": "execute_result"
    }
   ],
   "source": [
    "Put_data = Put_data.rename({' [QUOTE_DATE]': 'START_DATE',\n",
    "                              ' [UNDERLYING_LAST]': 'UNDERLYING',\n",
    "                              ' [STRIKE]': 'SKRIKE',\n",
    "                              ' [DTE]': 'MATURITY',\n",
    "                              ' [P_DELTA]': 'DELTA',\n",
    "                              ' [P_BID]' : 'BID',\n",
    "                              ' [P_ASK]': 'ASK',\n",
    "                              ' [P_IV]': 'IMPLIED_VOL',\n",
    "                              'DGS1MO': 'INTEREST_RATE'\n",
    "                             }, axis='columns')\n",
    "Put_data.head()"
   ]
  },
  {
   "cell_type": "code",
   "execution_count": 21,
   "metadata": {},
   "outputs": [
    {
     "data": {
      "image/png": "[encoded data removed]",
      "text/plain": [
       "<Figure size 864x360 with 2 Axes>"
      ]
     },
     "metadata": {},
     "output_type": "display_data"
    }
   ],
   "source": [
    "fig, axes = plt.subplots(1, 2, figsize = (12, 5))\n",
    "fig.suptitle('Expected profit for one contract')\n",
    "sns.histplot(ax = axes[0], data = Call_data['OPTIONS_PRICE'] - Call_data['ASK'], bins = 150)\n",
    "axes[0].set_xlim(-75, 20)\n",
    "axes[0].set_ylim(0, 5000)\n",
    "axes[0].set_xlabel(\"Expected profit for Call options\")\n",
    "axes[0].set_title(\"Call Options\")\n",
    "\n",
    "sns.histplot(ax = axes[1], data = Put_data['OPTIONS_PRICE'] - Put_data['ASK'], bins = 150)\n",
    "axes[1].set_xlim(-75, 20)\n",
    "axes[1].set_ylim(0, 5000)\n",
    "axes[1].set_xlabel(\"Expected profit for Put options\")\n",
    "axes[1].set_title(\"Put Options\")\n",
    "\n",
    "plt.show()"
   ]
  },
  {
   "cell_type": "code",
   "execution_count": 22,
   "metadata": {},
   "outputs": [],
   "source": [
    "Call_data.to_csv(\"/Users/gaojinglun/Desktop/Call_data.csv\")\n",
    "Put_data.to_csv(\"/Users/gaojinglun/Desktop/Put_data.csv\")"
   ]
  },
  {
   "cell_type": "markdown",
   "metadata": {},
   "source": [
    "OTM Options might have negative values"
   ]
  }
 ],
 "metadata": {
  "hide_input": false,
  "kernelspec": {
   "display_name": "Python 3",
   "language": "python",
   "name": "python3"
  },
  "language_info": {
   "codemirror_mode": {
    "name": "ipython",
    "version": 3
   },
   "file_extension": ".py",
   "mimetype": "text/x-python",
   "name": "python",
   "nbconvert_exporter": "python",
   "pygments_lexer": "ipython3",
   "version": "3.8.3"
  }
 },
 "nbformat": 4,
 "nbformat_minor": 4
}
