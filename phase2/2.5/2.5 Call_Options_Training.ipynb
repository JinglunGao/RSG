{
 "cells": [
  {
   "cell_type": "code",
   "execution_count": 19,
   "metadata": {},
   "outputs": [],
   "source": [
    "import numpy as np\n",
    "import pandas as pd\n",
    "import seaborn as sns\n",
    "import matplotlib.pyplot as plt\n",
    "import time\n",
    "import pickle\n",
    "sns.set()\n",
    "\n",
    "from sklearn.preprocessing import MinMaxScaler\n",
    "from sklearn.model_selection import train_test_split\n",
    "from sklearn.metrics import r2_score\n",
    "\n",
    "import tensorflow as tf\n",
    "from tensorflow import keras\n",
    "from tensorflow.keras import models, layers, activations, initializers"
   ]
  },
  {
   "cell_type": "code",
   "execution_count": 13,
   "metadata": {},
   "outputs": [
    {
     "data": {
      "text/html": [
       "<div>\n",
       "<style scoped>\n",
       "    .dataframe tbody tr th:only-of-type {\n",
       "        vertical-align: middle;\n",
       "    }\n",
       "\n",
       "    .dataframe tbody tr th {\n",
       "        vertical-align: top;\n",
       "    }\n",
       "\n",
       "    .dataframe thead th {\n",
       "        text-align: right;\n",
       "    }\n",
       "</style>\n",
       "<table border=\"1\" class=\"dataframe\">\n",
       "  <thead>\n",
       "    <tr style=\"text-align: right;\">\n",
       "      <th></th>\n",
       "      <th>UNDERLYING</th>\n",
       "      <th>SKRIKE</th>\n",
       "      <th>MATURITY</th>\n",
       "      <th>DELTA</th>\n",
       "      <th>BID</th>\n",
       "      <th>ASK</th>\n",
       "      <th>IMPLIED_VOL</th>\n",
       "      <th>LIQUIDITY</th>\n",
       "      <th>INTEREST_RATE</th>\n",
       "      <th>OPTIONS_PRICE</th>\n",
       "    </tr>\n",
       "  </thead>\n",
       "  <tbody>\n",
       "    <tr>\n",
       "      <th>0</th>\n",
       "      <td>324.87</td>\n",
       "      <td>270.0</td>\n",
       "      <td>0.002854</td>\n",
       "      <td>0.98424</td>\n",
       "      <td>54.91</td>\n",
       "      <td>55.15</td>\n",
       "      <td>0.32756</td>\n",
       "      <td>0.181102</td>\n",
       "      <td>1.53</td>\n",
       "      <td>54.869995</td>\n",
       "    </tr>\n",
       "    <tr>\n",
       "      <th>1</th>\n",
       "      <td>324.87</td>\n",
       "      <td>275.0</td>\n",
       "      <td>0.002854</td>\n",
       "      <td>0.99190</td>\n",
       "      <td>49.83</td>\n",
       "      <td>50.04</td>\n",
       "      <td>0.26110</td>\n",
       "      <td>0.157480</td>\n",
       "      <td>1.53</td>\n",
       "      <td>49.869995</td>\n",
       "    </tr>\n",
       "    <tr>\n",
       "      <th>2</th>\n",
       "      <td>324.87</td>\n",
       "      <td>280.0</td>\n",
       "      <td>0.002854</td>\n",
       "      <td>0.97514</td>\n",
       "      <td>44.72</td>\n",
       "      <td>45.51</td>\n",
       "      <td>0.28942</td>\n",
       "      <td>0.614173</td>\n",
       "      <td>1.53</td>\n",
       "      <td>44.869995</td>\n",
       "    </tr>\n",
       "    <tr>\n",
       "      <th>3</th>\n",
       "      <td>324.87</td>\n",
       "      <td>285.0</td>\n",
       "      <td>0.002854</td>\n",
       "      <td>0.97957</td>\n",
       "      <td>39.93</td>\n",
       "      <td>40.13</td>\n",
       "      <td>0.24333</td>\n",
       "      <td>0.149606</td>\n",
       "      <td>1.53</td>\n",
       "      <td>39.869995</td>\n",
       "    </tr>\n",
       "    <tr>\n",
       "      <th>4</th>\n",
       "      <td>324.87</td>\n",
       "      <td>290.0</td>\n",
       "      <td>0.002854</td>\n",
       "      <td>0.96399</td>\n",
       "      <td>35.06</td>\n",
       "      <td>35.27</td>\n",
       "      <td>0.24022</td>\n",
       "      <td>0.157480</td>\n",
       "      <td>1.53</td>\n",
       "      <td>34.869995</td>\n",
       "    </tr>\n",
       "  </tbody>\n",
       "</table>\n",
       "</div>"
      ],
      "text/plain": [
       "   UNDERLYING  SKRIKE  MATURITY    DELTA    BID    ASK  IMPLIED_VOL  \\\n",
       "0      324.87   270.0  0.002854  0.98424  54.91  55.15      0.32756   \n",
       "1      324.87   275.0  0.002854  0.99190  49.83  50.04      0.26110   \n",
       "2      324.87   280.0  0.002854  0.97514  44.72  45.51      0.28942   \n",
       "3      324.87   285.0  0.002854  0.97957  39.93  40.13      0.24333   \n",
       "4      324.87   290.0  0.002854  0.96399  35.06  35.27      0.24022   \n",
       "\n",
       "   LIQUIDITY  INTEREST_RATE  OPTIONS_PRICE  \n",
       "0   0.181102           1.53      54.869995  \n",
       "1   0.157480           1.53      49.869995  \n",
       "2   0.614173           1.53      44.869995  \n",
       "3   0.149606           1.53      39.869995  \n",
       "4   0.157480           1.53      34.869995  "
      ]
     },
     "execution_count": 13,
     "metadata": {},
     "output_type": "execute_result"
    }
   ],
   "source": [
    "# Read the data\n",
    "df = pd.read_csv('Call_data.csv')\n",
    "df = df.drop(['Unnamed: 0', 'START_DATE', 'END_DATE'], axis = 1)\n",
    "df.head()"
   ]
  },
  {
   "cell_type": "code",
   "execution_count": 14,
   "metadata": {},
   "outputs": [
    {
     "data": {
      "text/plain": [
       "((38296, 9), (9575, 9), (38296,), (9575,))"
      ]
     },
     "execution_count": 14,
     "metadata": {},
     "output_type": "execute_result"
    }
   ],
   "source": [
    "X = df[df.columns.values[:-1]]\n",
    "y = df['OPTIONS_PRICE']\n",
    "\n",
    "X_train, X_test, y_train, y_test = train_test_split(X, y, test_size = 0.2, random_state = 123)\n",
    "X_train.shape, X_test.shape, y_train.shape, y_test.shape"
   ]
  },
  {
   "cell_type": "code",
   "execution_count": 15,
   "metadata": {},
   "outputs": [],
   "source": [
    "scalerX = MinMaxScaler().fit(X_train)\n",
    "X_train = pd.DataFrame(scalerX.transform(X_train), columns = X.columns.values) \n",
    "X_test = pd.DataFrame(scalerX.transform(X_test), columns = X.columns.values) \n",
    "\n",
    "scalery = MinMaxScaler().fit(y_train.values.reshape(-1, 1))\n",
    "y_train = scalery.transform(y_train.values.reshape(-1, 1))\n",
    "y_test = scalery.transform(y_test.values.reshape(-1, 1))"
   ]
  },
  {
   "cell_type": "code",
   "execution_count": 20,
   "metadata": {},
   "outputs": [],
   "source": [
    "pickle_out = open(\"scalerX.pickle\",\"wb\")\n",
    "pickle.dump(scalerX, pickle_out)\n",
    "pickle_out.close()\n",
    "\n",
    "pickle_out = open(\"scalery.pickle\",\"wb\")\n",
    "pickle.dump(scalery, pickle_out)\n",
    "pickle_out.close()"
   ]
  },
  {
   "cell_type": "code",
   "execution_count": 5,
   "metadata": {},
   "outputs": [],
   "source": [
    "def plot_loss(history):\n",
    "    plt.figure(figsize = (8,6))\n",
    "    plt.plot(history.history['loss'], label = 'loss')\n",
    "    plt.plot(history.history['val_loss'], label = 'val_loss')\n",
    "    plt.xlabel('Epoch')\n",
    "    plt.ylabel('loss')\n",
    "    plt.legend()\n",
    "    plt.grid(True)\n",
    "    \n",
    "def plot_time(time):\n",
    "    print('The total training time is {} seconds.'.format(np.round(np.sum(time), 1)))\n",
    "    plt.figure(figsize = (8,6))\n",
    "    plt.plot(np.arange(1, len(time) + 1), time)\n",
    "    plt.xlabel('Epoch')\n",
    "    plt.ylabel('Time for each epoch')\n",
    "    plt.grid(True)\n",
    "    \n",
    "class TimeHistory(tf.keras.callbacks.Callback):\n",
    "    def on_train_begin(self, logs = {}):\n",
    "        self.times = []\n",
    "\n",
    "    def on_epoch_begin(self, batch, logs = {}):\n",
    "        self.epoch_time_start = time.time()\n",
    "\n",
    "    def on_epoch_end(self, batch, logs = {}):\n",
    "        self.times.append(time.time() - self.epoch_time_start)"
   ]
  },
  {
   "cell_type": "code",
   "execution_count": 6,
   "metadata": {},
   "outputs": [
    {
     "name": "stdout",
     "output_type": "stream",
     "text": [
      "When the learning rate is 0.01\n",
      "The training R squared is 0.9846\n",
      "The testing R squared is 0.9841\n",
      "-------------------------------------------------------------------\n",
      "When the learning rate is 0.001\n",
      "The training R squared is 0.982\n",
      "The testing R squared is 0.9818\n",
      "-------------------------------------------------------------------\n",
      "When the learning rate is 0.0001\n",
      "The training R squared is 0.9966\n",
      "The testing R squared is 0.9966\n",
      "-------------------------------------------------------------------\n"
     ]
    }
   ],
   "source": [
    "np.random.seed(123)\n",
    "tf.random.set_seed(123)\n",
    "\n",
    "learning_rate = [1e-2, 1e-3, 1e-4]\n",
    "History = []\n",
    "times = []\n",
    "earlyStop = tf.keras.callbacks.EarlyStopping(monitor = 'loss', patience = 3)\n",
    "\n",
    "for lr in learning_rate:\n",
    "    model = models.Sequential()\n",
    "    # Input layer\n",
    "    model.add(layers.Dense(units = 9,\n",
    "                           kernel_initializer = initializers.RandomNormal(seed = 123),\n",
    "                           bias_initializer = initializers.Zeros()))\n",
    "    model.add(layers.Activation(activations.elu))\n",
    "\n",
    "    numLayers = 5\n",
    "    for i in range(numLayers):\n",
    "        model.add(layers.BatchNormalization())\n",
    "        model.add(layers.Dense(units = 100, \n",
    "                               kernel_initializer = initializers.RandomNormal(seed = 123),\n",
    "                               bias_initializer = initializers.Zeros()))\n",
    "        model.add(layers.Activation(activations.elu))\n",
    "        model.add(layers.Dropout(0.25))\n",
    "\n",
    "    # Output layer\n",
    "    model.add(layers.Dense(units = 1))\n",
    "    model.add(layers.LeakyReLU(alpha = 1))\n",
    "\n",
    "    model.compile(\n",
    "        optimizer = keras.optimizers.Adam(learning_rate = lr), loss = \"mean_squared_error\"\n",
    "    )\n",
    "    \n",
    "    time_callback = TimeHistory()\n",
    "\n",
    "    history = model.fit(X_train, \n",
    "        y_train, \n",
    "        epochs = 100, \n",
    "        verbose = 0,\n",
    "        batch_size = 64, \n",
    "        callbacks = [earlyStop, time_callback],\n",
    "        validation_split = 0.2)\n",
    "    train_pred = model.predict(X_train)\n",
    "    test_pred = model.predict(X_test)\n",
    "    print('When the learning rate is', lr)\n",
    "    print(\"The training R squared is\", \n",
    "          np.round(r2_score(y_train, train_pred), 4))\n",
    "    print(\"The testing R squared is\", \n",
    "          np.round(r2_score(y_test, test_pred), 4))\n",
    "    print('-------------------------------------------------------------------')\n",
    "    History.append(history)\n",
    "    times.append(time_callback.times)\n",
    "    path = \"/Users/gaojinglun/Desktop/Research/2.5/2.5Call_LR\" + str(lr) + \".h5\"\n",
    "    model.save(path)"
   ]
  },
  {
   "cell_type": "code",
   "execution_count": 7,
   "metadata": {},
   "outputs": [
    {
     "name": "stdout",
     "output_type": "stream",
     "text": [
      "The total training time is 61.7 seconds.\n"
     ]
    },
    {
     "data": {
      "image/png": "[encoded data removed]",
      "text/plain": [
       "<Figure size 576x432 with 1 Axes>"
      ]
     },
     "metadata": {},
     "output_type": "display_data"
    },
    {
     "data": {
      "image/png": "[encoded data removed]",
      "text/plain": [
       "<Figure size 576x432 with 1 Axes>"
      ]
     },
     "metadata": {},
     "output_type": "display_data"
    }
   ],
   "source": [
    "plot_loss(History[2])\n",
    "plot_time(times[2])"
   ]
  }
 ],
 "metadata": {
  "hide_input": false,
  "kernelspec": {
   "display_name": "Python 3",
   "language": "python",
   "name": "python3"
  },
  "language_info": {
   "codemirror_mode": {
    "name": "ipython",
    "version": 3
   },
   "file_extension": ".py",
   "mimetype": "text/x-python",
   "name": "python",
   "nbconvert_exporter": "python",
   "pygments_lexer": "ipython3",
   "version": "3.8.3"
  }
 },
 "nbformat": 4,
 "nbformat_minor": 4
}
