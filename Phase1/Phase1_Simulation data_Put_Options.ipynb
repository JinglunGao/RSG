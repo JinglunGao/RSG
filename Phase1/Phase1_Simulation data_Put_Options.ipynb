{
 "cells": [
  {
   "cell_type": "code",
   "execution_count": 1,
   "metadata": {},
   "outputs": [],
   "source": [
    "import numpy as np\n",
    "import pandas as pd\n",
    "import scipy.stats as si"
   ]
  },
  {
   "cell_type": "code",
   "execution_count": 2,
   "metadata": {},
   "outputs": [],
   "source": [
    "np.random.seed(123)"
   ]
  },
  {
   "cell_type": "code",
   "execution_count": 3,
   "metadata": {},
   "outputs": [],
   "source": [
    "def black_scholes_put_option(S, K, T, q, r, sigma):\n",
    "    '''\n",
    "    S: Stock price\n",
    "    K: Strike price\n",
    "    T: Maturity\n",
    "    q: Dividend rate\n",
    "    r: Risk free rate\n",
    "    sigma: Volatility\n",
    "    '''\n",
    "    \n",
    "    d1 = (np.log(S / K) + (r - q + 0.5 * sigma ** 2) * T) / (sigma * np.sqrt(T))\n",
    "    d2 = d1 - sigma * np.sqrt(T)\n",
    "    \n",
    "    put = K * np.exp(-r * T) * si.norm.cdf(-d2) - S * np.exp(-q * T) * si.norm.cdf(-d1)\n",
    "    \n",
    "    return put"
   ]
  },
  {
   "cell_type": "code",
   "execution_count": 4,
   "metadata": {},
   "outputs": [],
   "source": [
    "sim_size = 300000"
   ]
  },
  {
   "cell_type": "code",
   "execution_count": 5,
   "metadata": {},
   "outputs": [],
   "source": [
    "K = np.random.uniform(7, 650, sim_size).astype(int)\n",
    "S = np.zeros(sim_size)\n",
    "for i in range(sim_size):\n",
    "    S[i] = np.random.uniform(K[i] * 0.95, K[i] * 1.05, 1)\n",
    "S = np.round(S, 2)\n",
    "T = np.random.uniform(1, 250 * 3, sim_size).astype(int) / 250\n",
    "q = np.random.uniform(0, 0.03, sim_size)\n",
    "r = np.random.uniform(0.01, 0.03, sim_size)\n",
    "sigma = np.random.uniform(0.05, 0.9, sim_size)"
   ]
  },
  {
   "cell_type": "code",
   "execution_count": 6,
   "metadata": {},
   "outputs": [],
   "source": [
    "put_price = black_scholes_put_option(S, K, T, q, r, sigma)"
   ]
  },
  {
   "cell_type": "code",
   "execution_count": 7,
   "metadata": {},
   "outputs": [],
   "source": [
    "sim_data = pd.DataFrame(\n",
    "    np.vstack((S, K, T, q, r, sigma, put_price)).T,\n",
    "    columns = ['Stock price', 'Strike price', 'Maturity', \n",
    "               'Dividend rate', 'Risk free rate', 'Volatility', 'Put Price'] \n",
    ")"
   ]
  },
  {
   "cell_type": "code",
   "execution_count": 8,
   "metadata": {},
   "outputs": [
    {
     "data": {
      "text/html": [
       "<div>\n",
       "<style scoped>\n",
       "    .dataframe tbody tr th:only-of-type {\n",
       "        vertical-align: middle;\n",
       "    }\n",
       "\n",
       "    .dataframe tbody tr th {\n",
       "        vertical-align: top;\n",
       "    }\n",
       "\n",
       "    .dataframe thead th {\n",
       "        text-align: right;\n",
       "    }\n",
       "</style>\n",
       "<table border=\"1\" class=\"dataframe\">\n",
       "  <thead>\n",
       "    <tr style=\"text-align: right;\">\n",
       "      <th></th>\n",
       "      <th>Stock price</th>\n",
       "      <th>Strike price</th>\n",
       "      <th>Maturity</th>\n",
       "      <th>Dividend rate</th>\n",
       "      <th>Risk free rate</th>\n",
       "      <th>Volatility</th>\n",
       "      <th>Put Price</th>\n",
       "    </tr>\n",
       "  </thead>\n",
       "  <tbody>\n",
       "    <tr>\n",
       "      <th>0</th>\n",
       "      <td>455.03</td>\n",
       "      <td>454.0</td>\n",
       "      <td>0.976</td>\n",
       "      <td>0.020148</td>\n",
       "      <td>0.019092</td>\n",
       "      <td>0.880006</td>\n",
       "      <td>149.640109</td>\n",
       "    </tr>\n",
       "    <tr>\n",
       "      <th>1</th>\n",
       "      <td>182.35</td>\n",
       "      <td>190.0</td>\n",
       "      <td>1.316</td>\n",
       "      <td>0.005972</td>\n",
       "      <td>0.019851</td>\n",
       "      <td>0.555565</td>\n",
       "      <td>47.873816</td>\n",
       "    </tr>\n",
       "    <tr>\n",
       "      <th>2</th>\n",
       "      <td>154.09</td>\n",
       "      <td>152.0</td>\n",
       "      <td>0.092</td>\n",
       "      <td>0.001171</td>\n",
       "      <td>0.012583</td>\n",
       "      <td>0.647748</td>\n",
       "      <td>10.877786</td>\n",
       "    </tr>\n",
       "    <tr>\n",
       "      <th>3</th>\n",
       "      <td>373.74</td>\n",
       "      <td>361.0</td>\n",
       "      <td>0.300</td>\n",
       "      <td>0.027602</td>\n",
       "      <td>0.022187</td>\n",
       "      <td>0.314800</td>\n",
       "      <td>19.482193</td>\n",
       "    </tr>\n",
       "    <tr>\n",
       "      <th>4</th>\n",
       "      <td>465.96</td>\n",
       "      <td>469.0</td>\n",
       "      <td>2.540</td>\n",
       "      <td>0.010858</td>\n",
       "      <td>0.020669</td>\n",
       "      <td>0.742902</td>\n",
       "      <td>196.271390</td>\n",
       "    </tr>\n",
       "  </tbody>\n",
       "</table>\n",
       "</div>"
      ],
      "text/plain": [
       "   Stock price  Strike price  Maturity  Dividend rate  Risk free rate  \\\n",
       "0       455.03         454.0     0.976       0.020148        0.019092   \n",
       "1       182.35         190.0     1.316       0.005972        0.019851   \n",
       "2       154.09         152.0     0.092       0.001171        0.012583   \n",
       "3       373.74         361.0     0.300       0.027602        0.022187   \n",
       "4       465.96         469.0     2.540       0.010858        0.020669   \n",
       "\n",
       "   Volatility   Put Price  \n",
       "0    0.880006  149.640109  \n",
       "1    0.555565   47.873816  \n",
       "2    0.647748   10.877786  \n",
       "3    0.314800   19.482193  \n",
       "4    0.742902  196.271390  "
      ]
     },
     "execution_count": 8,
     "metadata": {},
     "output_type": "execute_result"
    }
   ],
   "source": [
    "sim_data.head()"
   ]
  },
  {
   "cell_type": "code",
   "execution_count": 9,
   "metadata": {},
   "outputs": [],
   "source": [
    "sim_data.to_csv(\"/Users/gaojinglun/Desktop/RSG/sim_data_put.csv\")"
   ]
  }
 ],
 "metadata": {
  "hide_input": false,
  "kernelspec": {
   "display_name": "Python 3",
   "language": "python",
   "name": "python3"
  },
  "language_info": {
   "codemirror_mode": {
    "name": "ipython",
    "version": 3
   },
   "file_extension": ".py",
   "mimetype": "text/x-python",
   "name": "python",
   "nbconvert_exporter": "python",
   "pygments_lexer": "ipython3",
   "version": "3.8.3"
  }
 },
 "nbformat": 4,
 "nbformat_minor": 4
}
