{
 "cells": [
  {
   "cell_type": "code",
   "execution_count": 1,
   "metadata": {},
   "outputs": [],
   "source": [
    "import numpy as np\n",
    "import pandas as pd\n",
    "import scipy.stats as si"
   ]
  },
  {
   "cell_type": "code",
   "execution_count": 2,
   "metadata": {},
   "outputs": [],
   "source": [
    "np.random.seed(123)"
   ]
  },
  {
   "cell_type": "code",
   "execution_count": 3,
   "metadata": {},
   "outputs": [],
   "source": [
    "def black_scholes_call_option(S, K, T, q, r, sigma):\n",
    "    '''\n",
    "    S: Stock price\n",
    "    K: Strike price\n",
    "    T: Maturity\n",
    "    q: Dividend rate\n",
    "    r: Risk free rate\n",
    "    sigma: Volatility\n",
    "    '''\n",
    "    \n",
    "    d1 = (np.log(S / K) + (r - q + 0.5 * sigma ** 2) * T) / (sigma * np.sqrt(T))\n",
    "    d2 = d1 - sigma * np.sqrt(T)\n",
    "    \n",
    "    call = (S * np.exp(-q * T) * si.norm.cdf(d1) - K * np.exp(-r * T) * si.norm.cdf(d2))\n",
    "    \n",
    "    return call"
   ]
  },
  {
   "cell_type": "code",
   "execution_count": 4,
   "metadata": {},
   "outputs": [],
   "source": [
    "sim_size = 300000"
   ]
  },
  {
   "cell_type": "code",
   "execution_count": 5,
   "metadata": {},
   "outputs": [],
   "source": [
    "K = np.random.uniform(7, 650, sim_size)\n",
    "S = np.zeros(sim_size)\n",
    "for i in range(sim_size):\n",
    "    S[i] = np.random.uniform(K[i] * 0.95, K[i] * 1.05, 1)\n",
    "T = np.random.uniform(1, 365 * 3, sim_size).astype(int)\n",
    "q = np.random.uniform(0, 0.03, sim_size)\n",
    "r = np.random.uniform(0.01, 0.03, sim_size)\n",
    "sigma = np.random.uniform(0.05, 0.9, sim_size)"
   ]
  },
  {
   "cell_type": "code",
   "execution_count": 6,
   "metadata": {},
   "outputs": [],
   "source": [
    "call_price = black_scholes_call_option(S, K, T, q, r, sigma)"
   ]
  },
  {
   "cell_type": "code",
   "execution_count": 7,
   "metadata": {},
   "outputs": [],
   "source": [
    "sim_data = pd.DataFrame(\n",
    "    np.vstack((S, K, T, q, r, sigma, call_price)).T,\n",
    "    columns = ['Stock price', 'Strike price', 'Maturity', \n",
    "               'Dividend rate', 'Risk free rate', 'Volatility', 'Call Price'] \n",
    ")"
   ]
  },
  {
   "cell_type": "code",
   "execution_count": 8,
   "metadata": {},
   "outputs": [
    {
     "data": {
      "text/html": [
       "<div>\n",
       "<style scoped>\n",
       "    .dataframe tbody tr th:only-of-type {\n",
       "        vertical-align: middle;\n",
       "    }\n",
       "\n",
       "    .dataframe tbody tr th {\n",
       "        vertical-align: top;\n",
       "    }\n",
       "\n",
       "    .dataframe thead th {\n",
       "        text-align: right;\n",
       "    }\n",
       "</style>\n",
       "<table border=\"1\" class=\"dataframe\">\n",
       "  <thead>\n",
       "    <tr style=\"text-align: right;\">\n",
       "      <th></th>\n",
       "      <th>Stock price</th>\n",
       "      <th>Strike price</th>\n",
       "      <th>Maturity</th>\n",
       "      <th>Dividend rate</th>\n",
       "      <th>Risk free rate</th>\n",
       "      <th>Volatility</th>\n",
       "      <th>Call Price</th>\n",
       "    </tr>\n",
       "  </thead>\n",
       "  <tbody>\n",
       "    <tr>\n",
       "      <th>0</th>\n",
       "      <td>455.863983</td>\n",
       "      <td>454.829686</td>\n",
       "      <td>356.0</td>\n",
       "      <td>0.020148</td>\n",
       "      <td>0.019092</td>\n",
       "      <td>0.880006</td>\n",
       "      <td>0.349798</td>\n",
       "    </tr>\n",
       "    <tr>\n",
       "      <th>1</th>\n",
       "      <td>183.299649</td>\n",
       "      <td>190.987592</td>\n",
       "      <td>481.0</td>\n",
       "      <td>0.005972</td>\n",
       "      <td>0.019851</td>\n",
       "      <td>0.555565</td>\n",
       "      <td>10.367364</td>\n",
       "    </tr>\n",
       "    <tr>\n",
       "      <th>2</th>\n",
       "      <td>154.969757</td>\n",
       "      <td>152.865485</td>\n",
       "      <td>34.0</td>\n",
       "      <td>0.001171</td>\n",
       "      <td>0.012583</td>\n",
       "      <td>0.647748</td>\n",
       "      <td>141.765989</td>\n",
       "    </tr>\n",
       "    <tr>\n",
       "      <th>3</th>\n",
       "      <td>374.253746</td>\n",
       "      <td>361.495397</td>\n",
       "      <td>110.0</td>\n",
       "      <td>0.027602</td>\n",
       "      <td>0.022187</td>\n",
       "      <td>0.314800</td>\n",
       "      <td>15.644451</td>\n",
       "    </tr>\n",
       "    <tr>\n",
       "      <th>4</th>\n",
       "      <td>466.573790</td>\n",
       "      <td>469.618548</td>\n",
       "      <td>927.0</td>\n",
       "      <td>0.010858</td>\n",
       "      <td>0.020669</td>\n",
       "      <td>0.742902</td>\n",
       "      <td>0.019849</td>\n",
       "    </tr>\n",
       "  </tbody>\n",
       "</table>\n",
       "</div>"
      ],
      "text/plain": [
       "   Stock price  Strike price  Maturity  Dividend rate  Risk free rate  \\\n",
       "0   455.863983    454.829686     356.0       0.020148        0.019092   \n",
       "1   183.299649    190.987592     481.0       0.005972        0.019851   \n",
       "2   154.969757    152.865485      34.0       0.001171        0.012583   \n",
       "3   374.253746    361.495397     110.0       0.027602        0.022187   \n",
       "4   466.573790    469.618548     927.0       0.010858        0.020669   \n",
       "\n",
       "   Volatility  Call Price  \n",
       "0    0.880006    0.349798  \n",
       "1    0.555565   10.367364  \n",
       "2    0.647748  141.765989  \n",
       "3    0.314800   15.644451  \n",
       "4    0.742902    0.019849  "
      ]
     },
     "execution_count": 8,
     "metadata": {},
     "output_type": "execute_result"
    }
   ],
   "source": [
    "sim_data.head()"
   ]
  },
  {
   "cell_type": "code",
   "execution_count": 9,
   "metadata": {},
   "outputs": [],
   "source": [
    "sim_data.to_csv(\"/Users/gaojinglun/Desktop/RSG/sim_data.csv\")"
   ]
  }
 ],
 "metadata": {
  "hide_input": false,
  "kernelspec": {
   "display_name": "Python 3",
   "language": "python",
   "name": "python3"
  },
  "language_info": {
   "codemirror_mode": {
    "name": "ipython",
    "version": 3
   },
   "file_extension": ".py",
   "mimetype": "text/x-python",
   "name": "python",
   "nbconvert_exporter": "python",
   "pygments_lexer": "ipython3",
   "version": "3.8.3"
  }
 },
 "nbformat": 4,
 "nbformat_minor": 4
}
