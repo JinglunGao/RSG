{
 "cells": [
  {
   "cell_type": "markdown",
   "metadata": {},
   "source": [
    "### Emsemble Neural Networks\n",
    "\n",
    "trains a number of neural networks $\\rightarrow$ assigns random weights to those networks $\\rightarrow$ employs genetic algorithm to evolve the weights\n",
    "\n",
    "[Ensembling neural networks: Many could be better than all](https://www.sciencedirect.com/science/article/pii/S000437020200190X)"
   ]
  },
  {
   "cell_type": "markdown",
   "metadata": {},
   "source": [
    "<table>\n",
    "  <thead>\n",
    "    <tr>\n",
    "      <th>Models</th>\n",
    "      <th>ITM Call</th>\n",
    "      <th>ATM Call</th>\n",
    "      <th>OTM Call</th>\n",
    "      <th>Overall Call</th>\n",
    "      <th>ITM Put</th>\n",
    "      <th>ATM Put</th>\n",
    "      <th>OTM Put</th>\n",
    "      <th>Overall Put</th>\n",
    "    </tr>\n",
    "  </thead>\n",
    "  <tbody>\n",
    "    <tr>\n",
    "      <td>BS Uses Implied Vol</td>\n",
    "      <td>0.99881</td>\n",
    "      <td>0.98681</td>\n",
    "      <td>0.99612</td>\n",
    "      <td>0.9994</td>\n",
    "      <td>0.99748</td>\n",
    "      <td>0.99219</td>\n",
    "      <td>0.99795</td>\n",
    "      <td>0.999</td>\n",
    "    </tr>\n",
    "    <tr>\n",
    "      <td>BS Uses Hist Vol</td>\n",
    "      <td>0.97355</td>\n",
    "      <td>$\\color{red}{-1.49061}$</td>\n",
    "      <td>$\\color{red}{-0.4795}$</td>\n",
    "      <td>0.96737</td>\n",
    "      <td>0.90063</td>\n",
    "      <td>$\\color{red}{-1.8856}$</td>\n",
    "      <td>$\\color{red}{-0.53521}$</td>\n",
    "      <td>0.84061</td>\n",
    "    </tr>\n",
    "    <tr>\n",
    "      <td>ANN on ES&EZ</td>\n",
    "      <td>0.99798</td>\n",
    "      <td>0.94411</td>\n",
    "      <td>0.94344</td>\n",
    "      <td>0.99857</td>\n",
    "      <td>0.99417</td>\n",
    "      <td>0.94642</td>\n",
    "      <td>0.95953</td>\n",
    "      <td>0.99543</td>\n",
    "    </tr> \n",
    "    <tr>\n",
    "      <td>ENN on ES&EZ</td>\n",
    "      <td>0.99826</td>\n",
    "      <td>0.98681</td>\n",
    "      <td>0.92970</td>\n",
    "      <td>0.99868</td>\n",
    "      <td>0.99480</td>\n",
    "      <td>0.95646</td>\n",
    "      <td>0.97637</td>\n",
    "      <td>0.99651</td>\n",
    "    </tr>  \n",
    "  </tbody>\n",
    "</table>"
   ]
  },
  {
   "cell_type": "markdown",
   "metadata": {},
   "source": [
    "* I set n_estimators = 10\n",
    "\n",
    "* Maybe use weaker learner?\n",
    "\n",
    "* Underlying asset price of treasury yeild data?"
   ]
  },
  {
   "cell_type": "code",
   "execution_count": null,
   "metadata": {},
   "outputs": [],
   "source": []
  }
 ],
 "metadata": {
  "hide_input": false,
  "kernelspec": {
   "display_name": "Python 3",
   "language": "python",
   "name": "python3"
  },
  "language_info": {
   "codemirror_mode": {
    "name": "ipython",
    "version": 3
   },
   "file_extension": ".py",
   "mimetype": "text/x-python",
   "name": "python",
   "nbconvert_exporter": "python",
   "pygments_lexer": "ipython3",
   "version": "3.8.3"
  }
 },
 "nbformat": 4,
 "nbformat_minor": 4
}
