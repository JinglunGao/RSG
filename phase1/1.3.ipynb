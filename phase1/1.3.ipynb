{
 "cells": [
  {
   "cell_type": "markdown",
   "metadata": {},
   "source": [
    "## E-MINI S&P 500 OPTIONS\n",
    "\n",
    "- `Globex`: Globex is an electronic trading platform—the first of its kind when it launched in 1992—used for derivatives like futures, options, and commodity contracts across a wide range of asset classes. \n",
    "\n",
    "- `Last.Trade.Date`: The last trading day for an option is the day before the expiration date.\n",
    "\n",
    "- `Open.interest`: indicates the total number of option contracts that are currently out there. When options have a significant open interest, it means there are a large number of buyers and sellers out there.\n",
    "\n",
    "- `CONTRACT UNIT`: $50 x Agreed E-Mini Futures Price"
   ]
  },
  {
   "cell_type": "code",
   "execution_count": 30,
   "metadata": {},
   "outputs": [],
   "source": [
    "import numpy as np\n",
    "import pandas as pd\n",
    "import seaborn as sns\n",
    "import matplotlib.pyplot as plt\n",
    "import time\n",
    "from datetime import date\n",
    "import pickle\n",
    "\n",
    "from sklearn.preprocessing import StandardScaler, MinMaxScaler\n",
    "from sklearn.model_selection import train_test_split\n",
    "from sklearn.metrics import r2_score\n",
    "\n",
    "import tensorflow as tf\n",
    "from tensorflow import keras\n",
    "from tensorflow.keras.models import Sequential\n",
    "from tensorflow.keras import models, layers, activations\n",
    "from tensorflow.keras.layers import BatchNormalization\n",
    "\n",
    "np.set_printoptions(precision = 3, suppress = True)"
   ]
  },
  {
   "cell_type": "code",
   "execution_count": 10,
   "metadata": {},
   "outputs": [
    {
     "data": {
      "text/html": [
       "<div>\n",
       "<style scoped>\n",
       "    .dataframe tbody tr th:only-of-type {\n",
       "        vertical-align: middle;\n",
       "    }\n",
       "\n",
       "    .dataframe tbody tr th {\n",
       "        vertical-align: top;\n",
       "    }\n",
       "\n",
       "    .dataframe thead th {\n",
       "        text-align: right;\n",
       "    }\n",
       "</style>\n",
       "<table border=\"1\" class=\"dataframe\">\n",
       "  <thead>\n",
       "    <tr style=\"text-align: right;\">\n",
       "      <th></th>\n",
       "      <th>Put.Call</th>\n",
       "      <th>Strike.Price</th>\n",
       "      <th>Contract.Month</th>\n",
       "      <th>Settlement</th>\n",
       "      <th>Open.Interest</th>\n",
       "      <th>Delta</th>\n",
       "      <th>Implied.Volatility</th>\n",
       "      <th>Last.Trade.Date</th>\n",
       "    </tr>\n",
       "  </thead>\n",
       "  <tbody>\n",
       "    <tr>\n",
       "      <th>0</th>\n",
       "      <td>C</td>\n",
       "      <td>100</td>\n",
       "      <td>3</td>\n",
       "      <td>3802.9</td>\n",
       "      <td>0</td>\n",
       "      <td>1.0</td>\n",
       "      <td>0.922341</td>\n",
       "      <td>20210319</td>\n",
       "    </tr>\n",
       "    <tr>\n",
       "      <th>1</th>\n",
       "      <td>C</td>\n",
       "      <td>1000</td>\n",
       "      <td>3</td>\n",
       "      <td>2902.9</td>\n",
       "      <td>11</td>\n",
       "      <td>1.0</td>\n",
       "      <td>0.922341</td>\n",
       "      <td>20210319</td>\n",
       "    </tr>\n",
       "    <tr>\n",
       "      <th>2</th>\n",
       "      <td>C</td>\n",
       "      <td>1500</td>\n",
       "      <td>3</td>\n",
       "      <td>2403.0</td>\n",
       "      <td>20</td>\n",
       "      <td>1.0</td>\n",
       "      <td>0.906427</td>\n",
       "      <td>20210319</td>\n",
       "    </tr>\n",
       "    <tr>\n",
       "      <th>3</th>\n",
       "      <td>C</td>\n",
       "      <td>1550</td>\n",
       "      <td>3</td>\n",
       "      <td>2353.0</td>\n",
       "      <td>1</td>\n",
       "      <td>1.0</td>\n",
       "      <td>0.876522</td>\n",
       "      <td>20210319</td>\n",
       "    </tr>\n",
       "    <tr>\n",
       "      <th>4</th>\n",
       "      <td>C</td>\n",
       "      <td>1800</td>\n",
       "      <td>3</td>\n",
       "      <td>2103.1</td>\n",
       "      <td>7</td>\n",
       "      <td>1.0</td>\n",
       "      <td>0.797028</td>\n",
       "      <td>20210319</td>\n",
       "    </tr>\n",
       "  </tbody>\n",
       "</table>\n",
       "</div>"
      ],
      "text/plain": [
       "  Put.Call  Strike.Price  Contract.Month  Settlement  Open.Interest  Delta  \\\n",
       "0        C           100               3      3802.9              0    1.0   \n",
       "1        C          1000               3      2902.9             11    1.0   \n",
       "2        C          1500               3      2403.0             20    1.0   \n",
       "3        C          1550               3      2353.0              1    1.0   \n",
       "4        C          1800               3      2103.1              7    1.0   \n",
       "\n",
       "   Implied.Volatility  Last.Trade.Date  \n",
       "0            0.922341         20210319  \n",
       "1            0.922341         20210319  \n",
       "2            0.906427         20210319  \n",
       "3            0.876522         20210319  \n",
       "4            0.797028         20210319  "
      ]
     },
     "execution_count": 10,
     "metadata": {},
     "output_type": "execute_result"
    }
   ],
   "source": [
    "EZ = pd.read_excel(\"EZ.xlsx\")\n",
    "EZ.head()"
   ]
  },
  {
   "cell_type": "markdown",
   "metadata": {},
   "source": [
    "### Linear homogenous in BS model\n",
    "\n",
    "Underlying asset price:\n",
    "$$\\color{dodgerblue}{S_{new} = \\frac{S * 100}{S}}$$\n",
    "\n",
    "Strike price:\n",
    "$$\\color{dodgerblue}{K_{new} = \\frac{K * 100}{K}}$$\n",
    "\n",
    "Call price:\n",
    "$$\\color{dodgerblue}{C(S_{new}, K_{new}) = \\frac{C(S, K) * 100}{S}}$$"
   ]
  },
  {
   "cell_type": "code",
   "execution_count": 11,
   "metadata": {},
   "outputs": [],
   "source": [
    "assetPrice = 3900\n",
    "EZ['Strike.Price'] = (EZ['Strike.Price'].values * 100) / assetPrice\n",
    "EZ['Settlement'] = (EZ['Settlement'].values * 100) / assetPrice"
   ]
  },
  {
   "cell_type": "code",
   "execution_count": 12,
   "metadata": {},
   "outputs": [
    {
     "data": {
      "text/html": [
       "<div>\n",
       "<style scoped>\n",
       "    .dataframe tbody tr th:only-of-type {\n",
       "        vertical-align: middle;\n",
       "    }\n",
       "\n",
       "    .dataframe tbody tr th {\n",
       "        vertical-align: top;\n",
       "    }\n",
       "\n",
       "    .dataframe thead th {\n",
       "        text-align: right;\n",
       "    }\n",
       "</style>\n",
       "<table border=\"1\" class=\"dataframe\">\n",
       "  <thead>\n",
       "    <tr style=\"text-align: right;\">\n",
       "      <th></th>\n",
       "      <th>Put.Call</th>\n",
       "      <th>Strike.Price</th>\n",
       "      <th>Settlement</th>\n",
       "      <th>Implied.Volatility</th>\n",
       "      <th>Time.to.maturity</th>\n",
       "    </tr>\n",
       "  </thead>\n",
       "  <tbody>\n",
       "    <tr>\n",
       "      <th>0</th>\n",
       "      <td>C</td>\n",
       "      <td>2.564103</td>\n",
       "      <td>97.510256</td>\n",
       "      <td>0.922341</td>\n",
       "      <td>0.10137</td>\n",
       "    </tr>\n",
       "    <tr>\n",
       "      <th>1</th>\n",
       "      <td>C</td>\n",
       "      <td>25.641026</td>\n",
       "      <td>74.433333</td>\n",
       "      <td>0.922341</td>\n",
       "      <td>0.10137</td>\n",
       "    </tr>\n",
       "    <tr>\n",
       "      <th>2</th>\n",
       "      <td>C</td>\n",
       "      <td>38.461538</td>\n",
       "      <td>61.615385</td>\n",
       "      <td>0.906427</td>\n",
       "      <td>0.10137</td>\n",
       "    </tr>\n",
       "    <tr>\n",
       "      <th>3</th>\n",
       "      <td>C</td>\n",
       "      <td>39.743590</td>\n",
       "      <td>60.333333</td>\n",
       "      <td>0.876522</td>\n",
       "      <td>0.10137</td>\n",
       "    </tr>\n",
       "    <tr>\n",
       "      <th>4</th>\n",
       "      <td>C</td>\n",
       "      <td>46.153846</td>\n",
       "      <td>53.925641</td>\n",
       "      <td>0.797028</td>\n",
       "      <td>0.10137</td>\n",
       "    </tr>\n",
       "  </tbody>\n",
       "</table>\n",
       "</div>"
      ],
      "text/plain": [
       "  Put.Call  Strike.Price  Settlement  Implied.Volatility  Time.to.maturity\n",
       "0        C      2.564103   97.510256            0.922341           0.10137\n",
       "1        C     25.641026   74.433333            0.922341           0.10137\n",
       "2        C     38.461538   61.615385            0.906427           0.10137\n",
       "3        C     39.743590   60.333333            0.876522           0.10137\n",
       "4        C     46.153846   53.925641            0.797028           0.10137"
      ]
     },
     "execution_count": 12,
     "metadata": {},
     "output_type": "execute_result"
    }
   ],
   "source": [
    "# Calculate the time to maturity\n",
    "T = np.zeros(EZ.shape[0])\n",
    "start_date = date(2021, 2, 10)\n",
    "for i in range(EZ.shape[0]):\n",
    "    if EZ['Last.Trade.Date'][i] == 20210319:\n",
    "        T[i] = (date(2021, 3, 19) - start_date).days\n",
    "    elif EZ['Last.Trade.Date'][i] == 20210618:\n",
    "        T[i] = (date(2021, 6, 18) - start_date).days\n",
    "    elif EZ['Last.Trade.Date'][i] == 20210917:\n",
    "        T[i] = (date(2021, 9, 17) - start_date).days\n",
    "    elif EZ['Last.Trade.Date'][i] == 20211217:\n",
    "        T[i] = (date(2021, 12, 17) - start_date).days\n",
    "\n",
    "# Change the unit to be year\n",
    "T /= 365\n",
    "assert np.sum(T == 0) == 0, 'Time should be positive'\n",
    "\n",
    "df = EZ[['Put.Call', 'Strike.Price', 'Settlement', 'Implied.Volatility']].copy()\n",
    "df['Time.to.maturity'] = T\n",
    "df.head()"
   ]
  },
  {
   "cell_type": "code",
   "execution_count": 13,
   "metadata": {},
   "outputs": [
    {
     "data": {
      "image/png": "[encoded data removed]",
      "text/plain": [
       "<Figure size 576x432 with 20 Axes>"
      ]
     },
     "metadata": {
      "needs_background": "light"
     },
     "output_type": "display_data"
    }
   ],
   "source": [
    "# Pairs plot\n",
    "g = sns.pairplot(df, hue = 'Put.Call')\n",
    "g.fig.set_size_inches(8,6)\n",
    "plt.show()"
   ]
  },
  {
   "cell_type": "code",
   "execution_count": 17,
   "metadata": {},
   "outputs": [
    {
     "data": {
      "text/html": [
       "<div>\n",
       "<style scoped>\n",
       "    .dataframe tbody tr th:only-of-type {\n",
       "        vertical-align: middle;\n",
       "    }\n",
       "\n",
       "    .dataframe tbody tr th {\n",
       "        vertical-align: top;\n",
       "    }\n",
       "\n",
       "    .dataframe thead th {\n",
       "        text-align: right;\n",
       "    }\n",
       "</style>\n",
       "<table border=\"1\" class=\"dataframe\">\n",
       "  <thead>\n",
       "    <tr style=\"text-align: right;\">\n",
       "      <th></th>\n",
       "      <th>Strike.Price</th>\n",
       "      <th>Settlement</th>\n",
       "      <th>Implied.Volatility</th>\n",
       "      <th>Time.to.maturity</th>\n",
       "    </tr>\n",
       "  </thead>\n",
       "  <tbody>\n",
       "    <tr>\n",
       "      <th>0</th>\n",
       "      <td>2.564103</td>\n",
       "      <td>97.510256</td>\n",
       "      <td>0.922341</td>\n",
       "      <td>0.10137</td>\n",
       "    </tr>\n",
       "    <tr>\n",
       "      <th>1</th>\n",
       "      <td>25.641026</td>\n",
       "      <td>74.433333</td>\n",
       "      <td>0.922341</td>\n",
       "      <td>0.10137</td>\n",
       "    </tr>\n",
       "    <tr>\n",
       "      <th>2</th>\n",
       "      <td>38.461538</td>\n",
       "      <td>61.615385</td>\n",
       "      <td>0.906427</td>\n",
       "      <td>0.10137</td>\n",
       "    </tr>\n",
       "    <tr>\n",
       "      <th>3</th>\n",
       "      <td>39.743590</td>\n",
       "      <td>60.333333</td>\n",
       "      <td>0.876522</td>\n",
       "      <td>0.10137</td>\n",
       "    </tr>\n",
       "    <tr>\n",
       "      <th>4</th>\n",
       "      <td>46.153846</td>\n",
       "      <td>53.925641</td>\n",
       "      <td>0.797028</td>\n",
       "      <td>0.10137</td>\n",
       "    </tr>\n",
       "  </tbody>\n",
       "</table>\n",
       "</div>"
      ],
      "text/plain": [
       "   Strike.Price  Settlement  Implied.Volatility  Time.to.maturity\n",
       "0      2.564103   97.510256            0.922341           0.10137\n",
       "1     25.641026   74.433333            0.922341           0.10137\n",
       "2     38.461538   61.615385            0.906427           0.10137\n",
       "3     39.743590   60.333333            0.876522           0.10137\n",
       "4     46.153846   53.925641            0.797028           0.10137"
      ]
     },
     "execution_count": 17,
     "metadata": {},
     "output_type": "execute_result"
    }
   ],
   "source": [
    "df_Call = df[df['Put.Call'] == 'C']\n",
    "df_Call = df_Call.drop(['Put.Call'], axis = 1)\n",
    "df_Call.head()"
   ]
  },
  {
   "cell_type": "code",
   "execution_count": 18,
   "metadata": {},
   "outputs": [
    {
     "data": {
      "text/html": [
       "<div>\n",
       "<style scoped>\n",
       "    .dataframe tbody tr th:only-of-type {\n",
       "        vertical-align: middle;\n",
       "    }\n",
       "\n",
       "    .dataframe tbody tr th {\n",
       "        vertical-align: top;\n",
       "    }\n",
       "\n",
       "    .dataframe thead th {\n",
       "        text-align: right;\n",
       "    }\n",
       "</style>\n",
       "<table border=\"1\" class=\"dataframe\">\n",
       "  <thead>\n",
       "    <tr style=\"text-align: right;\">\n",
       "      <th></th>\n",
       "      <th>Strike.Price</th>\n",
       "      <th>Settlement</th>\n",
       "      <th>Implied.Volatility</th>\n",
       "      <th>Time.to.maturity</th>\n",
       "    </tr>\n",
       "  </thead>\n",
       "  <tbody>\n",
       "    <tr>\n",
       "      <th>count</th>\n",
       "      <td>470.000000</td>\n",
       "      <td>470.000000</td>\n",
       "      <td>470.000000</td>\n",
       "      <td>470.000000</td>\n",
       "    </tr>\n",
       "    <tr>\n",
       "      <th>mean</th>\n",
       "      <td>89.381615</td>\n",
       "      <td>14.700537</td>\n",
       "      <td>0.298491</td>\n",
       "      <td>0.319918</td>\n",
       "    </tr>\n",
       "    <tr>\n",
       "      <th>std</th>\n",
       "      <td>17.302600</td>\n",
       "      <td>13.512668</td>\n",
       "      <td>0.134437</td>\n",
       "      <td>0.236168</td>\n",
       "    </tr>\n",
       "    <tr>\n",
       "      <th>min</th>\n",
       "      <td>2.564103</td>\n",
       "      <td>0.001282</td>\n",
       "      <td>0.135391</td>\n",
       "      <td>0.101370</td>\n",
       "    </tr>\n",
       "    <tr>\n",
       "      <th>25%</th>\n",
       "      <td>77.500000</td>\n",
       "      <td>3.262821</td>\n",
       "      <td>0.193405</td>\n",
       "      <td>0.101370</td>\n",
       "    </tr>\n",
       "    <tr>\n",
       "      <th>50%</th>\n",
       "      <td>90.384615</td>\n",
       "      <td>11.747436</td>\n",
       "      <td>0.273854</td>\n",
       "      <td>0.350685</td>\n",
       "    </tr>\n",
       "    <tr>\n",
       "      <th>75%</th>\n",
       "      <td>101.794872</td>\n",
       "      <td>23.246154</td>\n",
       "      <td>0.363972</td>\n",
       "      <td>0.350685</td>\n",
       "    </tr>\n",
       "    <tr>\n",
       "      <th>max</th>\n",
       "      <td>128.205128</td>\n",
       "      <td>97.510256</td>\n",
       "      <td>0.922341</td>\n",
       "      <td>0.849315</td>\n",
       "    </tr>\n",
       "  </tbody>\n",
       "</table>\n",
       "</div>"
      ],
      "text/plain": [
       "       Strike.Price  Settlement  Implied.Volatility  Time.to.maturity\n",
       "count    470.000000  470.000000          470.000000        470.000000\n",
       "mean      89.381615   14.700537            0.298491          0.319918\n",
       "std       17.302600   13.512668            0.134437          0.236168\n",
       "min        2.564103    0.001282            0.135391          0.101370\n",
       "25%       77.500000    3.262821            0.193405          0.101370\n",
       "50%       90.384615   11.747436            0.273854          0.350685\n",
       "75%      101.794872   23.246154            0.363972          0.350685\n",
       "max      128.205128   97.510256            0.922341          0.849315"
      ]
     },
     "execution_count": 18,
     "metadata": {},
     "output_type": "execute_result"
    }
   ],
   "source": [
    "df_Call.describe()"
   ]
  },
  {
   "cell_type": "code",
   "execution_count": 26,
   "metadata": {},
   "outputs": [
    {
     "data": {
      "text/plain": [
       "0.101370    198\n",
       "0.350685    177\n",
       "0.600000     50\n",
       "0.849315     45\n",
       "Name: Time.to.maturity, dtype: int64"
      ]
     },
     "execution_count": 26,
     "metadata": {},
     "output_type": "execute_result"
    }
   ],
   "source": [
    "df_Call['Time.to.maturity'].value_counts()"
   ]
  },
  {
   "cell_type": "markdown",
   "metadata": {},
   "source": [
    "### Moneyness\n",
    "\n",
    "In the paper 'DeepOption: A novel option pricing framework based on deep learning with fused distilled data from multiple parametric methods', the dividing criteria for the moneyness are ITM when S/K > 1.05, ATM when 1.05 ≥ S/K ≥ 0.97, and OTM when 0.97 > S/K for the call option.\n",
    "\n",
    "Then,\n",
    "\n",
    "- ITM: K/S < 0.952\n",
    "- ATM: 0.952 ≤ K/S ≤ 1.03\n",
    "- OTM: K/S > 1.03"
   ]
  },
  {
   "cell_type": "code",
   "execution_count": 42,
   "metadata": {},
   "outputs": [
    {
     "name": "stdout",
     "output_type": "stream",
     "text": [
      "The number of ITM Call options is 286\n",
      "The number of ATM Call options is 77\n",
      "The number of OTM Call options is 107\n"
     ]
    }
   ],
   "source": [
    "ITM_idx = df_Call['Strike.Price'] < 95.2\n",
    "ATM_idx = np.logical_and(df_Call['Strike.Price'] < 103, df_Call['Strike.Price'] >= 95.2)\n",
    "OTM_idx = df_Call['Strike.Price'] > 103\n",
    "print('The number of ITM Call options is', np.sum(ITM_idx))\n",
    "print('The number of ATM Call options is', np.sum(ATM_idx))\n",
    "print('The number of OTM Call options is', np.sum(OTM_idx))"
   ]
  },
  {
   "cell_type": "code",
   "execution_count": 27,
   "metadata": {},
   "outputs": [],
   "source": [
    "path = \"/Users/gaojinglun/Desktop/RSG/ANN_call_Volatility_withLR0.01\"\n",
    "ANN_call = keras.models.load_model(path)"
   ]
  },
  {
   "cell_type": "code",
   "execution_count": 32,
   "metadata": {},
   "outputs": [],
   "source": [
    "pickle_in = open(\"scalerX.pickle\",\"rb\")\n",
    "scalerX = pickle.load(pickle_in)\n",
    "pickle_in = open(\"scalery.pickle\",\"rb\")\n",
    "scalery = pickle.load(pickle_in)"
   ]
  },
  {
   "cell_type": "code",
   "execution_count": 38,
   "metadata": {},
   "outputs": [],
   "source": [
    "X = df_Call[['Strike.Price', 'Time.to.maturity', 'Settlement']]\n",
    "y = df_Call['Implied.Volatility']\n",
    "testX = pd.DataFrame(scalerX.transform(X), columns = X.columns.values) \n",
    "testY = scalery.transform(y.values.reshape(-1, 1))"
   ]
  },
  {
   "cell_type": "code",
   "execution_count": 66,
   "metadata": {},
   "outputs": [
    {
     "name": "stdout",
     "output_type": "stream",
     "text": [
      "In the money r-squared -0.48353980591262125\n",
      "At the money r-squared 0.14282024878707067\n",
      "Out of the money r-squared -2.368155380173749\n"
     ]
    }
   ],
   "source": [
    "pred = ANN_call.predict(testX)\n",
    "print('In the money r-squared', r2_score(testY[ITM_idx], pred[ITM_idx]))\n",
    "print('At the money r-squared', r2_score(testY[ATM_idx], pred[ATM_idx]))\n",
    "print('Out of the money r-squared', r2_score(testY[OTM_idx], pred[OTM_idx]))"
   ]
  },
  {
   "cell_type": "code",
   "execution_count": 64,
   "metadata": {},
   "outputs": [
    {
     "data": {
      "text/plain": [
       "0.23589760314500252"
      ]
     },
     "execution_count": 64,
     "metadata": {},
     "output_type": "execute_result"
    }
   ],
   "source": [
    "r2_score(testY, ANN_call.predict(testX))"
   ]
  }
 ],
 "metadata": {
  "hide_input": false,
  "kernelspec": {
   "display_name": "Python 3",
   "language": "python",
   "name": "python3"
  },
  "language_info": {
   "codemirror_mode": {
    "name": "ipython",
    "version": 3
   },
   "file_extension": ".py",
   "mimetype": "text/x-python",
   "name": "python",
   "nbconvert_exporter": "python",
   "pygments_lexer": "ipython3",
   "version": "3.8.3"
  }
 },
 "nbformat": 4,
 "nbformat_minor": 4
}
