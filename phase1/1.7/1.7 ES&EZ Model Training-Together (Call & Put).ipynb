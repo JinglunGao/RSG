{
 "cells": [
  {
   "cell_type": "code",
   "execution_count": 1,
   "metadata": {},
   "outputs": [],
   "source": [
    "# Import necessary libraries\n",
    "import numpy as np\n",
    "import pandas as pd\n",
    "import seaborn as sns\n",
    "import matplotlib.pyplot as plt\n",
    "sns.set()\n",
    "\n",
    "from sklearn.utils import resample\n",
    "from sklearn.preprocessing import MinMaxScaler\n",
    "from sklearn.metrics import r2_score\n",
    "\n",
    "import tensorflow as tf\n",
    "from tensorflow import keras\n",
    "from tensorflow.keras import models, layers, activations, initializers\n",
    "\n",
    "import warnings\n",
    "warnings.filterwarnings(\"ignore\")\n",
    "\n",
    "import BjerksundStenslandModel as BS\n",
    "from EnsembleNeuralNetworks import ENN\n",
    "# from BlackScholesModel.py import black_scholes_call_option, black_scholes_put_option"
   ]
  },
  {
   "cell_type": "code",
   "execution_count": 2,
   "metadata": {},
   "outputs": [
    {
     "data": {
      "text/html": [
       "<div>\n",
       "<style scoped>\n",
       "    .dataframe tbody tr th:only-of-type {\n",
       "        vertical-align: middle;\n",
       "    }\n",
       "\n",
       "    .dataframe tbody tr th {\n",
       "        vertical-align: top;\n",
       "    }\n",
       "\n",
       "    .dataframe thead th {\n",
       "        text-align: right;\n",
       "    }\n",
       "</style>\n",
       "<table border=\"1\" class=\"dataframe\">\n",
       "  <thead>\n",
       "    <tr style=\"text-align: right;\">\n",
       "      <th></th>\n",
       "      <th>Put.Call</th>\n",
       "      <th>Strike.Price</th>\n",
       "      <th>Settlement</th>\n",
       "      <th>Historical Vol</th>\n",
       "      <th>futures.price</th>\n",
       "      <th>Time.to.maturity</th>\n",
       "      <th>Risk.Free.Rate</th>\n",
       "      <th>Open.Interest</th>\n",
       "      <th>Implied.Volatility</th>\n",
       "      <th>Moneyness</th>\n",
       "    </tr>\n",
       "  </thead>\n",
       "  <tbody>\n",
       "    <tr>\n",
       "      <th>0</th>\n",
       "      <td>C</td>\n",
       "      <td>2200</td>\n",
       "      <td>1059.0</td>\n",
       "      <td>0.008335</td>\n",
       "      <td>3259.0</td>\n",
       "      <td>0.213699</td>\n",
       "      <td>0.0154</td>\n",
       "      <td>826.0</td>\n",
       "      <td>0.338267</td>\n",
       "      <td>ITM</td>\n",
       "    </tr>\n",
       "    <tr>\n",
       "      <th>1</th>\n",
       "      <td>C</td>\n",
       "      <td>2250</td>\n",
       "      <td>1009.1</td>\n",
       "      <td>0.008335</td>\n",
       "      <td>3259.0</td>\n",
       "      <td>0.213699</td>\n",
       "      <td>0.0154</td>\n",
       "      <td>728.0</td>\n",
       "      <td>0.326829</td>\n",
       "      <td>ITM</td>\n",
       "    </tr>\n",
       "    <tr>\n",
       "      <th>2</th>\n",
       "      <td>C</td>\n",
       "      <td>2270</td>\n",
       "      <td>989.1</td>\n",
       "      <td>0.008335</td>\n",
       "      <td>3259.0</td>\n",
       "      <td>0.213699</td>\n",
       "      <td>0.0154</td>\n",
       "      <td>1.0</td>\n",
       "      <td>0.323456</td>\n",
       "      <td>ITM</td>\n",
       "    </tr>\n",
       "    <tr>\n",
       "      <th>3</th>\n",
       "      <td>C</td>\n",
       "      <td>2300</td>\n",
       "      <td>959.2</td>\n",
       "      <td>0.008335</td>\n",
       "      <td>3259.0</td>\n",
       "      <td>0.213699</td>\n",
       "      <td>0.0154</td>\n",
       "      <td>212.0</td>\n",
       "      <td>0.317834</td>\n",
       "      <td>ITM</td>\n",
       "    </tr>\n",
       "    <tr>\n",
       "      <th>4</th>\n",
       "      <td>C</td>\n",
       "      <td>2310</td>\n",
       "      <td>949.2</td>\n",
       "      <td>0.008335</td>\n",
       "      <td>3259.0</td>\n",
       "      <td>0.213699</td>\n",
       "      <td>0.0154</td>\n",
       "      <td>42.0</td>\n",
       "      <td>0.314282</td>\n",
       "      <td>ITM</td>\n",
       "    </tr>\n",
       "  </tbody>\n",
       "</table>\n",
       "</div>"
      ],
      "text/plain": [
       "  Put.Call  Strike.Price  Settlement  Historical Vol  futures.price  \\\n",
       "0        C          2200      1059.0        0.008335         3259.0   \n",
       "1        C          2250      1009.1        0.008335         3259.0   \n",
       "2        C          2270       989.1        0.008335         3259.0   \n",
       "3        C          2300       959.2        0.008335         3259.0   \n",
       "4        C          2310       949.2        0.008335         3259.0   \n",
       "\n",
       "   Time.to.maturity  Risk.Free.Rate  Open.Interest  Implied.Volatility  \\\n",
       "0          0.213699          0.0154          826.0            0.338267   \n",
       "1          0.213699          0.0154          728.0            0.326829   \n",
       "2          0.213699          0.0154            1.0            0.323456   \n",
       "3          0.213699          0.0154          212.0            0.317834   \n",
       "4          0.213699          0.0154           42.0            0.314282   \n",
       "\n",
       "  Moneyness  \n",
       "0       ITM  \n",
       "1       ITM  \n",
       "2       ITM  \n",
       "3       ITM  \n",
       "4       ITM  "
      ]
     },
     "execution_count": 2,
     "metadata": {},
     "output_type": "execute_result"
    }
   ],
   "source": [
    "# Read the data\n",
    "df = pd.read_csv('/Users/gaojinglun/Desktop/RSG/data/ES_EZ.csv')\n",
    "df = df.drop(['Unnamed: 0'], axis = 1)\n",
    "df.head()"
   ]
  },
  {
   "cell_type": "code",
   "execution_count": 3,
   "metadata": {},
   "outputs": [],
   "source": [
    "# Set the number of estimators in the ensemble learning\n",
    "n_estimators = 10\n",
    "\n",
    "Xcol = ['Put.Call', 'futures.price', 'Strike.Price', 'Time.to.maturity', 'Risk.Free.Rate',\n",
    "        'Historical Vol', 'Open.Interest', 'ATM', 'ITM', 'OTM']\n",
    "Ycol = 'Implied.Volatility'"
   ]
  },
  {
   "cell_type": "markdown",
   "metadata": {},
   "source": [
    "### Call Options"
   ]
  },
  {
   "cell_type": "code",
   "execution_count": 4,
   "metadata": {},
   "outputs": [],
   "source": [
    "ES_EZ_call = df[df['Put.Call'] == 'C']\n",
    "ES_EZ_call['Put.Call'] = np.zeros(ES_EZ_call.shape[0])\n",
    "\n",
    "Call_temp = 100 * ES_EZ_call['Strike.Price'].values / ES_EZ_call['futures.price'].values\n",
    "Call_ITM_idx = Call_temp < 95.2\n",
    "Call_ATM_idx = np.logical_and(Call_temp <= 103.1, Call_temp >= 95.2)\n",
    "Call_OTM_idx = Call_temp > 103.1\n",
    "\n",
    "Call_moneyness = pd.get_dummies(ES_EZ_call['Moneyness'])\n",
    "ES_EZ_call = pd.concat([ES_EZ_call, Call_moneyness], axis = 1)"
   ]
  },
  {
   "cell_type": "code",
   "execution_count": 5,
   "metadata": {},
   "outputs": [],
   "source": [
    "ES_EZ_put = df[df['Put.Call'] == 'P']\n",
    "ES_EZ_put['Put.Call'] = np.ones(ES_EZ_put.shape[0])\n",
    "\n",
    "Put_temp = 100 * ES_EZ_put['Strike.Price'].values / ES_EZ_put['futures.price'].values\n",
    "Put_ITM_idx = Put_temp > 103\n",
    "Put_ATM_idx = np.logical_and(Put_temp < 103, Put_temp >= 95.2)\n",
    "Put_OTM_idx = Put_temp < 95.2\n",
    "\n",
    "put_moneyness = pd.get_dummies(ES_EZ_put['Moneyness'])\n",
    "ES_EZ_put = pd.concat([ES_EZ_put, put_moneyness], axis = 1)"
   ]
  },
  {
   "cell_type": "code",
   "execution_count": 6,
   "metadata": {},
   "outputs": [
    {
     "name": "stdout",
     "output_type": "stream",
     "text": [
      "(27239, 13)\n"
     ]
    },
    {
     "data": {
      "text/html": [
       "<div>\n",
       "<style scoped>\n",
       "    .dataframe tbody tr th:only-of-type {\n",
       "        vertical-align: middle;\n",
       "    }\n",
       "\n",
       "    .dataframe tbody tr th {\n",
       "        vertical-align: top;\n",
       "    }\n",
       "\n",
       "    .dataframe thead th {\n",
       "        text-align: right;\n",
       "    }\n",
       "</style>\n",
       "<table border=\"1\" class=\"dataframe\">\n",
       "  <thead>\n",
       "    <tr style=\"text-align: right;\">\n",
       "      <th></th>\n",
       "      <th>Put.Call</th>\n",
       "      <th>Strike.Price</th>\n",
       "      <th>Settlement</th>\n",
       "      <th>Historical Vol</th>\n",
       "      <th>futures.price</th>\n",
       "      <th>Time.to.maturity</th>\n",
       "      <th>Risk.Free.Rate</th>\n",
       "      <th>Open.Interest</th>\n",
       "      <th>Implied.Volatility</th>\n",
       "      <th>Moneyness</th>\n",
       "      <th>ATM</th>\n",
       "      <th>ITM</th>\n",
       "      <th>OTM</th>\n",
       "    </tr>\n",
       "  </thead>\n",
       "  <tbody>\n",
       "    <tr>\n",
       "      <th>0</th>\n",
       "      <td>0.0</td>\n",
       "      <td>2200</td>\n",
       "      <td>1059.0</td>\n",
       "      <td>0.008335</td>\n",
       "      <td>3259.0</td>\n",
       "      <td>0.213699</td>\n",
       "      <td>0.0154</td>\n",
       "      <td>826.0</td>\n",
       "      <td>0.338267</td>\n",
       "      <td>ITM</td>\n",
       "      <td>0</td>\n",
       "      <td>1</td>\n",
       "      <td>0</td>\n",
       "    </tr>\n",
       "    <tr>\n",
       "      <th>1</th>\n",
       "      <td>0.0</td>\n",
       "      <td>2250</td>\n",
       "      <td>1009.1</td>\n",
       "      <td>0.008335</td>\n",
       "      <td>3259.0</td>\n",
       "      <td>0.213699</td>\n",
       "      <td>0.0154</td>\n",
       "      <td>728.0</td>\n",
       "      <td>0.326829</td>\n",
       "      <td>ITM</td>\n",
       "      <td>0</td>\n",
       "      <td>1</td>\n",
       "      <td>0</td>\n",
       "    </tr>\n",
       "    <tr>\n",
       "      <th>2</th>\n",
       "      <td>0.0</td>\n",
       "      <td>2270</td>\n",
       "      <td>989.1</td>\n",
       "      <td>0.008335</td>\n",
       "      <td>3259.0</td>\n",
       "      <td>0.213699</td>\n",
       "      <td>0.0154</td>\n",
       "      <td>1.0</td>\n",
       "      <td>0.323456</td>\n",
       "      <td>ITM</td>\n",
       "      <td>0</td>\n",
       "      <td>1</td>\n",
       "      <td>0</td>\n",
       "    </tr>\n",
       "    <tr>\n",
       "      <th>3</th>\n",
       "      <td>0.0</td>\n",
       "      <td>2300</td>\n",
       "      <td>959.2</td>\n",
       "      <td>0.008335</td>\n",
       "      <td>3259.0</td>\n",
       "      <td>0.213699</td>\n",
       "      <td>0.0154</td>\n",
       "      <td>212.0</td>\n",
       "      <td>0.317834</td>\n",
       "      <td>ITM</td>\n",
       "      <td>0</td>\n",
       "      <td>1</td>\n",
       "      <td>0</td>\n",
       "    </tr>\n",
       "    <tr>\n",
       "      <th>4</th>\n",
       "      <td>0.0</td>\n",
       "      <td>2310</td>\n",
       "      <td>949.2</td>\n",
       "      <td>0.008335</td>\n",
       "      <td>3259.0</td>\n",
       "      <td>0.213699</td>\n",
       "      <td>0.0154</td>\n",
       "      <td>42.0</td>\n",
       "      <td>0.314282</td>\n",
       "      <td>ITM</td>\n",
       "      <td>0</td>\n",
       "      <td>1</td>\n",
       "      <td>0</td>\n",
       "    </tr>\n",
       "  </tbody>\n",
       "</table>\n",
       "</div>"
      ],
      "text/plain": [
       "   Put.Call  Strike.Price  Settlement  Historical Vol  futures.price  \\\n",
       "0       0.0          2200      1059.0        0.008335         3259.0   \n",
       "1       0.0          2250      1009.1        0.008335         3259.0   \n",
       "2       0.0          2270       989.1        0.008335         3259.0   \n",
       "3       0.0          2300       959.2        0.008335         3259.0   \n",
       "4       0.0          2310       949.2        0.008335         3259.0   \n",
       "\n",
       "   Time.to.maturity  Risk.Free.Rate  Open.Interest  Implied.Volatility  \\\n",
       "0          0.213699          0.0154          826.0            0.338267   \n",
       "1          0.213699          0.0154          728.0            0.326829   \n",
       "2          0.213699          0.0154            1.0            0.323456   \n",
       "3          0.213699          0.0154          212.0            0.317834   \n",
       "4          0.213699          0.0154           42.0            0.314282   \n",
       "\n",
       "  Moneyness  ATM  ITM  OTM  \n",
       "0       ITM    0    1    0  \n",
       "1       ITM    0    1    0  \n",
       "2       ITM    0    1    0  \n",
       "3       ITM    0    1    0  \n",
       "4       ITM    0    1    0  "
      ]
     },
     "execution_count": 6,
     "metadata": {},
     "output_type": "execute_result"
    }
   ],
   "source": [
    "data = pd.concat([ES_EZ_call, ES_EZ_put], axis = 0)\n",
    "print(data.shape)\n",
    "data.head()"
   ]
  },
  {
   "cell_type": "code",
   "execution_count": 7,
   "metadata": {},
   "outputs": [],
   "source": [
    "ENN_model = ENN(n_estimators = n_estimators, inputShape = 10)\n",
    "ENN_model.bootstrap(data = data, \n",
    "                   stratification = data['Moneyness'], trainsize = 0.8)\n",
    "LR = [1e-2, 1e-3]\n",
    "ENN_model.fit(LR, Xcol, Ycol)"
   ]
  },
  {
   "cell_type": "code",
   "execution_count": 8,
   "metadata": {},
   "outputs": [
    {
     "name": "stdout",
     "output_type": "stream",
     "text": [
      "The training R^2 for model 0 is 0.9654 and 0.9657, respectively\n",
      "The training R^2 for model 1 is 0.9587 and 0.9592, respectively\n",
      "The training R^2 for model 2 is 0.9641 and 0.9649, respectively\n",
      "The training R^2 for model 3 is 0.9517 and 0.9502, respectively\n",
      "The training R^2 for model 4 is 0.9711 and 0.9696, respectively\n",
      "The training R^2 for model 5 is 0.963 and 0.9622, respectively\n",
      "The training R^2 for model 6 is 0.9533 and 0.9508, respectively\n",
      "The training R^2 for model 7 is 0.9643 and 0.9637, respectively\n",
      "The training R^2 for model 8 is 0.9611 and 0.9601, respectively\n",
      "The training R^2 for model 9 is 0.9642 and 0.9608, respectively\n"
     ]
    }
   ],
   "source": [
    "ENN_model.get_results()"
   ]
  },
  {
   "cell_type": "code",
   "execution_count": 9,
   "metadata": {},
   "outputs": [
    {
     "name": "stdout",
     "output_type": "stream",
     "text": [
      "The training R^2 for call option is 0.9617 +/- 0.0055.\n",
      "The testing R^2 for call option is 0.9607 +/- 0.0059.\n"
     ]
    }
   ],
   "source": [
    "print('The training R^2 for call option is {} +/- {}.'.format(np.round(np.mean(ENN_model.results[:,0]), 4), \n",
    "                                                          np.round(np.std(ENN_model.results[:,0]), 4)))\n",
    "print('The testing R^2 for call option is {} +/- {}.'.format(np.round(np.mean(ENN_model.results[:,1]), 4), \n",
    "                                                          np.round(np.std(ENN_model.results[:,1]), 4)))"
   ]
  },
  {
   "cell_type": "code",
   "execution_count": 10,
   "metadata": {},
   "outputs": [
    {
     "data": {
      "text/plain": [
       "array([[0.9654, 0.9657],\n",
       "       [0.9587, 0.9592],\n",
       "       [0.9641, 0.9649],\n",
       "       [0.9517, 0.9502],\n",
       "       [0.9711, 0.9696],\n",
       "       [0.963 , 0.9622],\n",
       "       [0.9533, 0.9508],\n",
       "       [0.9643, 0.9637],\n",
       "       [0.9611, 0.9601],\n",
       "       [0.9642, 0.9608]])"
      ]
     },
     "execution_count": 10,
     "metadata": {},
     "output_type": "execute_result"
    }
   ],
   "source": [
    "ENN_model.results"
   ]
  },
  {
   "cell_type": "code",
   "execution_count": 11,
   "metadata": {},
   "outputs": [],
   "source": [
    "ES_EZ_X = data[Xcol]\n",
    "ES_EZ_y = data[Ycol]\n",
    "\n",
    "scalerX = MinMaxScaler().fit(ES_EZ_X)\n",
    "ES_EZ_X = pd.DataFrame(scalerX.transform(ES_EZ_X), columns = ES_EZ_X.columns.values) \n",
    "scalery = MinMaxScaler().fit(ES_EZ_y.values.reshape(-1, 1))\n",
    "ES_EZ_y = scalery.transform(ES_EZ_y.values.reshape(-1, 1))"
   ]
  },
  {
   "cell_type": "code",
   "execution_count": 12,
   "metadata": {},
   "outputs": [
    {
     "name": "stdout",
     "output_type": "stream",
     "text": [
      "The total variance of call option impied volatility explained by the model is 0.9728.\n"
     ]
    }
   ],
   "source": [
    "result = np.round(r2_score(ES_EZ_y, ENN_model.predict(ES_EZ_X)), 4)\n",
    "print('The total variance of call option impied volatility explained by the model is {}.'.format(result))"
   ]
  },
  {
   "cell_type": "code",
   "execution_count": 13,
   "metadata": {},
   "outputs": [],
   "source": [
    "Call_ITM = ES_EZ_call['Settlement'][Call_ITM_idx]\n",
    "Call_ATM = ES_EZ_call['Settlement'][Call_ATM_idx]\n",
    "Call_OTM = ES_EZ_call['Settlement'][Call_OTM_idx]\n",
    "Call_ALL = ES_EZ_call['Settlement']\n",
    "\n",
    "Put_ITM = ES_EZ_put['Settlement'][Put_ITM_idx]\n",
    "Put_ATM = ES_EZ_put['Settlement'][Put_ATM_idx]\n",
    "Put_OTM = ES_EZ_put['Settlement'][Put_OTM_idx]\n",
    "Put_ALL = ES_EZ_put['Settlement']\n",
    "\n",
    "def mean_absolute_error(y_true, y_pred): \n",
    "    y_true, y_pred = np.array(y_true), np.array(y_pred)\n",
    "    return np.mean(np.abs(y_true - y_pred))\n",
    "\n",
    "def mean_absolute_percentage_error(y_true, y_pred): \n",
    "    y_true, y_pred = np.array(y_true), np.array(y_pred)\n",
    "    return 100* np.mean(np.abs((y_true - y_pred) / y_true))\n",
    "\n",
    "def Call_Results(Call_Pred):\n",
    "    '''\n",
    "    Get the results for Call options (TIM, ATM, OTM, and Overall) in terms of the R^2, MAE, MAPE \n",
    "    '''\n",
    "    result = np.array([\n",
    "        r2_score(Call_ITM, Call_Pred[Call_ITM_idx]),\n",
    "        r2_score(Call_ATM, Call_Pred[Call_ATM_idx]),\n",
    "        r2_score(Call_OTM, Call_Pred[Call_OTM_idx]),\n",
    "        r2_score(Call_ALL, Call_Pred),\n",
    "        \n",
    "        mean_absolute_error(Call_ITM, Call_Pred[Call_ITM_idx]),\n",
    "        mean_absolute_error(Call_ATM, Call_Pred[Call_ATM_idx]),\n",
    "        mean_absolute_error(Call_OTM, Call_Pred[Call_OTM_idx]),\n",
    "        mean_absolute_error(Call_ALL, Call_Pred),\n",
    "        \n",
    "        mean_absolute_percentage_error(Call_ITM, Call_Pred[Call_ITM_idx]),\n",
    "        mean_absolute_percentage_error(Call_ATM, Call_Pred[Call_ATM_idx]),\n",
    "        mean_absolute_percentage_error(Call_OTM, Call_Pred[Call_OTM_idx]),\n",
    "        mean_absolute_percentage_error(Call_ALL, Call_Pred)\n",
    "    ])\n",
    "    result = np.round(result, 5)\n",
    "    print('The R^2 for ITM, ATM, OTM, and overall Call Option is {}, {}, {}, and {}, respectively.'.format(\n",
    "        result[0], result[1], result[2], result[3])\n",
    "    ) \n",
    "    print('--------------------------------------------------------------------------------------------------------')\n",
    "    print('The MAE for ITM, ATM, OTM, and overall Call Option is {}, {}, {}, and {}, respectively.'.format(\n",
    "        result[4], result[5], result[6], result[7])\n",
    "    )\n",
    "    print('--------------------------------------------------------------------------------------------------------')\n",
    "    print('The MAPE for ITM, ATM, OTM, and overall Call Option is {}, {}, {}, and {}, respectively.'.format(\n",
    "        result[8], result[9], result[10], result[11])\n",
    "    )\n",
    "    print('--------------------------------------------------------------------------------------------------------')\n",
    "    \n",
    "    sns.displot(ES_EZ_call, x = np.abs(Call_ALL - Call_Pred), \n",
    "                hue = \"Moneyness\", legend = True, height = 5, aspect = 2)\n",
    "    plt.xlabel('Absolute Error')\n",
    "    plt.ylabel('Count')\n",
    "    plt.xlim(0,50)\n",
    "    plt.title('Histogram of Absolute Error with respect to moneyness (exclude the extreme values)')\n",
    "    \n",
    "    sns.displot(ES_EZ_call, x = np.abs((Call_ALL - Call_Pred) / Call_ALL), \n",
    "                hue = \"Moneyness\", legend = True, height = 5, aspect = 2)\n",
    "    plt.xlabel('Absolute Percentage Error')\n",
    "    plt.ylabel('Count')\n",
    "    plt.xlim(0,1)\n",
    "    plt.title('Histogram of Absolute Percentage Error in 100% with respect to moneyness (exclude the extreme values)')\n",
    "\n",
    "    return None\n",
    "\n",
    "def Put_Results(Put_Pred):\n",
    "    '''\n",
    "    Get the results for Put options (TIM, ATM, OTM, and Overall) in terms of the R^2, MAE, MAPE\n",
    "    '''\n",
    "\n",
    "    result = np.array([\n",
    "        r2_score(Put_ITM, Put_Pred[Put_ITM_idx]),\n",
    "        r2_score(Put_ATM, Put_Pred[Put_ATM_idx]),\n",
    "        r2_score(Put_OTM, Put_Pred[Put_OTM_idx]),\n",
    "        r2_score(Put_ALL, Put_Pred),\n",
    "        \n",
    "        mean_absolute_error(Put_ITM, Put_Pred[Put_ITM_idx]),\n",
    "        mean_absolute_error(Put_ATM, Put_Pred[Put_ATM_idx]),\n",
    "        mean_absolute_error(Put_OTM, Put_Pred[Put_OTM_idx]),\n",
    "        mean_absolute_error(Put_ALL, Put_Pred),\n",
    "        \n",
    "        mean_absolute_percentage_error(Put_ITM, Put_Pred[Put_ITM_idx]),\n",
    "        mean_absolute_percentage_error(Put_ATM, Put_Pred[Put_ATM_idx]),\n",
    "        mean_absolute_percentage_error(Put_OTM, Put_Pred[Put_OTM_idx]),\n",
    "        mean_absolute_percentage_error(Put_ALL, Put_Pred)\n",
    "    ])\n",
    "    result = np.round(result, 5)\n",
    "    print('The R^2 for ITM, ATM, OTM, and overall Put Option is {}, {}, {}, and {}, respectively.'.format(\n",
    "        result[0], result[1], result[2], result[3])\n",
    "    ) \n",
    "    print('--------------------------------------------------------------------------------------------------------')\n",
    "    print('The MAE for ITM, ATM, OTM, and overall Put Option is {}, {}, {}, and {}, respectively.'.format(\n",
    "        result[4], result[5], result[6], result[7])\n",
    "    )\n",
    "    print('--------------------------------------------------------------------------------------------------------')\n",
    "    print('The MAPE for ITM, ATM, OTM, and overall Put Option is {}, {}, {}, and {}, respectively.'.format(\n",
    "        result[8], result[9], result[10], result[11])\n",
    "    )\n",
    "    print('--------------------------------------------------------------------------------------------------------')\n",
    "    \n",
    "    sns.displot(ES_EZ_put, x = np.abs(Put_ALL - Put_Pred), \n",
    "                hue = \"Moneyness\", legend = True, height = 5, aspect = 2)\n",
    "    plt.xlabel('Absolute Error')\n",
    "    plt.ylabel('Count')\n",
    "    plt.xlim(0,50)\n",
    "    plt.title('Histogram of Absolute Error with respect to moneyness (exclude the extreme values)')\n",
    "    \n",
    "    sns.displot(ES_EZ_put, x = np.abs((Put_ALL - Put_Pred) / Put_ALL), \n",
    "                hue = \"Moneyness\", legend = True, height = 5, aspect = 2)\n",
    "    plt.xlabel('Absolute Percentage Error')\n",
    "    plt.ylabel('Count')\n",
    "    plt.xlim(0,1)\n",
    "    plt.title('Histogram of Absolute Percentage Error in 100% with respect to moneyness (exclude the extreme values)')\n",
    "\n",
    "    return None"
   ]
  },
  {
   "cell_type": "code",
   "execution_count": 14,
   "metadata": {},
   "outputs": [],
   "source": [
    "pred = ENN_model.predict(data[Xcol])\n",
    "ENN_call = scalery.inverse_transform(pred[data['Put.Call'] == 0])\n",
    "ENN_put = scalery.inverse_transform(pred[data['Put.Call'] == 1])"
   ]
  },
  {
   "cell_type": "markdown",
   "metadata": {},
   "source": [
    "### Results"
   ]
  },
  {
   "cell_type": "code",
   "execution_count": 15,
   "metadata": {},
   "outputs": [
    {
     "name": "stdout",
     "output_type": "stream",
     "text": [
      "The total variance explained is 0.96943 for the Call Options\n",
      "The total variance explained is 0.84138 for the Put Options\n"
     ]
    }
   ],
   "source": [
    "# Test the performances of ENN \n",
    "ENN_Call_Pred = np.zeros(ES_EZ_call.shape[0])\n",
    "for i in range(ES_EZ_call.shape[0]):\n",
    "    price = BS._american_option(option_type = 'c', \n",
    "                             fs = ES_EZ_call['futures.price'].values[i], \n",
    "                             x = ES_EZ_call['Strike.Price'].values[i], \n",
    "                             t = ES_EZ_call['Time.to.maturity'].values[i], \n",
    "                             r = ES_EZ_call['Risk.Free.Rate'].values[i], \n",
    "                             b = 0, \n",
    "                             v = ENN_call[i])[0]\n",
    "    ENN_Call_Pred[i] = price\n",
    "\n",
    "ENN_PUT_Pred = np.zeros(ES_EZ_put.shape[0])\n",
    "for i in range(ES_EZ_put.shape[0]):\n",
    "    price = BS._american_option(option_type = 'p', \n",
    "                             fs = ES_EZ_put['futures.price'].values[i], \n",
    "                             x = ES_EZ_put['Strike.Price'].values[i], \n",
    "                             t = ES_EZ_put['Time.to.maturity'].values[i], \n",
    "                             r = ES_EZ_put['Risk.Free.Rate'].values[i], \n",
    "                             b = 0, \n",
    "                             v = ENN_put[i])[0]\n",
    "    ENN_PUT_Pred[i] = price\n",
    "\n",
    "\n",
    "print('The total variance explained is {} for the Call Options'.format(\n",
    "    np.round(r2_score(ES_EZ_call['Settlement'], ENN_Call_Pred), 5))\n",
    "     )\n",
    "print('The total variance explained is {} for the Put Options'.format(\n",
    "    np.round(r2_score(ES_EZ_put['Settlement'], ENN_PUT_Pred), 5))\n",
    "     )"
   ]
  },
  {
   "cell_type": "code",
   "execution_count": 16,
   "metadata": {},
   "outputs": [
    {
     "name": "stdout",
     "output_type": "stream",
     "text": [
      "The R^2 for ITM, ATM, OTM, and overall Call Option is 0.96707, -0.42164, -0.22418, and 0.96943, respectively.\n",
      "--------------------------------------------------------------------------------------------------------\n",
      "The MAE for ITM, ATM, OTM, and overall Call Option is 44.22773, 89.5647, 35.76746, and 49.40988, respectively.\n",
      "--------------------------------------------------------------------------------------------------------\n",
      "The MAPE for ITM, ATM, OTM, and overall Call Option is 9.09402, 53.15945, 92.05383, and 42.75998, respectively.\n",
      "--------------------------------------------------------------------------------------------------------\n"
     ]
    },
    {
     "data": {
      "image/png": "[encoded data removed]",
      "text/plain": [
       "<Figure size 790.175x360 with 1 Axes>"
      ]
     },
     "metadata": {},
     "output_type": "display_data"
    },
    {
     "data": {
      "image/png": "[encoded data removed]",
      "text/plain": [
       "<Figure size 790.175x360 with 1 Axes>"
      ]
     },
     "metadata": {},
     "output_type": "display_data"
    }
   ],
   "source": [
    "Call_Results(ENN_Call_Pred)"
   ]
  },
  {
   "cell_type": "code",
   "execution_count": 17,
   "metadata": {},
   "outputs": [
    {
     "name": "stdout",
     "output_type": "stream",
     "text": [
      "Put.Call                      0\n",
      "Strike.Price               2350\n",
      "Settlement                373.6\n",
      "Historical Vol        0.0158331\n",
      "futures.price            2381.5\n",
      "Time.to.maturity       0.758904\n",
      "Risk.Free.Rate           0.0029\n",
      "Open.Interest                19\n",
      "Implied.Volatility     0.436856\n",
      "Moneyness                   ATM\n",
      "ATM                           1\n",
      "ITM                           0\n",
      "OTM                           0\n",
      "Name: 2072, dtype: object\n",
      "--------------------------------\n",
      "The predicted value is 86.9344\n"
     ]
    }
   ],
   "source": [
    "MAE_idx = np.argmax(np.abs(Call_ALL - ENN_Call_Pred))\n",
    "print(ES_EZ_call.iloc[MAE_idx])\n",
    "print('--------------------------------')\n",
    "print('The predicted value is', np.round(ENN_Call_Pred[MAE_idx], 4))"
   ]
  },
  {
   "cell_type": "code",
   "execution_count": 18,
   "metadata": {},
   "outputs": [
    {
     "name": "stdout",
     "output_type": "stream",
     "text": [
      "Put.Call                      0\n",
      "Strike.Price               3640\n",
      "Settlement                 0.15\n",
      "Historical Vol        0.0309739\n",
      "futures.price            3065.1\n",
      "Time.to.maturity      0.0493151\n",
      "Risk.Free.Rate           0.0141\n",
      "Open.Interest               103\n",
      "Implied.Volatility     0.268086\n",
      "Moneyness                   OTM\n",
      "ATM                           0\n",
      "ITM                           0\n",
      "OTM                           1\n",
      "Name: 1501, dtype: object\n",
      "--------------------------------\n",
      "The predicted value is 0.0\n"
     ]
    }
   ],
   "source": [
    "MAPE_idx = np.argmax(np.abs((Call_ALL - ENN_Call_Pred) / Call_ALL))\n",
    "print(ES_EZ_call.iloc[MAPE_idx])\n",
    "print('--------------------------------')\n",
    "print('The predicted value is', np.round(ENN_Call_Pred[MAPE_idx], 4))"
   ]
  },
  {
   "cell_type": "code",
   "execution_count": 19,
   "metadata": {},
   "outputs": [
    {
     "name": "stdout",
     "output_type": "stream",
     "text": [
      "The R^2 for ITM, ATM, OTM, and overall Put Option is 0.88596, -0.79778, -0.55942, and 0.84138, respectively.\n",
      "--------------------------------------------------------------------------------------------------------\n",
      "The MAE for ITM, ATM, OTM, and overall Put Option is 44.56217, 89.88776, 38.79049, and 47.72527, respectively.\n",
      "--------------------------------------------------------------------------------------------------------\n",
      "The MAPE for ITM, ATM, OTM, and overall Put Option is 13.43577, 65.60003, 99.26621, and 76.79783, respectively.\n",
      "--------------------------------------------------------------------------------------------------------\n"
     ]
    },
    {
     "data": {
      "image/png": "[encoded data removed]",
      "text/plain": [
       "<Figure size 790.175x360 with 1 Axes>"
      ]
     },
     "metadata": {},
     "output_type": "display_data"
    },
    {
     "data": {
      "image/png": "[encoded data removed]",
      "text/plain": [
       "<Figure size 790.175x360 with 1 Axes>"
      ]
     },
     "metadata": {},
     "output_type": "display_data"
    }
   ],
   "source": [
    "Put_Results(ENN_PUT_Pred)"
   ]
  },
  {
   "cell_type": "code",
   "execution_count": 20,
   "metadata": {},
   "outputs": [
    {
     "name": "stdout",
     "output_type": "stream",
     "text": [
      "Put.Call                      1\n",
      "Strike.Price               2350\n",
      "Settlement                342.1\n",
      "Historical Vol        0.0158331\n",
      "futures.price            2381.5\n",
      "Time.to.maturity       0.758904\n",
      "Risk.Free.Rate           0.0029\n",
      "Open.Interest              1585\n",
      "Implied.Volatility     0.436856\n",
      "Moneyness                   ATM\n",
      "ATM                           1\n",
      "ITM                           0\n",
      "OTM                           0\n",
      "Name: 15199, dtype: object\n",
      "--------------------------------\n",
      "The predicted value is 55.5031\n"
     ]
    }
   ],
   "source": [
    "MAE_idx = np.argmax(np.abs(Put_ALL - ENN_PUT_Pred))\n",
    "print(ES_EZ_put.iloc[MAE_idx])\n",
    "print('--------------------------------')\n",
    "print('The predicted value is', np.round(ENN_PUT_Pred[MAE_idx], 4))"
   ]
  },
  {
   "cell_type": "code",
   "execution_count": 21,
   "metadata": {},
   "outputs": [
    {
     "name": "stdout",
     "output_type": "stream",
     "text": [
      "Put.Call                       1\n",
      "Strike.Price                1500\n",
      "Settlement                   0.1\n",
      "Historical Vol        0.00833466\n",
      "futures.price               3259\n",
      "Time.to.maturity        0.213699\n",
      "Risk.Free.Rate            0.0154\n",
      "Open.Interest               1670\n",
      "Implied.Volatility      0.521792\n",
      "Moneyness                    OTM\n",
      "ATM                            0\n",
      "ITM                            0\n",
      "OTM                            1\n",
      "Name: 12796, dtype: object\n",
      "--------------------------------\n",
      "The predicted value is 0.0\n"
     ]
    }
   ],
   "source": [
    "MAPE_idx = np.argmax(np.abs((Put_ALL - ENN_PUT_Pred) / Put_ALL))\n",
    "print(ES_EZ_put.iloc[MAPE_idx])\n",
    "print('--------------------------------')\n",
    "print('The predicted value is', np.round(ENN_PUT_Pred[MAPE_idx], 4))"
   ]
  }
 ],
 "metadata": {
  "hide_input": false,
  "kernelspec": {
   "display_name": "Python 3",
   "language": "python",
   "name": "python3"
  },
  "language_info": {
   "codemirror_mode": {
    "name": "ipython",
    "version": 3
   },
   "file_extension": ".py",
   "mimetype": "text/x-python",
   "name": "python",
   "nbconvert_exporter": "python",
   "pygments_lexer": "ipython3",
   "version": "3.8.3"
  }
 },
 "nbformat": 4,
 "nbformat_minor": 4
}
