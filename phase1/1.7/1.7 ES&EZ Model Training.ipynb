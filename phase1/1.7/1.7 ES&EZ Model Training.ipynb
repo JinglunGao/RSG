{
 "cells": [
  {
   "cell_type": "code",
   "execution_count": 1,
   "metadata": {},
   "outputs": [],
   "source": [
    "# Import necessary libraries\n",
    "import numpy as np\n",
    "import pandas as pd\n",
    "import seaborn as sns\n",
    "import matplotlib.pyplot as plt\n",
    "sns.set()\n",
    "\n",
    "from sklearn.utils import resample\n",
    "from sklearn.preprocessing import MinMaxScaler\n",
    "from sklearn.metrics import r2_score\n",
    "\n",
    "import tensorflow as tf\n",
    "from tensorflow import keras\n",
    "from tensorflow.keras import models, layers, activations, initializers\n",
    "\n",
    "import warnings\n",
    "warnings.filterwarnings(\"ignore\")\n",
    "\n",
    "import BjerksundStenslandModel as BS\n",
    "from EnsembleNeuralNetworks import ENN\n",
    "# from BlackScholesModel.py import black_scholes_call_option, black_scholes_put_option"
   ]
  },
  {
   "cell_type": "code",
   "execution_count": 2,
   "metadata": {},
   "outputs": [
    {
     "data": {
      "text/html": [
       "<div>\n",
       "<style scoped>\n",
       "    .dataframe tbody tr th:only-of-type {\n",
       "        vertical-align: middle;\n",
       "    }\n",
       "\n",
       "    .dataframe tbody tr th {\n",
       "        vertical-align: top;\n",
       "    }\n",
       "\n",
       "    .dataframe thead th {\n",
       "        text-align: right;\n",
       "    }\n",
       "</style>\n",
       "<table border=\"1\" class=\"dataframe\">\n",
       "  <thead>\n",
       "    <tr style=\"text-align: right;\">\n",
       "      <th></th>\n",
       "      <th>Put.Call</th>\n",
       "      <th>Strike.Price</th>\n",
       "      <th>Settlement</th>\n",
       "      <th>Historical Vol</th>\n",
       "      <th>futures.price</th>\n",
       "      <th>Time.to.maturity</th>\n",
       "      <th>Risk.Free.Rate</th>\n",
       "      <th>Open.Interest</th>\n",
       "      <th>Implied.Volatility</th>\n",
       "      <th>Moneyness</th>\n",
       "    </tr>\n",
       "  </thead>\n",
       "  <tbody>\n",
       "    <tr>\n",
       "      <th>0</th>\n",
       "      <td>C</td>\n",
       "      <td>2200</td>\n",
       "      <td>1059.0</td>\n",
       "      <td>0.008335</td>\n",
       "      <td>3259.0</td>\n",
       "      <td>0.213699</td>\n",
       "      <td>0.0154</td>\n",
       "      <td>826.0</td>\n",
       "      <td>0.338267</td>\n",
       "      <td>ITM</td>\n",
       "    </tr>\n",
       "    <tr>\n",
       "      <th>1</th>\n",
       "      <td>C</td>\n",
       "      <td>2250</td>\n",
       "      <td>1009.1</td>\n",
       "      <td>0.008335</td>\n",
       "      <td>3259.0</td>\n",
       "      <td>0.213699</td>\n",
       "      <td>0.0154</td>\n",
       "      <td>728.0</td>\n",
       "      <td>0.326829</td>\n",
       "      <td>ITM</td>\n",
       "    </tr>\n",
       "    <tr>\n",
       "      <th>2</th>\n",
       "      <td>C</td>\n",
       "      <td>2270</td>\n",
       "      <td>989.1</td>\n",
       "      <td>0.008335</td>\n",
       "      <td>3259.0</td>\n",
       "      <td>0.213699</td>\n",
       "      <td>0.0154</td>\n",
       "      <td>1.0</td>\n",
       "      <td>0.323456</td>\n",
       "      <td>ITM</td>\n",
       "    </tr>\n",
       "    <tr>\n",
       "      <th>3</th>\n",
       "      <td>C</td>\n",
       "      <td>2300</td>\n",
       "      <td>959.2</td>\n",
       "      <td>0.008335</td>\n",
       "      <td>3259.0</td>\n",
       "      <td>0.213699</td>\n",
       "      <td>0.0154</td>\n",
       "      <td>212.0</td>\n",
       "      <td>0.317834</td>\n",
       "      <td>ITM</td>\n",
       "    </tr>\n",
       "    <tr>\n",
       "      <th>4</th>\n",
       "      <td>C</td>\n",
       "      <td>2310</td>\n",
       "      <td>949.2</td>\n",
       "      <td>0.008335</td>\n",
       "      <td>3259.0</td>\n",
       "      <td>0.213699</td>\n",
       "      <td>0.0154</td>\n",
       "      <td>42.0</td>\n",
       "      <td>0.314282</td>\n",
       "      <td>ITM</td>\n",
       "    </tr>\n",
       "  </tbody>\n",
       "</table>\n",
       "</div>"
      ],
      "text/plain": [
       "  Put.Call  Strike.Price  Settlement  Historical Vol  futures.price  \\\n",
       "0        C          2200      1059.0        0.008335         3259.0   \n",
       "1        C          2250      1009.1        0.008335         3259.0   \n",
       "2        C          2270       989.1        0.008335         3259.0   \n",
       "3        C          2300       959.2        0.008335         3259.0   \n",
       "4        C          2310       949.2        0.008335         3259.0   \n",
       "\n",
       "   Time.to.maturity  Risk.Free.Rate  Open.Interest  Implied.Volatility  \\\n",
       "0          0.213699          0.0154          826.0            0.338267   \n",
       "1          0.213699          0.0154          728.0            0.326829   \n",
       "2          0.213699          0.0154            1.0            0.323456   \n",
       "3          0.213699          0.0154          212.0            0.317834   \n",
       "4          0.213699          0.0154           42.0            0.314282   \n",
       "\n",
       "  Moneyness  \n",
       "0       ITM  \n",
       "1       ITM  \n",
       "2       ITM  \n",
       "3       ITM  \n",
       "4       ITM  "
      ]
     },
     "execution_count": 2,
     "metadata": {},
     "output_type": "execute_result"
    }
   ],
   "source": [
    "# Read the data\n",
    "df = pd.read_csv('/Users/gaojinglun/Desktop/RSG/data/ES_EZ.csv')\n",
    "df = df.drop(['Unnamed: 0'], axis = 1)\n",
    "df.head()"
   ]
  },
  {
   "cell_type": "code",
   "execution_count": 3,
   "metadata": {},
   "outputs": [],
   "source": [
    "# Set the number of estimators in the ensemble learning\n",
    "n_estimators = 10\n",
    "\n",
    "Xcol = ['futures.price', 'Strike.Price', 'Time.to.maturity', 'Risk.Free.Rate',\n",
    "        'Historical Vol', 'Open.Interest', 'ATM', 'ITM', 'OTM']\n",
    "Ycol = 'Implied.Volatility'"
   ]
  },
  {
   "cell_type": "markdown",
   "metadata": {},
   "source": [
    "### Call Options"
   ]
  },
  {
   "cell_type": "code",
   "execution_count": 4,
   "metadata": {},
   "outputs": [],
   "source": [
    "ES_EZ_call = df[df['Put.Call'] == 'C']\n",
    "\n",
    "Call_temp = 100 * ES_EZ_call['Strike.Price'].values / ES_EZ_call['futures.price'].values\n",
    "Call_ITM_idx = Call_temp < 95.2\n",
    "Call_ATM_idx = np.logical_and(Call_temp <= 103.1, Call_temp >= 95.2)\n",
    "Call_OTM_idx = Call_temp > 103.1\n",
    "\n",
    "Call_moneyness = pd.get_dummies(ES_EZ_call['Moneyness'])\n",
    "ES_EZ_call = pd.concat([ES_EZ_call, Call_moneyness], axis = 1)"
   ]
  },
  {
   "cell_type": "code",
   "execution_count": 5,
   "metadata": {},
   "outputs": [],
   "source": [
    "ENN_Call = ENN(n_estimators = n_estimators, inputShape = 9)\n",
    "ENN_Call.bootstrap(data = ES_EZ_call, \n",
    "                   stratification = ES_EZ_call['Moneyness'], trainsize = 0.8)\n",
    "LR = [1e-2, 1e-3]\n",
    "ENN_Call.fit(LR, Xcol, Ycol)"
   ]
  },
  {
   "cell_type": "code",
   "execution_count": 6,
   "metadata": {},
   "outputs": [
    {
     "name": "stdout",
     "output_type": "stream",
     "text": [
      "The training R^2 for model 0 is 0.9229 and 0.9231, respectively\n",
      "The training R^2 for model 1 is 0.9118 and 0.9087, respectively\n",
      "The training R^2 for model 2 is 0.9221 and 0.9188, respectively\n",
      "The training R^2 for model 3 is 0.9566 and 0.9524, respectively\n",
      "The training R^2 for model 4 is 0.953 and 0.9488, respectively\n",
      "The training R^2 for model 5 is 0.9293 and 0.9295, respectively\n",
      "The training R^2 for model 6 is 0.9337 and 0.9356, respectively\n",
      "The training R^2 for model 7 is 0.9423 and 0.9377, respectively\n",
      "The training R^2 for model 8 is 0.9326 and 0.9294, respectively\n",
      "The training R^2 for model 9 is 0.955 and 0.9521, respectively\n"
     ]
    }
   ],
   "source": [
    "ENN_Call.get_results()"
   ]
  },
  {
   "cell_type": "code",
   "execution_count": 7,
   "metadata": {},
   "outputs": [
    {
     "name": "stdout",
     "output_type": "stream",
     "text": [
      "The training R^2 for call option is 0.9359 +/- 0.0146.\n",
      "The testing R^2 for call option is 0.9336 +/- 0.0139.\n"
     ]
    }
   ],
   "source": [
    "print('The training R^2 for call option is {} +/- {}.'.format(np.round(np.mean(ENN_Call.results[:,0]), 4), \n",
    "                                                          np.round(np.std(ENN_Call.results[:,0]), 4)))\n",
    "print('The testing R^2 for call option is {} +/- {}.'.format(np.round(np.mean(ENN_Call.results[:,1]), 4), \n",
    "                                                          np.round(np.std(ENN_Call.results[:,1]), 4)))"
   ]
  },
  {
   "cell_type": "code",
   "execution_count": 8,
   "metadata": {},
   "outputs": [
    {
     "data": {
      "text/plain": [
       "array([[0.9229, 0.9231],\n",
       "       [0.9118, 0.9087],\n",
       "       [0.9221, 0.9188],\n",
       "       [0.9566, 0.9524],\n",
       "       [0.953 , 0.9488],\n",
       "       [0.9293, 0.9295],\n",
       "       [0.9337, 0.9356],\n",
       "       [0.9423, 0.9377],\n",
       "       [0.9326, 0.9294],\n",
       "       [0.955 , 0.9521]])"
      ]
     },
     "execution_count": 8,
     "metadata": {},
     "output_type": "execute_result"
    }
   ],
   "source": [
    "ENN_Call.results"
   ]
  },
  {
   "cell_type": "code",
   "execution_count": 9,
   "metadata": {},
   "outputs": [],
   "source": [
    "ES_EZ_call_X = ES_EZ_call[Xcol]\n",
    "ES_EZ_call_y = ES_EZ_call[Ycol]\n",
    "\n",
    "scalerX_call = MinMaxScaler().fit(ES_EZ_call_X)\n",
    "ES_EZ_call_X = pd.DataFrame(scalerX_call.transform(ES_EZ_call_X), columns = ES_EZ_call_X.columns.values) \n",
    "scalery_call = MinMaxScaler().fit(ES_EZ_call_y.values.reshape(-1, 1))\n",
    "ES_EZ_call_y = scalery_call.transform(ES_EZ_call_y.values.reshape(-1, 1))"
   ]
  },
  {
   "cell_type": "code",
   "execution_count": 10,
   "metadata": {},
   "outputs": [
    {
     "name": "stdout",
     "output_type": "stream",
     "text": [
      "The total variance of call option impied volatility explained by the model is 0.9547.\n"
     ]
    }
   ],
   "source": [
    "result1 = np.round(r2_score(ES_EZ_call_y, ENN_Call.predict(ES_EZ_call_X)), 4)\n",
    "print('The total variance of call option impied volatility explained by the model is {}.'.format(result1))"
   ]
  },
  {
   "cell_type": "markdown",
   "metadata": {},
   "source": [
    "### Put Options"
   ]
  },
  {
   "cell_type": "code",
   "execution_count": 11,
   "metadata": {},
   "outputs": [],
   "source": [
    "ES_EZ_put = df[df['Put.Call'] == 'P']\n",
    "\n",
    "Put_temp = 100 * ES_EZ_put['Strike.Price'].values / ES_EZ_put['futures.price'].values\n",
    "Put_ITM_idx = Put_temp > 103\n",
    "Put_ATM_idx = np.logical_and(Put_temp < 103, Put_temp >= 95.2)\n",
    "Put_OTM_idx = Put_temp < 95.2\n",
    "\n",
    "put_moneyness = pd.get_dummies(ES_EZ_put['Moneyness'])\n",
    "ES_EZ_put = pd.concat([ES_EZ_put, put_moneyness], axis = 1)"
   ]
  },
  {
   "cell_type": "code",
   "execution_count": 12,
   "metadata": {},
   "outputs": [],
   "source": [
    "ES_EZ_put_X = ES_EZ_put[Xcol]\n",
    "ES_EZ_put_y = ES_EZ_put[Ycol]"
   ]
  },
  {
   "cell_type": "code",
   "execution_count": 13,
   "metadata": {},
   "outputs": [],
   "source": [
    "ENN_Put = ENN(n_estimators = n_estimators, inputShape = 9)\n",
    "ENN_Put.bootstrap(data = ES_EZ_put, stratification = ES_EZ_put['Moneyness'], trainsize = 0.8)\n",
    "LR = [1e-2, 1e-3]\n",
    "ENN_Put.fit(LR, Xcol, Ycol)"
   ]
  },
  {
   "cell_type": "code",
   "execution_count": 14,
   "metadata": {},
   "outputs": [
    {
     "name": "stdout",
     "output_type": "stream",
     "text": [
      "The training R^2 for model 0 is 0.9416 and 0.9345, respectively\n",
      "The training R^2 for model 1 is 0.9408 and 0.9419, respectively\n",
      "The training R^2 for model 2 is 0.9616 and 0.9599, respectively\n",
      "The training R^2 for model 3 is 0.9664 and 0.9631, respectively\n",
      "The training R^2 for model 4 is 0.9497 and 0.9503, respectively\n",
      "The training R^2 for model 5 is 0.9382 and 0.9316, respectively\n",
      "The training R^2 for model 6 is 0.9377 and 0.9372, respectively\n",
      "The training R^2 for model 7 is 0.927 and 0.9246, respectively\n",
      "The training R^2 for model 8 is 0.9527 and 0.949, respectively\n",
      "The training R^2 for model 9 is 0.9526 and 0.9517, respectively\n"
     ]
    }
   ],
   "source": [
    "ENN_Put.get_results()"
   ]
  },
  {
   "cell_type": "code",
   "execution_count": 15,
   "metadata": {},
   "outputs": [
    {
     "name": "stdout",
     "output_type": "stream",
     "text": [
      "The training R^2 for put option is 0.9468 +/- 0.0114.\n",
      "The testing R^2 for put option is 0.9444 +/- 0.0119.\n"
     ]
    }
   ],
   "source": [
    "print('The training R^2 for put option is {} +/- {}.'.format(np.round(np.mean(ENN_Put.results[:,0]), 4), \n",
    "                                                          np.round(np.std(ENN_Put.results[:,0]), 4)))\n",
    "print('The testing R^2 for put option is {} +/- {}.'.format(np.round(np.mean(ENN_Put.results[:,1]), 4), \n",
    "                                                          np.round(np.std(ENN_Put.results[:,1]), 4)))"
   ]
  },
  {
   "cell_type": "code",
   "execution_count": 16,
   "metadata": {},
   "outputs": [
    {
     "data": {
      "text/plain": [
       "array([[0.9416, 0.9345],\n",
       "       [0.9408, 0.9419],\n",
       "       [0.9616, 0.9599],\n",
       "       [0.9664, 0.9631],\n",
       "       [0.9497, 0.9503],\n",
       "       [0.9382, 0.9316],\n",
       "       [0.9377, 0.9372],\n",
       "       [0.927 , 0.9246],\n",
       "       [0.9527, 0.949 ],\n",
       "       [0.9526, 0.9517]])"
      ]
     },
     "execution_count": 16,
     "metadata": {},
     "output_type": "execute_result"
    }
   ],
   "source": [
    "ENN_Put.results"
   ]
  },
  {
   "cell_type": "code",
   "execution_count": 17,
   "metadata": {},
   "outputs": [],
   "source": [
    "scalerX_put = MinMaxScaler().fit(ES_EZ_put_X)\n",
    "ES_EZ_put_X = pd.DataFrame(scalerX_put.transform(ES_EZ_put_X), columns = ES_EZ_put_X.columns.values) \n",
    "\n",
    "scalery_put = MinMaxScaler().fit(ES_EZ_put_y.values.reshape(-1, 1))\n",
    "ES_EZ_put_y = scalery_put.transform(ES_EZ_put_y.values.reshape(-1, 1))"
   ]
  },
  {
   "cell_type": "code",
   "execution_count": 18,
   "metadata": {},
   "outputs": [
    {
     "name": "stdout",
     "output_type": "stream",
     "text": [
      "The total variance of put option impied volatility explained by the model is 0.9609.\n"
     ]
    }
   ],
   "source": [
    "result2 = np.round(r2_score(ES_EZ_put_y, ENN_Put.predict(ES_EZ_put_X)), 4)\n",
    "print('The total variance of put option impied volatility explained by the model is {}.'.format(result2))"
   ]
  },
  {
   "cell_type": "code",
   "execution_count": 19,
   "metadata": {},
   "outputs": [],
   "source": [
    "Call_ITM = ES_EZ_call['Settlement'][Call_ITM_idx]\n",
    "Call_ATM = ES_EZ_call['Settlement'][Call_ATM_idx]\n",
    "Call_OTM = ES_EZ_call['Settlement'][Call_OTM_idx]\n",
    "Call_ALL = ES_EZ_call['Settlement']\n",
    "\n",
    "Put_ITM = ES_EZ_put['Settlement'][Put_ITM_idx]\n",
    "Put_ATM = ES_EZ_put['Settlement'][Put_ATM_idx]\n",
    "Put_OTM = ES_EZ_put['Settlement'][Put_OTM_idx]\n",
    "Put_ALL = ES_EZ_put['Settlement']\n",
    "\n",
    "def mean_absolute_error(y_true, y_pred): \n",
    "    y_true, y_pred = np.array(y_true), np.array(y_pred)\n",
    "    return np.mean(np.abs(y_true - y_pred))\n",
    "\n",
    "def mean_absolute_percentage_error(y_true, y_pred): \n",
    "    y_true, y_pred = np.array(y_true), np.array(y_pred)\n",
    "    return 100* np.mean(np.abs((y_true - y_pred) / y_true))\n",
    "\n",
    "def Call_Results(Call_Pred):\n",
    "    '''\n",
    "    Get the results for Call options (TIM, ATM, OTM, and Overall) in terms of the R^2, MAE, MAPE \n",
    "    '''\n",
    "    result = np.array([\n",
    "        r2_score(Call_ITM, Call_Pred[Call_ITM_idx]),\n",
    "        r2_score(Call_ATM, Call_Pred[Call_ATM_idx]),\n",
    "        r2_score(Call_OTM, Call_Pred[Call_OTM_idx]),\n",
    "        r2_score(Call_ALL, Call_Pred),\n",
    "        \n",
    "        mean_absolute_error(Call_ITM, Call_Pred[Call_ITM_idx]),\n",
    "        mean_absolute_error(Call_ATM, Call_Pred[Call_ATM_idx]),\n",
    "        mean_absolute_error(Call_OTM, Call_Pred[Call_OTM_idx]),\n",
    "        mean_absolute_error(Call_ALL, Call_Pred),\n",
    "        \n",
    "        mean_absolute_percentage_error(Call_ITM, Call_Pred[Call_ITM_idx]),\n",
    "        mean_absolute_percentage_error(Call_ATM, Call_Pred[Call_ATM_idx]),\n",
    "        mean_absolute_percentage_error(Call_OTM, Call_Pred[Call_OTM_idx]),\n",
    "        mean_absolute_percentage_error(Call_ALL, Call_Pred)\n",
    "    ])\n",
    "    result = np.round(result, 5)\n",
    "    print('The R^2 for ITM, ATM, OTM, and overall Call Option is {}, {}, {}, and {}, respectively.'.format(\n",
    "        result[0], result[1], result[2], result[3])\n",
    "    ) \n",
    "    print('--------------------------------------------------------------------------------------------------------')\n",
    "    print('The MAE for ITM, ATM, OTM, and overall Call Option is {}, {}, {}, and {}, respectively.'.format(\n",
    "        result[4], result[5], result[6], result[7])\n",
    "    )\n",
    "    print('--------------------------------------------------------------------------------------------------------')\n",
    "    print('The MAPE for ITM, ATM, OTM, and overall Call Option is {}, {}, {}, and {}, respectively.'.format(\n",
    "        result[8], result[9], result[10], result[11])\n",
    "    )\n",
    "    print('--------------------------------------------------------------------------------------------------------')\n",
    "    \n",
    "    sns.displot(ES_EZ_call, x = np.abs(Call_ALL - Call_Pred), \n",
    "                hue = \"Moneyness\", legend = True, height = 5, aspect = 2)\n",
    "    plt.xlabel('Absolute Error')\n",
    "    plt.ylabel('Count')\n",
    "    plt.xlim(0,50)\n",
    "    plt.title('Histogram of Absolute Error with respect to moneyness (exclude the extreme values)')\n",
    "    \n",
    "    sns.displot(ES_EZ_call, x = np.abs((Call_ALL - Call_Pred) / Call_ALL), \n",
    "                hue = \"Moneyness\", legend = True, height = 5, aspect = 2)\n",
    "    plt.xlabel('Absolute Percentage Error')\n",
    "    plt.ylabel('Count')\n",
    "    plt.xlim(0,1)\n",
    "    plt.title('Histogram of Absolute Percentage Error in 100% with respect to moneyness (exclude the extreme values)')\n",
    "\n",
    "    return None\n",
    "\n",
    "def Put_Results(Put_Pred):\n",
    "    '''\n",
    "    Get the results for Put options (TIM, ATM, OTM, and Overall) in terms of the R^2, MAE, MAPE\n",
    "    '''\n",
    "\n",
    "    result = np.array([\n",
    "        r2_score(Put_ITM, Put_Pred[Put_ITM_idx]),\n",
    "        r2_score(Put_ATM, Put_Pred[Put_ATM_idx]),\n",
    "        r2_score(Put_OTM, Put_Pred[Put_OTM_idx]),\n",
    "        r2_score(Put_ALL, Put_Pred),\n",
    "        \n",
    "        mean_absolute_error(Put_ITM, Put_Pred[Put_ITM_idx]),\n",
    "        mean_absolute_error(Put_ATM, Put_Pred[Put_ATM_idx]),\n",
    "        mean_absolute_error(Put_OTM, Put_Pred[Put_OTM_idx]),\n",
    "        mean_absolute_error(Put_ALL, Put_Pred),\n",
    "        \n",
    "        mean_absolute_percentage_error(Put_ITM, Put_Pred[Put_ITM_idx]),\n",
    "        mean_absolute_percentage_error(Put_ATM, Put_Pred[Put_ATM_idx]),\n",
    "        mean_absolute_percentage_error(Put_OTM, Put_Pred[Put_OTM_idx]),\n",
    "        mean_absolute_percentage_error(Put_ALL, Put_Pred)\n",
    "    ])\n",
    "    result = np.round(result, 5)\n",
    "    print('The R^2 for ITM, ATM, OTM, and overall Put Option is {}, {}, {}, and {}, respectively.'.format(\n",
    "        result[0], result[1], result[2], result[3])\n",
    "    ) \n",
    "    print('--------------------------------------------------------------------------------------------------------')\n",
    "    print('The MAE for ITM, ATM, OTM, and overall Put Option is {}, {}, {}, and {}, respectively.'.format(\n",
    "        result[4], result[5], result[6], result[7])\n",
    "    )\n",
    "    print('--------------------------------------------------------------------------------------------------------')\n",
    "    print('The MAPE for ITM, ATM, OTM, and overall Put Option is {}, {}, {}, and {}, respectively.'.format(\n",
    "        result[8], result[9], result[10], result[11])\n",
    "    )\n",
    "    print('--------------------------------------------------------------------------------------------------------')\n",
    "    \n",
    "    sns.displot(ES_EZ_put, x = np.abs(Put_ALL - Put_Pred), \n",
    "                hue = \"Moneyness\", legend = True, height = 5, aspect = 2)\n",
    "    plt.xlabel('Absolute Error')\n",
    "    plt.ylabel('Count')\n",
    "    plt.xlim(0,50)\n",
    "    plt.title('Histogram of Absolute Error with respect to moneyness (exclude the extreme values)')\n",
    "    \n",
    "    sns.displot(ES_EZ_put, x = np.abs((Put_ALL - Put_Pred) / Put_ALL), \n",
    "                hue = \"Moneyness\", legend = True, height = 5, aspect = 2)\n",
    "    plt.xlabel('Absolute Percentage Error')\n",
    "    plt.ylabel('Count')\n",
    "    plt.xlim(0,1)\n",
    "    plt.title('Histogram of Absolute Percentage Error in 100% with respect to moneyness (exclude the extreme values)')\n",
    "\n",
    "    return None"
   ]
  },
  {
   "cell_type": "code",
   "execution_count": 20,
   "metadata": {},
   "outputs": [],
   "source": [
    "ENN_call = scalery_call.inverse_transform(ENN_Call.predict(ES_EZ_call_X))\n",
    "ENN_put = scalery_put.inverse_transform(ENN_Put.predict(ES_EZ_put_X))"
   ]
  },
  {
   "cell_type": "markdown",
   "metadata": {},
   "source": [
    "### Results"
   ]
  },
  {
   "cell_type": "code",
   "execution_count": 21,
   "metadata": {},
   "outputs": [
    {
     "name": "stdout",
     "output_type": "stream",
     "text": [
      "The total variance explained is 0.99927 for the Call Options\n",
      "The total variance explained is 0.99655 for the Put Options\n"
     ]
    }
   ],
   "source": [
    "# Test the performances of ENN \n",
    "ENN_Call_Pred = np.zeros(ES_EZ_call.shape[0])\n",
    "for i in range(ES_EZ_call.shape[0]):\n",
    "    price = BS._american_option(option_type = 'c', \n",
    "                             fs = ES_EZ_call['futures.price'].values[i], \n",
    "                             x = ES_EZ_call['Strike.Price'].values[i], \n",
    "                             t = ES_EZ_call['Time.to.maturity'].values[i], \n",
    "                             r = ES_EZ_call['Risk.Free.Rate'].values[i], \n",
    "                             b = 0, \n",
    "                             v = ENN_call[i])[0]\n",
    "    ENN_Call_Pred[i] = price\n",
    "\n",
    "ENN_PUT_Pred = np.zeros(ES_EZ_put.shape[0])\n",
    "for i in range(ES_EZ_put.shape[0]):\n",
    "    price = BS._american_option(option_type = 'p', \n",
    "                             fs = ES_EZ_put['futures.price'].values[i], \n",
    "                             x = ES_EZ_put['Strike.Price'].values[i], \n",
    "                             t = ES_EZ_put['Time.to.maturity'].values[i], \n",
    "                             r = ES_EZ_put['Risk.Free.Rate'].values[i], \n",
    "                             b = 0, \n",
    "                             v = ENN_put[i])[0]\n",
    "    ENN_PUT_Pred[i] = price\n",
    "\n",
    "\n",
    "print('The total variance explained is {} for the Call Options'.format(\n",
    "    np.round(r2_score(ES_EZ_call['Settlement'], ENN_Call_Pred), 5))\n",
    "     )\n",
    "print('The total variance explained is {} for the Put Options'.format(\n",
    "    np.round(r2_score(ES_EZ_put['Settlement'], ENN_PUT_Pred), 5))\n",
    "     )"
   ]
  },
  {
   "cell_type": "code",
   "execution_count": 22,
   "metadata": {},
   "outputs": [
    {
     "name": "stdout",
     "output_type": "stream",
     "text": [
      "The R^2 for ITM, ATM, OTM, and overall Call Option is 0.99949, 0.97037, 0.94185, and 0.99927, respectively.\n",
      "--------------------------------------------------------------------------------------------------------\n",
      "The MAE for ITM, ATM, OTM, and overall Call Option is 4.94724, 11.45757, 7.67312, and 6.9287, respectively.\n",
      "--------------------------------------------------------------------------------------------------------\n",
      "The MAPE for ITM, ATM, OTM, and overall Call Option is 1.0502, 11.33804, 53.68622, and 19.35531, respectively.\n",
      "--------------------------------------------------------------------------------------------------------\n"
     ]
    },
    {
     "data": {
      "image/png": "[encoded data removed]",
      "text/plain": [
       "<Figure size 790.175x360 with 1 Axes>"
      ]
     },
     "metadata": {},
     "output_type": "display_data"
    },
    {
     "data": {
      "image/png": "[encoded data removed]",
      "text/plain": [
       "<Figure size 790.175x360 with 1 Axes>"
      ]
     },
     "metadata": {},
     "output_type": "display_data"
    }
   ],
   "source": [
    "Call_Results(ENN_Call_Pred)"
   ]
  },
  {
   "cell_type": "code",
   "execution_count": 23,
   "metadata": {},
   "outputs": [
    {
     "name": "stdout",
     "output_type": "stream",
     "text": [
      "Put.Call                      C\n",
      "Strike.Price               2280\n",
      "Settlement                377.1\n",
      "Historical Vol        0.0347394\n",
      "futures.price            2405.3\n",
      "Time.to.maturity       0.260274\n",
      "Risk.Free.Rate           0.0024\n",
      "Open.Interest                15\n",
      "Implied.Volatility     0.651075\n",
      "Moneyness                   ITM\n",
      "ATM                           0\n",
      "ITM                           1\n",
      "OTM                           0\n",
      "Name: 1922, dtype: object\n",
      "--------------------------------\n",
      "The predicted value is 302.9935\n"
     ]
    }
   ],
   "source": [
    "MAE_idx = np.argmax(np.abs(Call_ALL - ENN_Call_Pred))\n",
    "print(ES_EZ_call.iloc[MAE_idx])\n",
    "print('--------------------------------')\n",
    "print('The predicted value is', np.round(ENN_Call_Pred[MAE_idx], 4))"
   ]
  },
  {
   "cell_type": "code",
   "execution_count": 24,
   "metadata": {},
   "outputs": [
    {
     "name": "stdout",
     "output_type": "stream",
     "text": [
      "Put.Call                      C\n",
      "Strike.Price               3640\n",
      "Settlement                  0.2\n",
      "Historical Vol         0.015363\n",
      "futures.price            3380.9\n",
      "Time.to.maturity      0.0958904\n",
      "Risk.Free.Rate            0.016\n",
      "Open.Interest               106\n",
      "Implied.Volatility    0.0936499\n",
      "Moneyness                   OTM\n",
      "ATM                           0\n",
      "ITM                           0\n",
      "OTM                           1\n",
      "Name: 1079, dtype: object\n",
      "--------------------------------\n",
      "The predicted value is 2.0062\n"
     ]
    }
   ],
   "source": [
    "MAPE_idx = np.argmax(np.abs((Call_ALL - ENN_Call_Pred) / Call_ALL))\n",
    "print(ES_EZ_call.iloc[MAPE_idx])\n",
    "print('--------------------------------')\n",
    "print('The predicted value is', np.round(ENN_Call_Pred[MAPE_idx], 4))"
   ]
  },
  {
   "cell_type": "code",
   "execution_count": 25,
   "metadata": {},
   "outputs": [
    {
     "name": "stdout",
     "output_type": "stream",
     "text": [
      "The R^2 for ITM, ATM, OTM, and overall Put Option is 0.99522, 0.95847, 0.97932, and 0.99655, respectively.\n",
      "--------------------------------------------------------------------------------------------------------\n",
      "The MAE for ITM, ATM, OTM, and overall Put Option is 8.65429, 12.281, 4.02877, and 6.21834, respectively.\n",
      "--------------------------------------------------------------------------------------------------------\n",
      "The MAPE for ITM, ATM, OTM, and overall Put Option is 2.71333, 12.30505, 21.37035, and 16.22075, respectively.\n",
      "--------------------------------------------------------------------------------------------------------\n"
     ]
    },
    {
     "data": {
      "image/png": "[encoded data removed]",
      "text/plain": [
       "<Figure size 790.175x360 with 1 Axes>"
      ]
     },
     "metadata": {},
     "output_type": "display_data"
    },
    {
     "data": {
      "image/png": "[encoded data removed]",
      "text/plain": [
       "<Figure size 790.175x360 with 1 Axes>"
      ]
     },
     "metadata": {},
     "output_type": "display_data"
    }
   ],
   "source": [
    "Put_Results(ENN_PUT_Pred)"
   ]
  },
  {
   "cell_type": "code",
   "execution_count": 26,
   "metadata": {},
   "outputs": [
    {
     "name": "stdout",
     "output_type": "stream",
     "text": [
      "Put.Call                      P\n",
      "Strike.Price               2510\n",
      "Settlement                  351\n",
      "Historical Vol        0.0347394\n",
      "futures.price            2405.3\n",
      "Time.to.maturity       0.260274\n",
      "Risk.Free.Rate           0.0024\n",
      "Open.Interest              1005\n",
      "Implied.Volatility     0.590637\n",
      "Moneyness                   ITM\n",
      "ATM                           0\n",
      "ITM                           1\n",
      "OTM                           0\n",
      "Name: 15046, dtype: object\n",
      "--------------------------------\n",
      "The predicted value is 285.7746\n"
     ]
    }
   ],
   "source": [
    "MAE_idx = np.argmax(np.abs(Put_ALL - ENN_PUT_Pred))\n",
    "print(ES_EZ_put.iloc[MAE_idx])\n",
    "print('--------------------------------')\n",
    "print('The predicted value is', np.round(ENN_PUT_Pred[MAE_idx], 4))"
   ]
  },
  {
   "cell_type": "code",
   "execution_count": 27,
   "metadata": {},
   "outputs": [
    {
     "name": "stdout",
     "output_type": "stream",
     "text": [
      "Put.Call                       P\n",
      "Strike.Price                3750\n",
      "Settlement                   0.9\n",
      "Historical Vol        0.00981027\n",
      "futures.price             3967.6\n",
      "Time.to.maturity       0.0109589\n",
      "Risk.Free.Rate            0.0002\n",
      "Open.Interest              16544\n",
      "Implied.Volatility      0.239988\n",
      "Moneyness                    OTM\n",
      "ATM                            0\n",
      "ITM                            0\n",
      "OTM                            1\n",
      "Name: 26845, dtype: object\n",
      "--------------------------------\n",
      "The predicted value is 2.1186\n"
     ]
    }
   ],
   "source": [
    "MAPE_idx = np.argmax(np.abs((Put_ALL - ENN_PUT_Pred) / Put_ALL))\n",
    "print(ES_EZ_put.iloc[MAPE_idx])\n",
    "print('--------------------------------')\n",
    "print('The predicted value is', np.round(ENN_PUT_Pred[MAPE_idx], 4))"
   ]
  }
 ],
 "metadata": {
  "hide_input": false,
  "kernelspec": {
   "display_name": "Python 3",
   "language": "python",
   "name": "python3"
  },
  "language_info": {
   "codemirror_mode": {
    "name": "ipython",
    "version": 3
   },
   "file_extension": ".py",
   "mimetype": "text/x-python",
   "name": "python",
   "nbconvert_exporter": "python",
   "pygments_lexer": "ipython3",
   "version": "3.8.3"
  }
 },
 "nbformat": 4,
 "nbformat_minor": 4
}
