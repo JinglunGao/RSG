{
 "cells": [
  {
   "cell_type": "markdown",
   "metadata": {},
   "source": [
    "## Explanatory Data Analysis "
   ]
  },
  {
   "cell_type": "code",
   "execution_count": 1,
   "metadata": {},
   "outputs": [],
   "source": [
    "# Import necessary libraries\n",
    "import numpy as np\n",
    "import pandas as pd\n",
    "import seaborn as sns\n",
    "import matplotlib.pyplot as plt\n",
    "sns.set()\n",
    "\n",
    "import warnings\n",
    "warnings.filterwarnings(\"ignore\")"
   ]
  },
  {
   "cell_type": "code",
   "execution_count": 2,
   "metadata": {},
   "outputs": [
    {
     "data": {
      "text/html": [
       "<div>\n",
       "<style scoped>\n",
       "    .dataframe tbody tr th:only-of-type {\n",
       "        vertical-align: middle;\n",
       "    }\n",
       "\n",
       "    .dataframe tbody tr th {\n",
       "        vertical-align: top;\n",
       "    }\n",
       "\n",
       "    .dataframe thead th {\n",
       "        text-align: right;\n",
       "    }\n",
       "</style>\n",
       "<table border=\"1\" class=\"dataframe\">\n",
       "  <thead>\n",
       "    <tr style=\"text-align: right;\">\n",
       "      <th></th>\n",
       "      <th>Put.Call</th>\n",
       "      <th>Strike.Price</th>\n",
       "      <th>Settlement</th>\n",
       "      <th>Historical Vol</th>\n",
       "      <th>futures.price</th>\n",
       "      <th>Time.to.maturity</th>\n",
       "      <th>Risk.Free.Rate</th>\n",
       "      <th>Open.Interest</th>\n",
       "      <th>Implied.Volatility</th>\n",
       "    </tr>\n",
       "  </thead>\n",
       "  <tbody>\n",
       "    <tr>\n",
       "      <th>0</th>\n",
       "      <td>C</td>\n",
       "      <td>2200</td>\n",
       "      <td>1059.0</td>\n",
       "      <td>0.008335</td>\n",
       "      <td>3259.0</td>\n",
       "      <td>0.213699</td>\n",
       "      <td>0.0154</td>\n",
       "      <td>826.0</td>\n",
       "      <td>0.338267</td>\n",
       "    </tr>\n",
       "    <tr>\n",
       "      <th>1</th>\n",
       "      <td>C</td>\n",
       "      <td>2250</td>\n",
       "      <td>1009.1</td>\n",
       "      <td>0.008335</td>\n",
       "      <td>3259.0</td>\n",
       "      <td>0.213699</td>\n",
       "      <td>0.0154</td>\n",
       "      <td>728.0</td>\n",
       "      <td>0.326829</td>\n",
       "    </tr>\n",
       "    <tr>\n",
       "      <th>2</th>\n",
       "      <td>C</td>\n",
       "      <td>2270</td>\n",
       "      <td>989.1</td>\n",
       "      <td>0.008335</td>\n",
       "      <td>3259.0</td>\n",
       "      <td>0.213699</td>\n",
       "      <td>0.0154</td>\n",
       "      <td>1.0</td>\n",
       "      <td>0.323456</td>\n",
       "    </tr>\n",
       "    <tr>\n",
       "      <th>3</th>\n",
       "      <td>C</td>\n",
       "      <td>2300</td>\n",
       "      <td>959.2</td>\n",
       "      <td>0.008335</td>\n",
       "      <td>3259.0</td>\n",
       "      <td>0.213699</td>\n",
       "      <td>0.0154</td>\n",
       "      <td>212.0</td>\n",
       "      <td>0.317834</td>\n",
       "    </tr>\n",
       "    <tr>\n",
       "      <th>4</th>\n",
       "      <td>C</td>\n",
       "      <td>2310</td>\n",
       "      <td>949.2</td>\n",
       "      <td>0.008335</td>\n",
       "      <td>3259.0</td>\n",
       "      <td>0.213699</td>\n",
       "      <td>0.0154</td>\n",
       "      <td>42.0</td>\n",
       "      <td>0.314282</td>\n",
       "    </tr>\n",
       "  </tbody>\n",
       "</table>\n",
       "</div>"
      ],
      "text/plain": [
       "  Put.Call  Strike.Price  Settlement  Historical Vol  futures.price  \\\n",
       "0        C          2200      1059.0        0.008335         3259.0   \n",
       "1        C          2250      1009.1        0.008335         3259.0   \n",
       "2        C          2270       989.1        0.008335         3259.0   \n",
       "3        C          2300       959.2        0.008335         3259.0   \n",
       "4        C          2310       949.2        0.008335         3259.0   \n",
       "\n",
       "   Time.to.maturity  Risk.Free.Rate  Open.Interest  Implied.Volatility  \n",
       "0          0.213699          0.0154          826.0            0.338267  \n",
       "1          0.213699          0.0154          728.0            0.326829  \n",
       "2          0.213699          0.0154            1.0            0.323456  \n",
       "3          0.213699          0.0154          212.0            0.317834  \n",
       "4          0.213699          0.0154           42.0            0.314282  "
      ]
     },
     "execution_count": 2,
     "metadata": {},
     "output_type": "execute_result"
    }
   ],
   "source": [
    "# Read the data\n",
    "ES_EZ = pd.read_csv('/Users/gaojinglun/Desktop/RSG/data/ES_EZ.csv')\n",
    "df = ES_EZ[['Put.Call', 'Strike.Price', 'Settlement', 'Historical Vol', 'futures.price', \n",
    "            'Time.to.maturity', 'Risk.Free.Rate', 'Open.Interest', 'Implied.Volatility']]\n",
    "\n",
    "# Drop the obserbation with 0 settlement\n",
    "df = df.drop(df.index.values[df['Settlement'] == 0], axis = 0)\n",
    "assert sum(df['Settlement'] == 0) == 0, 'option price equals to 0'\n",
    "\n",
    "# Drop the Null values\n",
    "df = df.dropna()\n",
    "df.head()"
   ]
  },
  {
   "cell_type": "code",
   "execution_count": 3,
   "metadata": {},
   "outputs": [
    {
     "name": "stdout",
     "output_type": "stream",
     "text": [
      "The mean value of strike to underlying asset ratio is 88.9256\n",
      "The standard deviation of strike to underlying asset ratio is 23.5068\n",
      "The minimum value of strike to underlying asset ratio is 3.1227\n",
      "The maximum value of strike to underlying asset ratio is 184.7575\n"
     ]
    }
   ],
   "source": [
    "# Calculate the Strike price to underlying asset price ratio in 100%\n",
    "temp = 100 * df['Strike.Price'].values / df['futures.price'].values\n",
    "\n",
    "print('The mean value of strike to underlying asset ratio is', np.round(np.mean(temp), 4))\n",
    "print('The standard deviation of strike to underlying asset ratio is', np.round(np.std(temp), 4))\n",
    "print('The minimum value of strike to underlying asset ratio is', np.round(np.min(temp), 4))\n",
    "print('The maximum value of strike to underlying asset ratio is', np.round(np.max(temp), 4))"
   ]
  },
  {
   "cell_type": "code",
   "execution_count": 4,
   "metadata": {},
   "outputs": [
    {
     "data": {
      "image/png": "[encoded data removed]",
      "text/plain": [
       "<Figure size 770.675x360 with 1 Axes>"
      ]
     },
     "metadata": {},
     "output_type": "display_data"
    }
   ],
   "source": [
    "# the histogram of the data\n",
    "sns.set(rc = {'figure.figsize':(10, 5)})\n",
    "sns.displot(df, x = temp, hue = \"Put.Call\", legend = True, height = 5, aspect = 2)\n",
    "plt.axvline(x = 88.9256 - 2 * 23.5068, color = 'red')\n",
    "plt.axvline(x = 88.9256 + 2 * 23.5068, color = 'red')\n",
    "plt.xlabel('Strike to Underlying ratio in 100%')\n",
    "plt.ylabel('Count')\n",
    "plt.title('Histogram of Strike to Underlying ratio')\n",
    "plt.text(70, 600, r'$\\mu=95.3825,\\ \\sigma=21.335$')\n",
    "plt.show()"
   ]
  },
  {
   "cell_type": "code",
   "execution_count": 5,
   "metadata": {},
   "outputs": [
    {
     "data": {
      "image/png": "[encoded data removed]",
      "text/plain": [
       "<Figure size 770.675x360 with 1 Axes>"
      ]
     },
     "metadata": {},
     "output_type": "display_data"
    }
   ],
   "source": [
    "sns.displot(df, x = 'Implied.Volatility', hue = \"Put.Call\", legend = True, height = 5, aspect = 2)\n",
    "plt.xlabel('Implied.Volatility')\n",
    "plt.ylabel('Count')\n",
    "plt.title('Histogram of Implied.Volatility with respect to Put/Call')\n",
    "plt.show()"
   ]
  },
  {
   "cell_type": "code",
   "execution_count": 6,
   "metadata": {},
   "outputs": [
    {
     "name": "stdout",
     "output_type": "stream",
     "text": [
      "We keep 93.2% of the data.\n",
      "The new datafram contains 27239 observations and 9 features.\n"
     ]
    }
   ],
   "source": [
    "# Keep the observations within two sd of Strike to Underlying ratio, \n",
    "# and keep the observations with implied vol less than 1\n",
    "idx = np.logical_and(temp > 88.9256 - 2 * 23.5068, temp < 88.9256 + 2 * 23.5068)\n",
    "idx = np.logical_and(idx, df['Implied.Volatility'] <= 1)\n",
    "\n",
    "print('We keep {}% of the data.'.format(100 * np.round(np.sum(idx) / len(temp), 4)))\n",
    "      \n",
    "df_new = df[idx]\n",
    "print('The new datafram contains {} observations and {} features.'.format(df_new.shape[0], df_new.shape[1]))"
   ]
  },
  {
   "cell_type": "markdown",
   "metadata": {},
   "source": [
    "### Call options"
   ]
  },
  {
   "cell_type": "code",
   "execution_count": 7,
   "metadata": {},
   "outputs": [
    {
     "name": "stdout",
     "output_type": "stream",
     "text": [
      "The number of Call options is 12794\n",
      "The number of ITM Call options is 6565\n",
      "The number of ATM Call options is 2212\n",
      "The number of OTM Call options is 4017\n"
     ]
    }
   ],
   "source": [
    "# Extract the Call Options\n",
    "ES_EZ_call = df_new[df_new['Put.Call'] == 'C']\n",
    "\n",
    "Call_temp = 100 * ES_EZ_call['Strike.Price'].values / ES_EZ_call['futures.price'].values\n",
    "Call_ITM_idx = Call_temp < 95.2\n",
    "Call_ATM_idx = np.logical_and(Call_temp <= 103.1, Call_temp >= 95.2)\n",
    "Call_OTM_idx = Call_temp > 103.1\n",
    "print('The number of Call options is', ES_EZ_call.shape[0])\n",
    "print('The number of ITM Call options is', np.sum(Call_ITM_idx))\n",
    "print('The number of ATM Call options is', np.sum(Call_ATM_idx))\n",
    "print('The number of OTM Call options is', np.sum(Call_OTM_idx))"
   ]
  },
  {
   "cell_type": "code",
   "execution_count": 8,
   "metadata": {},
   "outputs": [
    {
     "data": {
      "text/html": [
       "<div>\n",
       "<style scoped>\n",
       "    .dataframe tbody tr th:only-of-type {\n",
       "        vertical-align: middle;\n",
       "    }\n",
       "\n",
       "    .dataframe tbody tr th {\n",
       "        vertical-align: top;\n",
       "    }\n",
       "\n",
       "    .dataframe thead th {\n",
       "        text-align: right;\n",
       "    }\n",
       "</style>\n",
       "<table border=\"1\" class=\"dataframe\">\n",
       "  <thead>\n",
       "    <tr style=\"text-align: right;\">\n",
       "      <th></th>\n",
       "      <th>Put.Call</th>\n",
       "      <th>Strike.Price</th>\n",
       "      <th>Settlement</th>\n",
       "      <th>Historical Vol</th>\n",
       "      <th>futures.price</th>\n",
       "      <th>Time.to.maturity</th>\n",
       "      <th>Risk.Free.Rate</th>\n",
       "      <th>Open.Interest</th>\n",
       "      <th>Implied.Volatility</th>\n",
       "      <th>Moneyness</th>\n",
       "    </tr>\n",
       "  </thead>\n",
       "  <tbody>\n",
       "    <tr>\n",
       "      <th>0</th>\n",
       "      <td>C</td>\n",
       "      <td>2200</td>\n",
       "      <td>1059.0</td>\n",
       "      <td>0.008335</td>\n",
       "      <td>3259.0</td>\n",
       "      <td>0.213699</td>\n",
       "      <td>0.0154</td>\n",
       "      <td>826.0</td>\n",
       "      <td>0.338267</td>\n",
       "      <td>ITM</td>\n",
       "    </tr>\n",
       "    <tr>\n",
       "      <th>1</th>\n",
       "      <td>C</td>\n",
       "      <td>2250</td>\n",
       "      <td>1009.1</td>\n",
       "      <td>0.008335</td>\n",
       "      <td>3259.0</td>\n",
       "      <td>0.213699</td>\n",
       "      <td>0.0154</td>\n",
       "      <td>728.0</td>\n",
       "      <td>0.326829</td>\n",
       "      <td>ITM</td>\n",
       "    </tr>\n",
       "    <tr>\n",
       "      <th>2</th>\n",
       "      <td>C</td>\n",
       "      <td>2270</td>\n",
       "      <td>989.1</td>\n",
       "      <td>0.008335</td>\n",
       "      <td>3259.0</td>\n",
       "      <td>0.213699</td>\n",
       "      <td>0.0154</td>\n",
       "      <td>1.0</td>\n",
       "      <td>0.323456</td>\n",
       "      <td>ITM</td>\n",
       "    </tr>\n",
       "    <tr>\n",
       "      <th>3</th>\n",
       "      <td>C</td>\n",
       "      <td>2300</td>\n",
       "      <td>959.2</td>\n",
       "      <td>0.008335</td>\n",
       "      <td>3259.0</td>\n",
       "      <td>0.213699</td>\n",
       "      <td>0.0154</td>\n",
       "      <td>212.0</td>\n",
       "      <td>0.317834</td>\n",
       "      <td>ITM</td>\n",
       "    </tr>\n",
       "    <tr>\n",
       "      <th>4</th>\n",
       "      <td>C</td>\n",
       "      <td>2310</td>\n",
       "      <td>949.2</td>\n",
       "      <td>0.008335</td>\n",
       "      <td>3259.0</td>\n",
       "      <td>0.213699</td>\n",
       "      <td>0.0154</td>\n",
       "      <td>42.0</td>\n",
       "      <td>0.314282</td>\n",
       "      <td>ITM</td>\n",
       "    </tr>\n",
       "  </tbody>\n",
       "</table>\n",
       "</div>"
      ],
      "text/plain": [
       "  Put.Call  Strike.Price  Settlement  Historical Vol  futures.price  \\\n",
       "0        C          2200      1059.0        0.008335         3259.0   \n",
       "1        C          2250      1009.1        0.008335         3259.0   \n",
       "2        C          2270       989.1        0.008335         3259.0   \n",
       "3        C          2300       959.2        0.008335         3259.0   \n",
       "4        C          2310       949.2        0.008335         3259.0   \n",
       "\n",
       "   Time.to.maturity  Risk.Free.Rate  Open.Interest  Implied.Volatility  \\\n",
       "0          0.213699          0.0154          826.0            0.338267   \n",
       "1          0.213699          0.0154          728.0            0.326829   \n",
       "2          0.213699          0.0154            1.0            0.323456   \n",
       "3          0.213699          0.0154          212.0            0.317834   \n",
       "4          0.213699          0.0154           42.0            0.314282   \n",
       "\n",
       "  Moneyness  \n",
       "0       ITM  \n",
       "1       ITM  \n",
       "2       ITM  \n",
       "3       ITM  \n",
       "4       ITM  "
      ]
     },
     "execution_count": 8,
     "metadata": {},
     "output_type": "execute_result"
    }
   ],
   "source": [
    "# Add the moneyness indicator \n",
    "Call_moneyness = np.array(['ITM'] * ES_EZ_call.shape[0])\n",
    "Call_moneyness[Call_ATM_idx] = 'ATM'\n",
    "Call_moneyness[Call_OTM_idx] = 'OTM'\n",
    "ES_EZ_call['Moneyness'] = Call_moneyness\n",
    "ES_EZ_call.head()"
   ]
  },
  {
   "cell_type": "code",
   "execution_count": 9,
   "metadata": {},
   "outputs": [
    {
     "data": {
      "image/png": "[encoded data removed]",
      "text/plain": [
       "<Figure size 790.175x360 with 1 Axes>"
      ]
     },
     "metadata": {},
     "output_type": "display_data"
    }
   ],
   "source": [
    "sns.displot(ES_EZ_call, x = 'Implied.Volatility', hue = \"Moneyness\", legend = True, height = 5, aspect = 2)\n",
    "plt.xlabel('Implied.Volatility')\n",
    "plt.ylabel('Count')\n",
    "plt.title('Histogram of Implied.Volatility with respect to Call Moneyness')\n",
    "plt.show()"
   ]
  },
  {
   "cell_type": "markdown",
   "metadata": {},
   "source": [
    "### Put options"
   ]
  },
  {
   "cell_type": "code",
   "execution_count": 10,
   "metadata": {},
   "outputs": [
    {
     "name": "stdout",
     "output_type": "stream",
     "text": [
      "The number of Call options is 14445\n",
      "The number of ITM Call options is 2895\n",
      "The number of ATM Call options is 2221\n",
      "The number of OTM Call options is 9329\n"
     ]
    }
   ],
   "source": [
    "# Extract the Call Options\n",
    "ES_EZ_put = df_new[df_new['Put.Call'] == 'P']\n",
    "\n",
    "Put_temp = 100 * ES_EZ_put['Strike.Price'].values / ES_EZ_put['futures.price'].values\n",
    "Put_ITM_idx = Put_temp > 103.1\n",
    "Put_ATM_idx = np.logical_and(Put_temp <= 103.1, Put_temp >= 95.2)\n",
    "Put_OTM_idx = Put_temp < 95.2\n",
    "print('The number of Call options is', ES_EZ_put.shape[0])\n",
    "print('The number of ITM Call options is', np.sum(Put_ITM_idx))\n",
    "print('The number of ATM Call options is', np.sum(Put_ATM_idx))\n",
    "print('The number of OTM Call options is', np.sum(Put_OTM_idx))"
   ]
  },
  {
   "cell_type": "code",
   "execution_count": 11,
   "metadata": {},
   "outputs": [
    {
     "data": {
      "text/html": [
       "<div>\n",
       "<style scoped>\n",
       "    .dataframe tbody tr th:only-of-type {\n",
       "        vertical-align: middle;\n",
       "    }\n",
       "\n",
       "    .dataframe tbody tr th {\n",
       "        vertical-align: top;\n",
       "    }\n",
       "\n",
       "    .dataframe thead th {\n",
       "        text-align: right;\n",
       "    }\n",
       "</style>\n",
       "<table border=\"1\" class=\"dataframe\">\n",
       "  <thead>\n",
       "    <tr style=\"text-align: right;\">\n",
       "      <th></th>\n",
       "      <th>Put.Call</th>\n",
       "      <th>Strike.Price</th>\n",
       "      <th>Settlement</th>\n",
       "      <th>Historical Vol</th>\n",
       "      <th>futures.price</th>\n",
       "      <th>Time.to.maturity</th>\n",
       "      <th>Risk.Free.Rate</th>\n",
       "      <th>Open.Interest</th>\n",
       "      <th>Implied.Volatility</th>\n",
       "      <th>Moneyness</th>\n",
       "    </tr>\n",
       "  </thead>\n",
       "  <tbody>\n",
       "    <tr>\n",
       "      <th>149</th>\n",
       "      <td>P</td>\n",
       "      <td>1400</td>\n",
       "      <td>0.05</td>\n",
       "      <td>0.008335</td>\n",
       "      <td>3259.0</td>\n",
       "      <td>0.213699</td>\n",
       "      <td>0.0154</td>\n",
       "      <td>2519.0</td>\n",
       "      <td>0.537640</td>\n",
       "      <td>OTM</td>\n",
       "    </tr>\n",
       "    <tr>\n",
       "      <th>150</th>\n",
       "      <td>P</td>\n",
       "      <td>1450</td>\n",
       "      <td>0.10</td>\n",
       "      <td>0.008335</td>\n",
       "      <td>3259.0</td>\n",
       "      <td>0.213699</td>\n",
       "      <td>0.0154</td>\n",
       "      <td>1440.0</td>\n",
       "      <td>0.543521</td>\n",
       "      <td>OTM</td>\n",
       "    </tr>\n",
       "    <tr>\n",
       "      <th>151</th>\n",
       "      <td>P</td>\n",
       "      <td>1500</td>\n",
       "      <td>0.10</td>\n",
       "      <td>0.008335</td>\n",
       "      <td>3259.0</td>\n",
       "      <td>0.213699</td>\n",
       "      <td>0.0154</td>\n",
       "      <td>1670.0</td>\n",
       "      <td>0.521792</td>\n",
       "      <td>OTM</td>\n",
       "    </tr>\n",
       "    <tr>\n",
       "      <th>152</th>\n",
       "      <td>P</td>\n",
       "      <td>1550</td>\n",
       "      <td>0.10</td>\n",
       "      <td>0.008335</td>\n",
       "      <td>3259.0</td>\n",
       "      <td>0.213699</td>\n",
       "      <td>0.0154</td>\n",
       "      <td>126.0</td>\n",
       "      <td>0.500767</td>\n",
       "      <td>OTM</td>\n",
       "    </tr>\n",
       "    <tr>\n",
       "      <th>153</th>\n",
       "      <td>P</td>\n",
       "      <td>1600</td>\n",
       "      <td>0.15</td>\n",
       "      <td>0.008335</td>\n",
       "      <td>3259.0</td>\n",
       "      <td>0.213699</td>\n",
       "      <td>0.0154</td>\n",
       "      <td>3223.0</td>\n",
       "      <td>0.496338</td>\n",
       "      <td>OTM</td>\n",
       "    </tr>\n",
       "  </tbody>\n",
       "</table>\n",
       "</div>"
      ],
      "text/plain": [
       "    Put.Call  Strike.Price  Settlement  Historical Vol  futures.price  \\\n",
       "149        P          1400        0.05        0.008335         3259.0   \n",
       "150        P          1450        0.10        0.008335         3259.0   \n",
       "151        P          1500        0.10        0.008335         3259.0   \n",
       "152        P          1550        0.10        0.008335         3259.0   \n",
       "153        P          1600        0.15        0.008335         3259.0   \n",
       "\n",
       "     Time.to.maturity  Risk.Free.Rate  Open.Interest  Implied.Volatility  \\\n",
       "149          0.213699          0.0154         2519.0            0.537640   \n",
       "150          0.213699          0.0154         1440.0            0.543521   \n",
       "151          0.213699          0.0154         1670.0            0.521792   \n",
       "152          0.213699          0.0154          126.0            0.500767   \n",
       "153          0.213699          0.0154         3223.0            0.496338   \n",
       "\n",
       "    Moneyness  \n",
       "149       OTM  \n",
       "150       OTM  \n",
       "151       OTM  \n",
       "152       OTM  \n",
       "153       OTM  "
      ]
     },
     "execution_count": 11,
     "metadata": {},
     "output_type": "execute_result"
    }
   ],
   "source": [
    "# Add the moneyness indicator \n",
    "Put_moneyness = np.array(['ITM'] * ES_EZ_put.shape[0])\n",
    "Put_moneyness[Put_ATM_idx] = 'ATM'\n",
    "Put_moneyness[Put_OTM_idx] = 'OTM'\n",
    "ES_EZ_put['Moneyness'] = Put_moneyness\n",
    "ES_EZ_put.head()"
   ]
  },
  {
   "cell_type": "code",
   "execution_count": 12,
   "metadata": {},
   "outputs": [
    {
     "data": {
      "image/png": "[encoded data removed]",
      "text/plain": [
       "<Figure size 790.175x360 with 1 Axes>"
      ]
     },
     "metadata": {},
     "output_type": "display_data"
    }
   ],
   "source": [
    "sns.displot(ES_EZ_put, x = 'Implied.Volatility', hue = \"Moneyness\", legend = True, height = 5, aspect = 2)\n",
    "plt.xlabel('Implied.Volatility')\n",
    "plt.ylabel('Count')\n",
    "plt.title('Histogram of Implied.Volatility with respect to Put Moneyness')\n",
    "plt.show()"
   ]
  },
  {
   "cell_type": "code",
   "execution_count": 13,
   "metadata": {},
   "outputs": [
    {
     "data": {
      "text/html": [
       "<div>\n",
       "<style scoped>\n",
       "    .dataframe tbody tr th:only-of-type {\n",
       "        vertical-align: middle;\n",
       "    }\n",
       "\n",
       "    .dataframe tbody tr th {\n",
       "        vertical-align: top;\n",
       "    }\n",
       "\n",
       "    .dataframe thead th {\n",
       "        text-align: right;\n",
       "    }\n",
       "</style>\n",
       "<table border=\"1\" class=\"dataframe\">\n",
       "  <thead>\n",
       "    <tr style=\"text-align: right;\">\n",
       "      <th></th>\n",
       "      <th>Put.Call</th>\n",
       "      <th>Strike.Price</th>\n",
       "      <th>Settlement</th>\n",
       "      <th>Historical Vol</th>\n",
       "      <th>futures.price</th>\n",
       "      <th>Time.to.maturity</th>\n",
       "      <th>Risk.Free.Rate</th>\n",
       "      <th>Open.Interest</th>\n",
       "      <th>Implied.Volatility</th>\n",
       "      <th>Moneyness</th>\n",
       "    </tr>\n",
       "  </thead>\n",
       "  <tbody>\n",
       "    <tr>\n",
       "      <th>0</th>\n",
       "      <td>C</td>\n",
       "      <td>2200</td>\n",
       "      <td>1059.0</td>\n",
       "      <td>0.008335</td>\n",
       "      <td>3259.0</td>\n",
       "      <td>0.213699</td>\n",
       "      <td>0.0154</td>\n",
       "      <td>826.0</td>\n",
       "      <td>0.338267</td>\n",
       "      <td>ITM</td>\n",
       "    </tr>\n",
       "    <tr>\n",
       "      <th>1</th>\n",
       "      <td>C</td>\n",
       "      <td>2250</td>\n",
       "      <td>1009.1</td>\n",
       "      <td>0.008335</td>\n",
       "      <td>3259.0</td>\n",
       "      <td>0.213699</td>\n",
       "      <td>0.0154</td>\n",
       "      <td>728.0</td>\n",
       "      <td>0.326829</td>\n",
       "      <td>ITM</td>\n",
       "    </tr>\n",
       "    <tr>\n",
       "      <th>2</th>\n",
       "      <td>C</td>\n",
       "      <td>2270</td>\n",
       "      <td>989.1</td>\n",
       "      <td>0.008335</td>\n",
       "      <td>3259.0</td>\n",
       "      <td>0.213699</td>\n",
       "      <td>0.0154</td>\n",
       "      <td>1.0</td>\n",
       "      <td>0.323456</td>\n",
       "      <td>ITM</td>\n",
       "    </tr>\n",
       "    <tr>\n",
       "      <th>3</th>\n",
       "      <td>C</td>\n",
       "      <td>2300</td>\n",
       "      <td>959.2</td>\n",
       "      <td>0.008335</td>\n",
       "      <td>3259.0</td>\n",
       "      <td>0.213699</td>\n",
       "      <td>0.0154</td>\n",
       "      <td>212.0</td>\n",
       "      <td>0.317834</td>\n",
       "      <td>ITM</td>\n",
       "    </tr>\n",
       "    <tr>\n",
       "      <th>4</th>\n",
       "      <td>C</td>\n",
       "      <td>2310</td>\n",
       "      <td>949.2</td>\n",
       "      <td>0.008335</td>\n",
       "      <td>3259.0</td>\n",
       "      <td>0.213699</td>\n",
       "      <td>0.0154</td>\n",
       "      <td>42.0</td>\n",
       "      <td>0.314282</td>\n",
       "      <td>ITM</td>\n",
       "    </tr>\n",
       "  </tbody>\n",
       "</table>\n",
       "</div>"
      ],
      "text/plain": [
       "  Put.Call  Strike.Price  Settlement  Historical Vol  futures.price  \\\n",
       "0        C          2200      1059.0        0.008335         3259.0   \n",
       "1        C          2250      1009.1        0.008335         3259.0   \n",
       "2        C          2270       989.1        0.008335         3259.0   \n",
       "3        C          2300       959.2        0.008335         3259.0   \n",
       "4        C          2310       949.2        0.008335         3259.0   \n",
       "\n",
       "   Time.to.maturity  Risk.Free.Rate  Open.Interest  Implied.Volatility  \\\n",
       "0          0.213699          0.0154          826.0            0.338267   \n",
       "1          0.213699          0.0154          728.0            0.326829   \n",
       "2          0.213699          0.0154            1.0            0.323456   \n",
       "3          0.213699          0.0154          212.0            0.317834   \n",
       "4          0.213699          0.0154           42.0            0.314282   \n",
       "\n",
       "  Moneyness  \n",
       "0       ITM  \n",
       "1       ITM  \n",
       "2       ITM  \n",
       "3       ITM  \n",
       "4       ITM  "
      ]
     },
     "execution_count": 13,
     "metadata": {},
     "output_type": "execute_result"
    }
   ],
   "source": [
    "data = pd.concat([ES_EZ_call, ES_EZ_put], axis = 0)\n",
    "data.head()"
   ]
  },
  {
   "cell_type": "code",
   "execution_count": 14,
   "metadata": {},
   "outputs": [
    {
     "data": {
      "text/plain": [
       "(27239, 10)"
      ]
     },
     "execution_count": 14,
     "metadata": {},
     "output_type": "execute_result"
    }
   ],
   "source": [
    "data.shape"
   ]
  },
  {
   "cell_type": "code",
   "execution_count": 15,
   "metadata": {},
   "outputs": [],
   "source": [
    "# save the data to local directory\n",
    "data.to_csv(\"/Users/gaojinglun/Desktop/RSG/data/ES_EZ.csv\")"
   ]
  }
 ],
 "metadata": {
  "hide_input": false,
  "kernelspec": {
   "display_name": "Python 3",
   "language": "python",
   "name": "python3"
  },
  "language_info": {
   "codemirror_mode": {
    "name": "ipython",
    "version": 3
   },
   "file_extension": ".py",
   "mimetype": "text/x-python",
   "name": "python",
   "nbconvert_exporter": "python",
   "pygments_lexer": "ipython3",
   "version": "3.8.3"
  }
 },
 "nbformat": 4,
 "nbformat_minor": 4
}
