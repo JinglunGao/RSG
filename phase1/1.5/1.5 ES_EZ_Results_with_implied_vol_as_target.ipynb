{
 "cells": [
  {
   "cell_type": "markdown",
   "metadata": {},
   "source": [
    "# Summary of ES & EZ data"
   ]
  },
  {
   "cell_type": "code",
   "execution_count": 1,
   "metadata": {},
   "outputs": [],
   "source": [
    "import numpy as np\n",
    "import pandas as pd\n",
    "import scipy.stats as si\n",
    "\n",
    "from sklearn.preprocessing import MinMaxScaler\n",
    "from sklearn.metrics import r2_score\n",
    "\n",
    "import tensorflow as tf\n",
    "from tensorflow import keras\n",
    "\n",
    "from tabulate import tabulate\n",
    "np.set_printoptions(precision = 3, suppress = True)"
   ]
  },
  {
   "cell_type": "code",
   "execution_count": 2,
   "metadata": {},
   "outputs": [
    {
     "data": {
      "text/html": [
       "<div>\n",
       "<style scoped>\n",
       "    .dataframe tbody tr th:only-of-type {\n",
       "        vertical-align: middle;\n",
       "    }\n",
       "\n",
       "    .dataframe tbody tr th {\n",
       "        vertical-align: top;\n",
       "    }\n",
       "\n",
       "    .dataframe thead th {\n",
       "        text-align: right;\n",
       "    }\n",
       "</style>\n",
       "<table border=\"1\" class=\"dataframe\">\n",
       "  <thead>\n",
       "    <tr style=\"text-align: right;\">\n",
       "      <th></th>\n",
       "      <th>Put.Call</th>\n",
       "      <th>futures.price</th>\n",
       "      <th>Strike.Price</th>\n",
       "      <th>Time.to.maturity</th>\n",
       "      <th>Risk.Free.Rate</th>\n",
       "      <th>Historical Vol</th>\n",
       "      <th>Implied.Volatility</th>\n",
       "      <th>Settlement</th>\n",
       "    </tr>\n",
       "  </thead>\n",
       "  <tbody>\n",
       "    <tr>\n",
       "      <th>0</th>\n",
       "      <td>C</td>\n",
       "      <td>3259.0</td>\n",
       "      <td>2200</td>\n",
       "      <td>0.213699</td>\n",
       "      <td>0.0154</td>\n",
       "      <td>0.008335</td>\n",
       "      <td>0.338267</td>\n",
       "      <td>1059.0</td>\n",
       "    </tr>\n",
       "    <tr>\n",
       "      <th>1</th>\n",
       "      <td>C</td>\n",
       "      <td>3259.0</td>\n",
       "      <td>2250</td>\n",
       "      <td>0.213699</td>\n",
       "      <td>0.0154</td>\n",
       "      <td>0.008335</td>\n",
       "      <td>0.326829</td>\n",
       "      <td>1009.1</td>\n",
       "    </tr>\n",
       "    <tr>\n",
       "      <th>2</th>\n",
       "      <td>C</td>\n",
       "      <td>3259.0</td>\n",
       "      <td>2270</td>\n",
       "      <td>0.213699</td>\n",
       "      <td>0.0154</td>\n",
       "      <td>0.008335</td>\n",
       "      <td>0.323456</td>\n",
       "      <td>989.1</td>\n",
       "    </tr>\n",
       "    <tr>\n",
       "      <th>3</th>\n",
       "      <td>C</td>\n",
       "      <td>3259.0</td>\n",
       "      <td>2300</td>\n",
       "      <td>0.213699</td>\n",
       "      <td>0.0154</td>\n",
       "      <td>0.008335</td>\n",
       "      <td>0.317834</td>\n",
       "      <td>959.2</td>\n",
       "    </tr>\n",
       "    <tr>\n",
       "      <th>4</th>\n",
       "      <td>C</td>\n",
       "      <td>3259.0</td>\n",
       "      <td>2310</td>\n",
       "      <td>0.213699</td>\n",
       "      <td>0.0154</td>\n",
       "      <td>0.008335</td>\n",
       "      <td>0.314282</td>\n",
       "      <td>949.2</td>\n",
       "    </tr>\n",
       "  </tbody>\n",
       "</table>\n",
       "</div>"
      ],
      "text/plain": [
       "  Put.Call  futures.price  Strike.Price  Time.to.maturity  Risk.Free.Rate  \\\n",
       "0        C         3259.0          2200          0.213699          0.0154   \n",
       "1        C         3259.0          2250          0.213699          0.0154   \n",
       "2        C         3259.0          2270          0.213699          0.0154   \n",
       "3        C         3259.0          2300          0.213699          0.0154   \n",
       "4        C         3259.0          2310          0.213699          0.0154   \n",
       "\n",
       "   Historical Vol  Implied.Volatility  Settlement  \n",
       "0        0.008335            0.338267      1059.0  \n",
       "1        0.008335            0.326829      1009.1  \n",
       "2        0.008335            0.323456       989.1  \n",
       "3        0.008335            0.317834       959.2  \n",
       "4        0.008335            0.314282       949.2  "
      ]
     },
     "execution_count": 2,
     "metadata": {},
     "output_type": "execute_result"
    }
   ],
   "source": [
    "# Read in the data and keep the relevant features\n",
    "ES_EZ = pd.read_csv('/Users/gaojinglun/Desktop/RSG/ES_EZ.csv')\n",
    "ES_EZ = ES_EZ.drop(['Unnamed: 0'], axis = 1)\n",
    "df = ES_EZ[['Put.Call', 'futures.price', 'Strike.Price', 'Time.to.maturity',\n",
    "            'Risk.Free.Rate', 'Historical Vol', 'Implied.Volatility', 'Settlement']]\n",
    "df.head()"
   ]
  },
  {
   "cell_type": "code",
   "execution_count": 3,
   "metadata": {},
   "outputs": [],
   "source": [
    "ES_EZ_call = df[df['Put.Call'] == 'C']\n",
    "ES_EZ_call = ES_EZ_call.drop(['Put.Call'], axis = 1)\n",
    "ES_EZ_put = df[df['Put.Call'] == 'P']\n",
    "ES_EZ_put = ES_EZ_put.drop(['Put.Call'], axis = 1)"
   ]
  },
  {
   "cell_type": "code",
   "execution_count": 4,
   "metadata": {},
   "outputs": [
    {
     "name": "stdout",
     "output_type": "stream",
     "text": [
      "There are 13708 call options and 16263 put options in the ES&EZ data.\n"
     ]
    }
   ],
   "source": [
    "print('There are {} call options and {} put options in the ES&EZ data.'.format(\n",
    "    np.sum(ES_EZ['Put.Call'] == 'C'), \n",
    "    ES_EZ.shape[0] -np.sum(ES_EZ['Put.Call'] == 'C')))"
   ]
  },
  {
   "cell_type": "code",
   "execution_count": 5,
   "metadata": {},
   "outputs": [
    {
     "name": "stdout",
     "output_type": "stream",
     "text": [
      "The number of ITM Call options is 6678\n",
      "The number of ATM Call options is 2223\n",
      "The number of OTM Call options is 4807\n"
     ]
    }
   ],
   "source": [
    "Call_temp = 100 * ES_EZ_call['Strike.Price'].values / ES_EZ_call['futures.price'].values\n",
    "Call_ITM_idx = Call_temp < 95.2\n",
    "Call_ATM_idx = np.logical_and(Call_temp < 103, Call_temp >= 95.2)\n",
    "Call_OTM_idx = Call_temp > 103\n",
    "print('The number of ITM Call options is', np.sum(Call_ITM_idx))\n",
    "print('The number of ATM Call options is', np.sum(Call_ATM_idx))\n",
    "print('The number of OTM Call options is', np.sum(Call_OTM_idx))"
   ]
  },
  {
   "cell_type": "code",
   "execution_count": 6,
   "metadata": {},
   "outputs": [
    {
     "name": "stdout",
     "output_type": "stream",
     "text": [
      "The number of ITM Call options is 3123\n",
      "The number of ATM Call options is 2234\n",
      "The number of OTM Call options is 10906\n"
     ]
    }
   ],
   "source": [
    "Put_temp = 100 * ES_EZ_put['Strike.Price'].values / ES_EZ_put['futures.price'].values\n",
    "Put_ITM_idx = Put_temp > 103\n",
    "Put_ATM_idx = np.logical_and(Put_temp < 103, Put_temp >= 95.2)\n",
    "Put_OTM_idx = Put_temp < 95.2\n",
    "print('The number of ITM Call options is', np.sum(Put_ITM_idx))\n",
    "print('The number of ATM Call options is', np.sum(Put_ATM_idx))\n",
    "print('The number of OTM Call options is', np.sum(Put_OTM_idx))"
   ]
  },
  {
   "cell_type": "code",
   "execution_count": 7,
   "metadata": {},
   "outputs": [],
   "source": [
    "def black_scholes_call_option(S, K, T, q, r, sigma):\n",
    "    '''\n",
    "    S: Stock price\n",
    "    K: Strike price\n",
    "    T: Maturity\n",
    "    q: Dividend rate\n",
    "    r: Risk free rate\n",
    "    sigma: Volatility\n",
    "    '''\n",
    "    \n",
    "    d1 = (np.log(S / K) + (r - q + 0.5 * sigma ** 2) * T) / (sigma * np.sqrt(T))\n",
    "    d2 = d1 - sigma * np.sqrt(T)\n",
    "    \n",
    "    call = (S * np.exp(-q * T) * si.norm.cdf(d1) - K * np.exp(-r * T) * si.norm.cdf(d2))\n",
    "    \n",
    "    return call\n",
    "\n",
    "def black_scholes_put_option(S, K, T, q, r, sigma):\n",
    "    '''\n",
    "    S: Stock price\n",
    "    K: Strike price\n",
    "    T: Maturity\n",
    "    q: Dividend rate\n",
    "    r: Risk free rate\n",
    "    sigma: Volatility\n",
    "    '''\n",
    "    \n",
    "    d1 = (np.log(S / K) + (r - q + 0.5 * sigma ** 2) * T) / (sigma * np.sqrt(T))\n",
    "    d2 = d1 - sigma * np.sqrt(T)\n",
    "    \n",
    "    put = K * np.exp(-r * T) * si.norm.cdf(-d2) - S * np.exp(-q * T) * si.norm.cdf(-d1)\n",
    "    \n",
    "    return put\n",
    "\n",
    "def Call_Results(Call_Pred):\n",
    "    '''\n",
    "    Get the results for Call options (TIM, ATM, OTM, and Overall) in terms of the R^2 \n",
    "    '''\n",
    "    return (\n",
    "        np.round(r2_score(Call_ITM, Call_Pred[Call_ITM_idx]), 5),\n",
    "        np.round(r2_score(Call_ATM, Call_Pred[Call_ATM_idx]), 5),\n",
    "        np.round(r2_score(Call_OTM, Call_Pred[Call_OTM_idx]), 5),\n",
    "        np.round(r2_score(Call_ALL, Call_Pred), 5)\n",
    "    )\n",
    "\n",
    "def Put_Results(Put_Pred):\n",
    "    '''\n",
    "    Get the results for Put options (TIM, ATM, OTM, and Overall) in terms of the R^2 \n",
    "    '''\n",
    "    return (\n",
    "        np.round(r2_score(Put_ITM, Put_Pred[Put_ITM_idx]), 5),\n",
    "        np.round(r2_score(Put_ATM, Put_Pred[Put_ATM_idx]), 5),\n",
    "        np.round(r2_score(Put_OTM, Put_Pred[Put_OTM_idx]), 5),\n",
    "        np.round(r2_score(Put_ALL, Put_Pred), 5)   \n",
    "    )"
   ]
  },
  {
   "cell_type": "markdown",
   "metadata": {},
   "source": [
    "## Results of BS with implied volatility as input"
   ]
  },
  {
   "cell_type": "code",
   "execution_count": 8,
   "metadata": {},
   "outputs": [
    {
     "name": "stdout",
     "output_type": "stream",
     "text": [
      "The total variance explained by BS is 0.9994 for the Call Options\n",
      "The total variance explained by BS is 0.999 for the Put Options\n"
     ]
    }
   ],
   "source": [
    "# Test the performances of BS model with the implied vol as input\n",
    "BS_Call_ImpliedVol = black_scholes_call_option(\n",
    "    ES_EZ_call['futures.price'], \n",
    "    ES_EZ_call['Strike.Price'], \n",
    "    ES_EZ_call['Time.to.maturity'], \n",
    "    np.zeros(ES_EZ_call.shape[0]), \n",
    "    ES_EZ_call['Risk.Free.Rate'], \n",
    "    ES_EZ_call['Implied.Volatility']\n",
    ")\n",
    "BS_PUT_ImpliedVol = black_scholes_put_option(\n",
    "    ES_EZ_put['futures.price'], \n",
    "    ES_EZ_put['Strike.Price'], \n",
    "    ES_EZ_put['Time.to.maturity'], \n",
    "    np.zeros(ES_EZ_put.shape[0]), \n",
    "    ES_EZ_put['Risk.Free.Rate'], \n",
    "    ES_EZ_put['Implied.Volatility']\n",
    ")\n",
    "\n",
    "print('The total variance explained by BS is {} for the Call Options'.format(\n",
    "    np.round(r2_score(ES_EZ_call['Settlement'], BS_Call_ImpliedVol), 5))\n",
    "     )\n",
    "print('The total variance explained by BS is {} for the Put Options'.format(\n",
    "    np.round(r2_score(ES_EZ_put['Settlement'], BS_PUT_ImpliedVol), 5))\n",
    "     )"
   ]
  },
  {
   "cell_type": "markdown",
   "metadata": {},
   "source": [
    "## Results of BS with historical volatility as input"
   ]
  },
  {
   "cell_type": "code",
   "execution_count": 9,
   "metadata": {},
   "outputs": [
    {
     "name": "stdout",
     "output_type": "stream",
     "text": [
      "The total variance explained by BS is 0.96737 for the Call Options\n",
      "The total variance explained by BS is 0.84061 for the Put Options\n"
     ]
    }
   ],
   "source": [
    "# Test the performances of BS model with historical vol as input\n",
    "BS_Call_HistVol = black_scholes_call_option(\n",
    "    ES_EZ_call['futures.price'], \n",
    "    ES_EZ_call['Strike.Price'], \n",
    "    ES_EZ_call['Time.to.maturity'], \n",
    "    np.zeros(ES_EZ_call.shape[0]), \n",
    "    ES_EZ_call['Risk.Free.Rate'], \n",
    "    ES_EZ_call['Historical Vol']\n",
    ")\n",
    "BS_PUT_HistVol = black_scholes_put_option(\n",
    "    ES_EZ_put['futures.price'], \n",
    "    ES_EZ_put['Strike.Price'], \n",
    "    ES_EZ_put['Time.to.maturity'], \n",
    "    np.zeros(ES_EZ_put.shape[0]), \n",
    "    ES_EZ_put['Risk.Free.Rate'], \n",
    "    ES_EZ_put['Historical Vol']\n",
    ")\n",
    "\n",
    "print('The total variance explained by BS is {} for the Call Options'.format(\n",
    "    np.round(r2_score(ES_EZ_call['Settlement'], BS_Call_HistVol), 5))\n",
    "     )\n",
    "print('The total variance explained by BS is {} for the Put Options'.format(\n",
    "    np.round(r2_score(ES_EZ_put['Settlement'], BS_PUT_HistVol), 5))\n",
    "     )"
   ]
  },
  {
   "cell_type": "markdown",
   "metadata": {},
   "source": [
    "## Results of ANN"
   ]
  },
  {
   "cell_type": "code",
   "execution_count": 10,
   "metadata": {},
   "outputs": [],
   "source": [
    "ANN_X_Call = ES_EZ_call[['futures.price', 'Strike.Price', 'Time.to.maturity', 'Risk.Free.Rate', 'Historical Vol']]\n",
    "ANN_y_Call = ES_EZ_call['Implied.Volatility']\n",
    "# Standardize the features\n",
    "scaler_Call_X = MinMaxScaler().fit(ANN_X_Call)\n",
    "X_Call = pd.DataFrame(scaler_Call_X.transform(ANN_X_Call), columns = ANN_X_Call.columns.values) \n",
    "\n",
    "scaler_Call_y = MinMaxScaler().fit(ANN_y_Call.values.reshape(-1, 1))\n",
    "y_Call = scaler_Call_y.transform(ANN_y_Call.values.reshape(-1, 1))"
   ]
  },
  {
   "cell_type": "code",
   "execution_count": 11,
   "metadata": {},
   "outputs": [],
   "source": [
    "path = \"/Users/gaojinglun/Desktop/RSG/1.5ANN_call_Train_On_ESEZ_withLR0.001\"\n",
    "ANN_call_model = keras.models.load_model(path)"
   ]
  },
  {
   "cell_type": "code",
   "execution_count": 12,
   "metadata": {},
   "outputs": [
    {
     "name": "stdout",
     "output_type": "stream",
     "text": [
      "The total variance of implied volatility explained by ANN is 0.93197 for the Call Options\n"
     ]
    }
   ],
   "source": [
    "ANN_call = scaler_Call_y.inverse_transform(ANN_call_model.predict(X_Call))\n",
    "print('The total variance of implied volatility explained by ANN is {} for the Call Options'.format(\n",
    "    np.round(r2_score(ANN_y_Call, ANN_call), 5)\n",
    "))"
   ]
  },
  {
   "cell_type": "code",
   "execution_count": 13,
   "metadata": {},
   "outputs": [],
   "source": [
    "ANN_X_Put = ES_EZ_put[['futures.price', 'Strike.Price', 'Time.to.maturity', 'Risk.Free.Rate', 'Historical Vol']]\n",
    "ANN_y_Put = ES_EZ_put['Implied.Volatility']\n",
    "# Standardize the features\n",
    "scaler_Put_X = MinMaxScaler().fit(ANN_X_Put)\n",
    "X_Put = pd.DataFrame(scaler_Put_X.transform(ANN_X_Put), columns = ANN_X_Put.columns.values) \n",
    "\n",
    "scaler_Put_y = MinMaxScaler().fit(ANN_y_Put.values.reshape(-1, 1))\n",
    "y_Put = scaler_Put_y.transform(ANN_y_Put.values.reshape(-1, 1))"
   ]
  },
  {
   "cell_type": "code",
   "execution_count": 14,
   "metadata": {},
   "outputs": [],
   "source": [
    "path2 = \"/Users/gaojinglun/Desktop/RSG/1.5ANN_put_Train_On_ESEZ_withLR0.001\"\n",
    "ANN_put_model = keras.models.load_model(path2)"
   ]
  },
  {
   "cell_type": "code",
   "execution_count": 15,
   "metadata": {},
   "outputs": [
    {
     "name": "stdout",
     "output_type": "stream",
     "text": [
      "The total variance of implied volatility explained by ANN is 0.94338 for the Put Options\n"
     ]
    }
   ],
   "source": [
    "ANN_put = scaler_Put_y.inverse_transform(ANN_put_model.predict(X_Put))\n",
    "print('The total variance of implied volatility explained by ANN is {} for the Put Options'.format(\n",
    "      np.round(r2_score(ANN_y_Put, ANN_put), 5)))"
   ]
  },
  {
   "cell_type": "code",
   "execution_count": 16,
   "metadata": {},
   "outputs": [
    {
     "name": "stdout",
     "output_type": "stream",
     "text": [
      "The total variance explained by BS is 0.99857 for the Call Options\n",
      "The total variance explained by BS is 0.99543 for the Put Options\n"
     ]
    }
   ],
   "source": [
    "# Test the performances of ANN \n",
    "ANN_Call_Pred = black_scholes_call_option(\n",
    "    ES_EZ_call['futures.price'], \n",
    "    ES_EZ_call['Strike.Price'], \n",
    "    ES_EZ_call['Time.to.maturity'], \n",
    "    np.zeros(ES_EZ_call.shape[0]), \n",
    "    ES_EZ_call['Risk.Free.Rate'], \n",
    "    ANN_call.reshape(-1)\n",
    ")\n",
    "ANN_PUT_Pred = black_scholes_put_option(\n",
    "    ES_EZ_put['futures.price'], \n",
    "    ES_EZ_put['Strike.Price'], \n",
    "    ES_EZ_put['Time.to.maturity'], \n",
    "    np.zeros(ES_EZ_put.shape[0]), \n",
    "    ES_EZ_put['Risk.Free.Rate'], \n",
    "    ANN_put.reshape(-1)\n",
    ")\n",
    "\n",
    "print('The total variance explained by BS is {} for the Call Options'.format(\n",
    "    np.round(r2_score(ES_EZ_call['Settlement'], ANN_Call_Pred), 5))\n",
    "     )\n",
    "print('The total variance explained by BS is {} for the Put Options'.format(\n",
    "    np.round(r2_score(ES_EZ_put['Settlement'], ANN_PUT_Pred), 5))\n",
    "     )"
   ]
  },
  {
   "cell_type": "markdown",
   "metadata": {},
   "source": [
    "### Results of ANN with addtional inputs"
   ]
  },
  {
   "cell_type": "code",
   "execution_count": 17,
   "metadata": {},
   "outputs": [],
   "source": [
    "# ES_EZ_call = ES_EZ_call.set_index(np.arange(ES_EZ_call.shape[0]))\n",
    "# # Add the moneyness indicator \n",
    "# Call_moneyness = np.array(['ITM'] * ES_EZ_call.shape[0])\n",
    "# Call_moneyness[Call_ATM_idx] = 'ATM'\n",
    "# Call_moneyness[Call_OTM_idx] = 'OTM'\n",
    "# ES_EZ_call = pd.concat([ES_EZ_call, pd.get_dummies(Call_moneyness)], axis = 1)\n",
    "# ES_EZ_call.head()"
   ]
  },
  {
   "cell_type": "code",
   "execution_count": 18,
   "metadata": {},
   "outputs": [],
   "source": [
    "# ES_EZ_call_X = ES_EZ_call.drop(['Put.Call', 'Implied.Volatility'], axis = 1)\n",
    "# ES_EZ_call_y = ES_EZ_call['Implied.Volatility']\n",
    "# # Standardize the features\n",
    "# scalerX = MinMaxScaler().fit(ES_EZ_call_X)\n",
    "# ES_EZ_call_X = pd.DataFrame(scalerX.transform(ES_EZ_call_X), columns = ES_EZ_call_X.columns.values) \n",
    "\n",
    "# scalery = MinMaxScaler().fit(ES_EZ_call_y.values.reshape(-1, 1))\n",
    "# ES_EZ_call_y = scalery.transform(ES_EZ_call_y.values.reshape(-1, 1))"
   ]
  },
  {
   "cell_type": "code",
   "execution_count": 19,
   "metadata": {},
   "outputs": [],
   "source": [
    "# path3 = \"/Users/gaojinglun/Desktop/RSG/1.5ANN_call_Train_On_ESEZ_Additional_Inputs_withLR0.001\"\n",
    "# ANN_call_add = keras.models.load_model(path3)"
   ]
  },
  {
   "cell_type": "code",
   "execution_count": 20,
   "metadata": {},
   "outputs": [],
   "source": [
    "# Call_Results(ANN_call_add.predict())"
   ]
  },
  {
   "cell_type": "markdown",
   "metadata": {},
   "source": [
    "### Summary"
   ]
  },
  {
   "cell_type": "code",
   "execution_count": 21,
   "metadata": {},
   "outputs": [],
   "source": [
    "Call_ITM = ES_EZ_call['Settlement'][Call_ITM_idx]\n",
    "Call_ATM = ES_EZ_call['Settlement'][Call_ATM_idx]\n",
    "Call_OTM = ES_EZ_call['Settlement'][Call_OTM_idx]\n",
    "Call_ALL = ES_EZ_call['Settlement']\n",
    "\n",
    "Put_ITM = ES_EZ_put['Settlement'][Put_ITM_idx]\n",
    "Put_ATM = ES_EZ_put['Settlement'][Put_ATM_idx]\n",
    "Put_OTM = ES_EZ_put['Settlement'][Put_OTM_idx]\n",
    "Put_ALL = ES_EZ_put['Settlement']"
   ]
  },
  {
   "cell_type": "code",
   "execution_count": 22,
   "metadata": {},
   "outputs": [],
   "source": [
    "BS_Call_ITM, BS_Call_ATM, BS_Call_OTM, BS_Call_ALL = Call_Results(BS_Call_ImpliedVol)\n",
    "BS_Put_ITM, BS_Put_ATM, BS_Put_OTM, BS_Put_ALL = Put_Results(BS_PUT_ImpliedVol)\n",
    "\n",
    "BS_Call_ITM_hist, BS_Call_ATM_hist, BS_Call_OTM_hist, BS_Call_ALL_hist = Call_Results(BS_Call_HistVol)\n",
    "BS_Put_ITM_hist, BS_Put_ATM_hist, BS_Put_OTM_hist, BS_Put_ALL_hist = Put_Results(BS_PUT_HistVol)\n",
    "\n",
    "ANN_Call_ITM, ANN_Call_ATM, ANN_Call_OTM, ANN_Call_ALL = Call_Results(ANN_Call_Pred)\n",
    "ANN_Put_ITM, ANN_Put_ATM, ANN_Put_OTM, ANN_Put_ALL = Put_Results(ANN_PUT_Pred)"
   ]
  },
  {
   "cell_type": "code",
   "execution_count": 23,
   "metadata": {},
   "outputs": [],
   "source": [
    "table = pd.DataFrame({\n",
    "    'ITM Call': [BS_Call_ITM, BS_Call_ITM_hist, ANN_Call_ITM],\n",
    "    'ATM Call': [BS_Call_ATM, BS_Call_ATM_hist, ANN_Call_ATM],\n",
    "    'OTM Call': [BS_Call_OTM, BS_Call_OTM_hist, ANN_Call_OTM],\n",
    "    'Overall Call': [BS_Call_ALL, BS_Call_ALL_hist, ANN_Call_ALL],\n",
    "    'ITM Put': [BS_Put_ITM, BS_Put_ITM_hist, ANN_Put_ITM],\n",
    "    'ATM Put': [BS_Put_ATM, BS_Put_ATM_hist, ANN_Put_ATM],\n",
    "    'OTM Put': [BS_Put_OTM, BS_Put_OTM_hist, ANN_Put_OTM],\n",
    "    'Overall Put': [BS_Put_ALL, BS_Put_ALL_hist, ANN_Put_ALL]\n",
    "},\n",
    "    index = ['BS Implied Vol', 'BS Hist Vol', 'ANN on ES&EZ']\n",
    ")"
   ]
  },
  {
   "cell_type": "code",
   "execution_count": 24,
   "metadata": {},
   "outputs": [
    {
     "name": "stdout",
     "output_type": "stream",
     "text": [
      "                  ITM Call    ATM Call    OTM Call    Overall Call    ITM Put    ATM Put    OTM Put    Overall Put\n",
      "BS Implied Vol     0.99881     0.98681     0.99612         0.9994     0.99748    0.99219    0.99795        0.999\n",
      "BS Hist Vol        0.97355    -1.49061    -0.4795          0.96737    0.90063   -1.8856    -0.53521        0.84061\n",
      "ANN on ES&EZ       0.99798     0.94411     0.94344         0.99857    0.99417    0.94642    0.95953        0.99543\n"
     ]
    }
   ],
   "source": [
    "print(tabulate(table, headers = 'keys', tablefmt = 'plain'))"
   ]
  },
  {
   "cell_type": "code",
   "execution_count": null,
   "metadata": {},
   "outputs": [],
   "source": []
  }
 ],
 "metadata": {
  "hide_input": false,
  "kernelspec": {
   "display_name": "Python 3",
   "language": "python",
   "name": "python3"
  },
  "language_info": {
   "codemirror_mode": {
    "name": "ipython",
    "version": 3
   },
   "file_extension": ".py",
   "mimetype": "text/x-python",
   "name": "python",
   "nbconvert_exporter": "python",
   "pygments_lexer": "ipython3",
   "version": "3.8.3"
  }
 },
 "nbformat": 4,
 "nbformat_minor": 4
}
