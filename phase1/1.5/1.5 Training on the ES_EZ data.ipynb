{
 "cells": [
  {
   "cell_type": "code",
   "execution_count": 1,
   "metadata": {},
   "outputs": [],
   "source": [
    "import numpy as np\n",
    "import pandas as pd\n",
    "import seaborn as sns\n",
    "import matplotlib.pyplot as plt\n",
    "import scipy.stats as si\n",
    "import time\n",
    "\n",
    "from sklearn.preprocessing import MinMaxScaler\n",
    "from sklearn.model_selection import train_test_split\n",
    "from sklearn.metrics import r2_score\n",
    "\n",
    "import tensorflow as tf\n",
    "from tensorflow import keras\n",
    "from tensorflow.keras.models import Sequential\n",
    "from tensorflow.keras import models, layers, activations, initializers\n",
    "from tensorflow.keras.layers import BatchNormalization\n",
    "\n",
    "np.set_printoptions(precision = 3, suppress = True)\n",
    "import warnings\n",
    "warnings.filterwarnings(\"ignore\")"
   ]
  },
  {
   "cell_type": "code",
   "execution_count": 2,
   "metadata": {},
   "outputs": [
    {
     "data": {
      "text/html": [
       "<div>\n",
       "<style scoped>\n",
       "    .dataframe tbody tr th:only-of-type {\n",
       "        vertical-align: middle;\n",
       "    }\n",
       "\n",
       "    .dataframe tbody tr th {\n",
       "        vertical-align: top;\n",
       "    }\n",
       "\n",
       "    .dataframe thead th {\n",
       "        text-align: right;\n",
       "    }\n",
       "</style>\n",
       "<table border=\"1\" class=\"dataframe\">\n",
       "  <thead>\n",
       "    <tr style=\"text-align: right;\">\n",
       "      <th></th>\n",
       "      <th>Put.Call</th>\n",
       "      <th>Strike.Price</th>\n",
       "      <th>Settlement</th>\n",
       "      <th>Historical Vol</th>\n",
       "      <th>futures.price</th>\n",
       "      <th>Time.to.maturity</th>\n",
       "      <th>Risk.Free.Rate</th>\n",
       "      <th>Implied.Volatility</th>\n",
       "    </tr>\n",
       "  </thead>\n",
       "  <tbody>\n",
       "    <tr>\n",
       "      <th>0</th>\n",
       "      <td>C</td>\n",
       "      <td>2200</td>\n",
       "      <td>1059.0</td>\n",
       "      <td>0.008335</td>\n",
       "      <td>3259.0</td>\n",
       "      <td>0.213699</td>\n",
       "      <td>0.0154</td>\n",
       "      <td>0.338267</td>\n",
       "    </tr>\n",
       "    <tr>\n",
       "      <th>1</th>\n",
       "      <td>C</td>\n",
       "      <td>2250</td>\n",
       "      <td>1009.1</td>\n",
       "      <td>0.008335</td>\n",
       "      <td>3259.0</td>\n",
       "      <td>0.213699</td>\n",
       "      <td>0.0154</td>\n",
       "      <td>0.326829</td>\n",
       "    </tr>\n",
       "    <tr>\n",
       "      <th>2</th>\n",
       "      <td>C</td>\n",
       "      <td>2270</td>\n",
       "      <td>989.1</td>\n",
       "      <td>0.008335</td>\n",
       "      <td>3259.0</td>\n",
       "      <td>0.213699</td>\n",
       "      <td>0.0154</td>\n",
       "      <td>0.323456</td>\n",
       "    </tr>\n",
       "    <tr>\n",
       "      <th>3</th>\n",
       "      <td>C</td>\n",
       "      <td>2300</td>\n",
       "      <td>959.2</td>\n",
       "      <td>0.008335</td>\n",
       "      <td>3259.0</td>\n",
       "      <td>0.213699</td>\n",
       "      <td>0.0154</td>\n",
       "      <td>0.317834</td>\n",
       "    </tr>\n",
       "    <tr>\n",
       "      <th>4</th>\n",
       "      <td>C</td>\n",
       "      <td>2310</td>\n",
       "      <td>949.2</td>\n",
       "      <td>0.008335</td>\n",
       "      <td>3259.0</td>\n",
       "      <td>0.213699</td>\n",
       "      <td>0.0154</td>\n",
       "      <td>0.314282</td>\n",
       "    </tr>\n",
       "  </tbody>\n",
       "</table>\n",
       "</div>"
      ],
      "text/plain": [
       "  Put.Call  Strike.Price  Settlement  Historical Vol  futures.price  \\\n",
       "0        C          2200      1059.0        0.008335         3259.0   \n",
       "1        C          2250      1009.1        0.008335         3259.0   \n",
       "2        C          2270       989.1        0.008335         3259.0   \n",
       "3        C          2300       959.2        0.008335         3259.0   \n",
       "4        C          2310       949.2        0.008335         3259.0   \n",
       "\n",
       "   Time.to.maturity  Risk.Free.Rate  Implied.Volatility  \n",
       "0          0.213699          0.0154            0.338267  \n",
       "1          0.213699          0.0154            0.326829  \n",
       "2          0.213699          0.0154            0.323456  \n",
       "3          0.213699          0.0154            0.317834  \n",
       "4          0.213699          0.0154            0.314282  "
      ]
     },
     "execution_count": 2,
     "metadata": {},
     "output_type": "execute_result"
    }
   ],
   "source": [
    "ES_EZ = pd.read_csv('/Users/gaojinglun/Desktop/RSG/ES_EZ.csv')\n",
    "ES_EZ = ES_EZ.drop(['Unnamed: 0'], axis = 1)\n",
    "df = ES_EZ[['Put.Call', 'Strike.Price', 'Settlement', 'Historical Vol', \n",
    "            'futures.price', 'Time.to.maturity', 'Risk.Free.Rate', 'Implied.Volatility']]\n",
    "df = df.dropna()\n",
    "df.head()"
   ]
  },
  {
   "cell_type": "code",
   "execution_count": 3,
   "metadata": {},
   "outputs": [
    {
     "name": "stdout",
     "output_type": "stream",
     "text": [
      "The number of ITM Call options is 6678\n",
      "The number of ATM Call options is 2223\n",
      "The number of OTM Call options is 4807\n"
     ]
    }
   ],
   "source": [
    "ES_EZ_call = df[df['Put.Call'] == 'C']\n",
    "Call_temp = 100 * ES_EZ_call['Strike.Price'].values / ES_EZ_call['futures.price'].values\n",
    "Call_ITM_idx = Call_temp < 95.2\n",
    "Call_ATM_idx = np.logical_and(Call_temp < 103, Call_temp >= 95.2)\n",
    "Call_OTM_idx = Call_temp > 103\n",
    "print('The number of ITM Call options is', np.sum(Call_ITM_idx))\n",
    "print('The number of ATM Call options is', np.sum(Call_ATM_idx))\n",
    "print('The number of OTM Call options is', np.sum(Call_OTM_idx))"
   ]
  },
  {
   "cell_type": "code",
   "execution_count": 4,
   "metadata": {},
   "outputs": [
    {
     "data": {
      "text/plain": [
       "(13708, 8)"
      ]
     },
     "execution_count": 4,
     "metadata": {},
     "output_type": "execute_result"
    }
   ],
   "source": [
    "# Add the moneyness indicator \n",
    "Call_moneyness = np.array(['ITM'] * ES_EZ_call.shape[0])\n",
    "Call_moneyness[Call_ATM_idx] = 'ATM'\n",
    "Call_moneyness[Call_OTM_idx] = 'OTM'\n",
    "\n",
    "ES_EZ_call_X = ES_EZ_call[['futures.price', 'Strike.Price', 'Time.to.maturity', \n",
    "                           'Risk.Free.Rate', 'Historical Vol']]\n",
    "ES_EZ_call_y = ES_EZ_call['Implied.Volatility']\n",
    "ES_EZ_call.shape"
   ]
  },
  {
   "cell_type": "code",
   "execution_count": 5,
   "metadata": {},
   "outputs": [
    {
     "data": {
      "text/plain": [
       "((10966, 5), (2742, 5), (10966,), (2742,))"
      ]
     },
     "execution_count": 5,
     "metadata": {},
     "output_type": "execute_result"
    }
   ],
   "source": [
    "X_train, X_test, y_train, y_test = train_test_split(ES_EZ_call_X, ES_EZ_call_y, \n",
    "                                                    test_size = 0.2, stratify = Call_moneyness, random_state = 123)\n",
    "X_train.shape, X_test.shape, y_train.shape, y_test.shape"
   ]
  },
  {
   "cell_type": "code",
   "execution_count": 6,
   "metadata": {},
   "outputs": [
    {
     "data": {
      "text/html": [
       "<div>\n",
       "<style scoped>\n",
       "    .dataframe tbody tr th:only-of-type {\n",
       "        vertical-align: middle;\n",
       "    }\n",
       "\n",
       "    .dataframe tbody tr th {\n",
       "        vertical-align: top;\n",
       "    }\n",
       "\n",
       "    .dataframe thead th {\n",
       "        text-align: right;\n",
       "    }\n",
       "</style>\n",
       "<table border=\"1\" class=\"dataframe\">\n",
       "  <thead>\n",
       "    <tr style=\"text-align: right;\">\n",
       "      <th></th>\n",
       "      <th>futures.price</th>\n",
       "      <th>Strike.Price</th>\n",
       "      <th>Time.to.maturity</th>\n",
       "      <th>Risk.Free.Rate</th>\n",
       "      <th>Historical Vol</th>\n",
       "    </tr>\n",
       "  </thead>\n",
       "  <tbody>\n",
       "    <tr>\n",
       "      <th>0</th>\n",
       "      <td>0.417376</td>\n",
       "      <td>0.485714</td>\n",
       "      <td>0.042980</td>\n",
       "      <td>0.063291</td>\n",
       "      <td>0.120078</td>\n",
       "    </tr>\n",
       "    <tr>\n",
       "      <th>1</th>\n",
       "      <td>0.441082</td>\n",
       "      <td>0.567347</td>\n",
       "      <td>0.478510</td>\n",
       "      <td>0.094937</td>\n",
       "      <td>0.189638</td>\n",
       "    </tr>\n",
       "    <tr>\n",
       "      <th>2</th>\n",
       "      <td>0.758969</td>\n",
       "      <td>0.522449</td>\n",
       "      <td>0.083095</td>\n",
       "      <td>0.044304</td>\n",
       "      <td>0.079680</td>\n",
       "    </tr>\n",
       "    <tr>\n",
       "      <th>3</th>\n",
       "      <td>0.428977</td>\n",
       "      <td>0.424490</td>\n",
       "      <td>0.002865</td>\n",
       "      <td>0.082278</td>\n",
       "      <td>0.244963</td>\n",
       "    </tr>\n",
       "    <tr>\n",
       "      <th>4</th>\n",
       "      <td>0.633945</td>\n",
       "      <td>0.634694</td>\n",
       "      <td>0.000000</td>\n",
       "      <td>0.044304</td>\n",
       "      <td>0.087062</td>\n",
       "    </tr>\n",
       "  </tbody>\n",
       "</table>\n",
       "</div>"
      ],
      "text/plain": [
       "   futures.price  Strike.Price  Time.to.maturity  Risk.Free.Rate  \\\n",
       "0       0.417376      0.485714          0.042980        0.063291   \n",
       "1       0.441082      0.567347          0.478510        0.094937   \n",
       "2       0.758969      0.522449          0.083095        0.044304   \n",
       "3       0.428977      0.424490          0.002865        0.082278   \n",
       "4       0.633945      0.634694          0.000000        0.044304   \n",
       "\n",
       "   Historical Vol  \n",
       "0        0.120078  \n",
       "1        0.189638  \n",
       "2        0.079680  \n",
       "3        0.244963  \n",
       "4        0.087062  "
      ]
     },
     "execution_count": 6,
     "metadata": {},
     "output_type": "execute_result"
    }
   ],
   "source": [
    "# Standardize the features\n",
    "scalerX = MinMaxScaler().fit(X_train)\n",
    "X_train = pd.DataFrame(scalerX.transform(X_train), columns = ES_EZ_call_X.columns.values) \n",
    "X_test = pd.DataFrame(scalerX.transform(X_test), columns = ES_EZ_call_X.columns.values) \n",
    "\n",
    "scalery = MinMaxScaler().fit(y_train.values.reshape(-1, 1))\n",
    "y_train = scalery.transform(y_train.values.reshape(-1, 1))\n",
    "y_test = scalery.transform(y_test.values.reshape(-1, 1))\n",
    "X_train.head()"
   ]
  },
  {
   "cell_type": "code",
   "execution_count": 7,
   "metadata": {},
   "outputs": [],
   "source": [
    "class TimeHistory(tf.keras.callbacks.Callback):\n",
    "    def on_train_begin(self, logs = {}):\n",
    "        self.times = []\n",
    "\n",
    "    def on_epoch_begin(self, batch, logs = {}):\n",
    "        self.epoch_time_start = time.time()\n",
    "\n",
    "    def on_epoch_end(self, batch, logs = {}):\n",
    "        self.times.append(time.time() - self.epoch_time_start)"
   ]
  },
  {
   "cell_type": "code",
   "execution_count": 8,
   "metadata": {},
   "outputs": [
    {
     "data": {
      "text/plain": [
       "[[(0.8785, 0.876), (0.8719, 0.8755)],\n",
       " [(0.839, 0.841), (0.8964, 0.8992)],\n",
       " [(0.8962, 0.9003), (0.837, 0.8431)],\n",
       " [(0.8786, 0.8832), (0.9356, 0.9361)],\n",
       " [(0.8915, 0.8968), (0.8898, 0.8919)],\n",
       " [(0.866, 0.8728), (0.9072, 0.9063)],\n",
       " [(0.9333, 0.9347), (0.912, 0.913)],\n",
       " [(0.7985, 0.8047), (0.909, 0.911)],\n",
       " [(0.8873, 0.8922), (0.9135, 0.9118)],\n",
       " [(0.8352, 0.8413), (0.9345, 0.9379)]]"
      ]
     },
     "execution_count": 8,
     "metadata": {},
     "output_type": "execute_result"
    }
   ],
   "source": [
    "earlyStop = tf.keras.callbacks.EarlyStopping(monitor = 'loss', patience = 3)\n",
    "score = []\n",
    "for i in range(10):\n",
    "    learning_rate = [1e-2, 1e-3]\n",
    "    score_small = []\n",
    "    for lr in learning_rate:\n",
    "        model = models.Sequential()\n",
    "        # Input layer\n",
    "        model.add(layers.Dense(units = 5,\n",
    "                               kernel_initializer = initializers.RandomNormal(seed = 123),\n",
    "                               bias_initializer = initializers.Zeros()))\n",
    "        model.add(layers.Activation(activations.elu))\n",
    "\n",
    "        numLayers = 3\n",
    "        for i in range(numLayers):\n",
    "            model.add(BatchNormalization())\n",
    "            model.add(layers.Dense(units = 100, \n",
    "                                   kernel_initializer = initializers.RandomNormal(seed = 123),\n",
    "                                   bias_initializer = initializers.Zeros()))\n",
    "            model.add(layers.Activation(activations.elu))\n",
    "            model.add(layers.Dropout(0.25))\n",
    "\n",
    "        model.add(BatchNormalization())\n",
    "        model.add(layers.Dense(units = 25, \n",
    "                               kernel_initializer = initializers.RandomNormal(seed = 123),\n",
    "                               bias_initializer = initializers.Zeros()))\n",
    "        model.add(layers.Activation(activations.elu))\n",
    "        model.add(layers.Dropout(0.25))\n",
    "\n",
    "        # Output layer\n",
    "        model.add(layers.Dense(units = 1, activation = \"exponential\"))\n",
    "\n",
    "        model.compile(\n",
    "            optimizer = keras.optimizers.Adam(learning_rate = lr), loss = \"mean_squared_error\"\n",
    "        )\n",
    "\n",
    "        time_callback = TimeHistory()\n",
    "\n",
    "        history = model.fit(X_train, \n",
    "            y_train, \n",
    "            epochs = 100, \n",
    "            verbose = 0,\n",
    "            batch_size = 32, \n",
    "            callbacks = [earlyStop, time_callback],\n",
    "            validation_split = 0.2)\n",
    "        BSNN_train_pred = model.predict(X_train)\n",
    "        BSNN_test_pred = model.predict(X_test)\n",
    "        trainr2 = np.round(r2_score(y_train, BSNN_train_pred), 4)\n",
    "        testr2 = np.round(r2_score(y_test, BSNN_test_pred), 4)\n",
    "        score_small.append((trainr2, testr2))\n",
    "    score.append(score_small)\n",
    "score"
   ]
  },
  {
   "cell_type": "code",
   "execution_count": 9,
   "metadata": {},
   "outputs": [
    {
     "name": "stdout",
     "output_type": "stream",
     "text": [
      "When the learning rate is 0.01\n",
      "The training R squared is 0.7729\n",
      "The testing R squared is 0.7772\n",
      "-------------------------------------------------------------------\n",
      "INFO:tensorflow:Assets written to: /Users/gaojinglun/Desktop/RSG/1.5ANN_call_Train_On_ESEZ_withLR0.01/assets\n",
      "When the learning rate is 0.001\n",
      "The training R squared is 0.944\n",
      "The testing R squared is 0.9456\n",
      "-------------------------------------------------------------------\n",
      "INFO:tensorflow:Assets written to: /Users/gaojinglun/Desktop/RSG/1.5ANN_call_Train_On_ESEZ_withLR0.001/assets\n"
     ]
    }
   ],
   "source": [
    "learning_rate = [1e-2, 1e-3]\n",
    "History = []\n",
    "times = []\n",
    "earlyStop = tf.keras.callbacks.EarlyStopping(monitor = 'loss', patience = 3)\n",
    "for lr in learning_rate:\n",
    "    model = models.Sequential()\n",
    "    # Input layer\n",
    "    model.add(layers.Dense(units = 5,\n",
    "                           kernel_initializer = initializers.RandomNormal(seed = 123),\n",
    "                           bias_initializer = initializers.Zeros()))\n",
    "    model.add(layers.Activation(activations.elu))\n",
    "    \n",
    "    numLayers = 3\n",
    "    for i in range(numLayers):\n",
    "        model.add(BatchNormalization())\n",
    "        model.add(layers.Dense(units = 100, \n",
    "                               kernel_initializer = initializers.RandomNormal(seed = 123),\n",
    "                               bias_initializer = initializers.Zeros()))\n",
    "        model.add(layers.Activation(activations.elu))\n",
    "        model.add(layers.Dropout(0.25))\n",
    "    \n",
    "    model.add(BatchNormalization())\n",
    "    model.add(layers.Dense(units = 25, \n",
    "                           kernel_initializer = initializers.RandomNormal(seed = 123),\n",
    "                           bias_initializer = initializers.Zeros()))\n",
    "    model.add(layers.Activation(activations.elu))\n",
    "    model.add(layers.Dropout(0.25))\n",
    "\n",
    "    # Output layer\n",
    "    model.add(layers.Dense(units = 1, activation = \"exponential\"))\n",
    "\n",
    "    model.compile(\n",
    "        optimizer = keras.optimizers.Adam(learning_rate = lr), loss = \"mean_squared_error\"\n",
    "    )\n",
    "    \n",
    "    time_callback = TimeHistory()\n",
    "\n",
    "    history = model.fit(X_train, \n",
    "        y_train, \n",
    "        epochs = 100, \n",
    "        verbose = 0,\n",
    "        batch_size = 32, \n",
    "        callbacks = [earlyStop, time_callback],\n",
    "        validation_split = 0.2)\n",
    "    BSNN_train_pred = model.predict(X_train)\n",
    "    BSNN_test_pred = model.predict(X_test)\n",
    "    print('When the learning rate is', lr)\n",
    "    trainr2 = np.round(r2_score(y_train, BSNN_train_pred), 4)\n",
    "    print(\"The training R squared is\", \n",
    "          trainr2)\n",
    "    testr2 = np.round(r2_score(y_test, BSNN_test_pred), 4)\n",
    "    print(\"The testing R squared is\", \n",
    "          testr2)\n",
    "    print('-------------------------------------------------------------------')\n",
    "    History.append(history)\n",
    "    times.append(time_callback.times)\n",
    "    path = \"/Users/gaojinglun/Desktop/RSG/1.5ANN_call_Train_On_ESEZ_withLR\" + str(lr)\n",
    "    model.save(path)"
   ]
  },
  {
   "cell_type": "code",
   "execution_count": 10,
   "metadata": {},
   "outputs": [
    {
     "name": "stdout",
     "output_type": "stream",
     "text": [
      "The number of ITM Call options is 3123\n",
      "The number of ATM Call options is 2234\n",
      "The number of OTM Call options is 10906\n"
     ]
    }
   ],
   "source": [
    "ES_EZ_put = df[df['Put.Call'] == 'P']\n",
    "Put_temp = 100 * ES_EZ_put['Strike.Price'].values / ES_EZ_put['futures.price'].values\n",
    "Put_ITM_idx = Put_temp > 103\n",
    "Put_ATM_idx = np.logical_and(Put_temp < 103, Put_temp >= 95.2)\n",
    "Put_OTM_idx = Put_temp < 95.2\n",
    "print('The number of ITM Call options is', np.sum(Put_ITM_idx))\n",
    "print('The number of ATM Call options is', np.sum(Put_ATM_idx))\n",
    "print('The number of OTM Call options is', np.sum(Put_OTM_idx))"
   ]
  },
  {
   "cell_type": "code",
   "execution_count": 11,
   "metadata": {},
   "outputs": [
    {
     "data": {
      "text/plain": [
       "(16263, 8)"
      ]
     },
     "execution_count": 11,
     "metadata": {},
     "output_type": "execute_result"
    }
   ],
   "source": [
    "# Add the moneyness indicator \n",
    "Put_moneyness = np.array(['ITM'] * ES_EZ_put.shape[0])\n",
    "Put_moneyness[Put_ATM_idx] = 'ATM'\n",
    "Put_moneyness[Put_OTM_idx] = 'OTM'\n",
    "\n",
    "ES_EZ_put_X = ES_EZ_put[['futures.price', 'Strike.Price', 'Time.to.maturity', \n",
    "                           'Risk.Free.Rate', 'Historical Vol']]\n",
    "ES_EZ_put_y = ES_EZ_put['Implied.Volatility']\n",
    "ES_EZ_put.shape"
   ]
  },
  {
   "cell_type": "code",
   "execution_count": 12,
   "metadata": {},
   "outputs": [
    {
     "data": {
      "text/plain": [
       "((13010, 5), (3253, 5), (13010,), (3253,))"
      ]
     },
     "execution_count": 12,
     "metadata": {},
     "output_type": "execute_result"
    }
   ],
   "source": [
    "X_train, X_test, y_train, y_test = train_test_split(ES_EZ_put_X, ES_EZ_put_y, \n",
    "                                                    test_size = 0.2, stratify = Put_moneyness, random_state = 123)\n",
    "X_train.shape, X_test.shape, y_train.shape, y_test.shape"
   ]
  },
  {
   "cell_type": "code",
   "execution_count": 13,
   "metadata": {},
   "outputs": [],
   "source": [
    "# Standardize the features\n",
    "scalerX = MinMaxScaler().fit(X_train)\n",
    "X_train = pd.DataFrame(scalerX.transform(X_train), columns = ES_EZ_call_X.columns.values) \n",
    "X_test = pd.DataFrame(scalerX.transform(X_test), columns = ES_EZ_call_X.columns.values) \n",
    "\n",
    "scalery = MinMaxScaler().fit(y_train.values.reshape(-1, 1))\n",
    "y_train = scalery.transform(y_train.values.reshape(-1, 1))\n",
    "y_test = scalery.transform(y_test.values.reshape(-1, 1))"
   ]
  },
  {
   "cell_type": "code",
   "execution_count": 14,
   "metadata": {},
   "outputs": [
    {
     "data": {
      "text/plain": [
       "[[(0.9431, 0.9356), (0.9248, 0.9216)],\n",
       " [(0.8955, 0.8917), (0.9446, 0.9387)],\n",
       " [(0.8326, 0.817), (0.9301, 0.9299)],\n",
       " [(0.9111, 0.9069), (0.9186, 0.9122)],\n",
       " [(0.9238, 0.9149), (0.9426, 0.9361)],\n",
       " [(0.899, 0.898), (0.9456, 0.9412)],\n",
       " [(0.9246, 0.92), (0.9355, 0.9326)],\n",
       " [(0.9099, 0.9054), (0.93, 0.9233)],\n",
       " [(0.7471, 0.749), (0.9631, 0.9602)],\n",
       " [(0.6701, 0.6807), (0.9526, 0.9508)]]"
      ]
     },
     "execution_count": 14,
     "metadata": {},
     "output_type": "execute_result"
    }
   ],
   "source": [
    "earlyStop = tf.keras.callbacks.EarlyStopping(monitor = 'loss', patience = 3)\n",
    "score = []\n",
    "for i in range(10):\n",
    "    learning_rate = [1e-2, 1e-3]\n",
    "    score_small = []\n",
    "    for lr in learning_rate:\n",
    "        model = models.Sequential()\n",
    "        # Input layer\n",
    "        model.add(layers.Dense(units = 5,\n",
    "                               kernel_initializer = initializers.RandomNormal(seed = 123),\n",
    "                               bias_initializer = initializers.Zeros()))\n",
    "        model.add(layers.Activation(activations.elu))\n",
    "\n",
    "        numLayers = 3\n",
    "        for i in range(numLayers):\n",
    "            model.add(BatchNormalization())\n",
    "            model.add(layers.Dense(units = 100, \n",
    "                                   kernel_initializer = initializers.RandomNormal(seed = 123),\n",
    "                                   bias_initializer = initializers.Zeros()))\n",
    "            model.add(layers.Activation(activations.elu))\n",
    "            model.add(layers.Dropout(0.25))\n",
    "\n",
    "        model.add(BatchNormalization())\n",
    "        model.add(layers.Dense(units = 25, \n",
    "                               kernel_initializer = initializers.RandomNormal(seed = 123),\n",
    "                               bias_initializer = initializers.Zeros()))\n",
    "        model.add(layers.Activation(activations.elu))\n",
    "        model.add(layers.Dropout(0.25))\n",
    "\n",
    "        # Output layer\n",
    "        model.add(layers.Dense(units = 1, activation = \"exponential\"))\n",
    "\n",
    "        model.compile(\n",
    "            optimizer = keras.optimizers.Adam(learning_rate = lr), loss = \"mean_squared_error\"\n",
    "        )\n",
    "\n",
    "        time_callback = TimeHistory()\n",
    "\n",
    "        history = model.fit(X_train, \n",
    "            y_train, \n",
    "            epochs = 100, \n",
    "            verbose = 0,\n",
    "            batch_size = 32, \n",
    "            callbacks = [earlyStop, time_callback],\n",
    "            validation_split = 0.2)\n",
    "        BSNN_train_pred = model.predict(X_train)\n",
    "        BSNN_test_pred = model.predict(X_test)\n",
    "        trainr2 = np.round(r2_score(y_train, BSNN_train_pred), 4)\n",
    "        testr2 = np.round(r2_score(y_test, BSNN_test_pred), 4)\n",
    "        score_small.append((trainr2, testr2))\n",
    "    score.append(score_small)\n",
    "score"
   ]
  },
  {
   "cell_type": "code",
   "execution_count": 15,
   "metadata": {},
   "outputs": [
    {
     "name": "stdout",
     "output_type": "stream",
     "text": [
      "When the learning rate is 0.01\n",
      "The training R squared is 0.8802\n",
      "The testing R squared is 0.8804\n",
      "-------------------------------------------------------------------\n",
      "INFO:tensorflow:Assets written to: /Users/gaojinglun/Desktop/RSG/1.5ANN_put_Train_On_ESEZ_withLR0.01/assets\n",
      "When the learning rate is 0.001\n",
      "The training R squared is 0.9434\n",
      "The testing R squared is 0.9378\n",
      "-------------------------------------------------------------------\n",
      "INFO:tensorflow:Assets written to: /Users/gaojinglun/Desktop/RSG/1.5ANN_put_Train_On_ESEZ_withLR0.001/assets\n"
     ]
    }
   ],
   "source": [
    "learning_rate = [1e-2, 1e-3]\n",
    "History = []\n",
    "times = []\n",
    "earlyStop = tf.keras.callbacks.EarlyStopping(monitor = 'loss', patience = 3)\n",
    "for lr in learning_rate:\n",
    "    model = models.Sequential()\n",
    "    # Input layer\n",
    "    model.add(layers.Dense(units = 5,\n",
    "                           kernel_initializer = initializers.RandomNormal(seed = 123),\n",
    "                           bias_initializer = initializers.Zeros()))\n",
    "    model.add(layers.Activation(activations.elu))\n",
    "    \n",
    "    numLayers = 3\n",
    "    for i in range(numLayers):\n",
    "        model.add(BatchNormalization())\n",
    "        model.add(layers.Dense(units = 100, \n",
    "                               kernel_initializer = initializers.RandomNormal(seed = 123),\n",
    "                               bias_initializer = initializers.Zeros()))\n",
    "        model.add(layers.Activation(activations.elu))\n",
    "        model.add(layers.Dropout(0.25))\n",
    "        \n",
    "    model.add(BatchNormalization())\n",
    "    model.add(layers.Dense(units = 24, \n",
    "                           kernel_initializer = initializers.RandomNormal(seed = 123),\n",
    "                           bias_initializer = initializers.Zeros()))\n",
    "    model.add(layers.Activation(activations.elu))\n",
    "    model.add(layers.Dropout(0.25))\n",
    "\n",
    "    # Output layer\n",
    "    model.add(layers.Dense(units = 1, activation = \"exponential\"))\n",
    "\n",
    "    model.compile(\n",
    "        optimizer = keras.optimizers.Adam(learning_rate = lr), loss = \"mean_squared_error\"\n",
    "    )\n",
    "    \n",
    "    time_callback = TimeHistory()\n",
    "\n",
    "    history = model.fit(X_train, \n",
    "        y_train, \n",
    "        epochs = 100, \n",
    "        verbose = 0,\n",
    "        batch_size = 32, \n",
    "        callbacks = [earlyStop, time_callback],\n",
    "        validation_split = 0.2)\n",
    "    BSNN_train_pred = model.predict(X_train)\n",
    "    BSNN_test_pred = model.predict(X_test)\n",
    "    print('When the learning rate is', lr)\n",
    "    print(\"The training R squared is\", \n",
    "          np.round(r2_score(y_train, BSNN_train_pred), 4))\n",
    "    print(\"The testing R squared is\", \n",
    "          np.round(r2_score(y_test, BSNN_test_pred), 4))\n",
    "    print('-------------------------------------------------------------------')\n",
    "    History.append(history)\n",
    "    times.append(time_callback.times)\n",
    "    path = \"/Users/gaojinglun/Desktop/RSG/1.5ANN_put_Train_On_ESEZ_withLR\" + str(lr)\n",
    "    model.save(path)"
   ]
  }
 ],
 "metadata": {
  "hide_input": false,
  "kernelspec": {
   "display_name": "Python 3",
   "language": "python",
   "name": "python3"
  },
  "language_info": {
   "codemirror_mode": {
    "name": "ipython",
    "version": 3
   },
   "file_extension": ".py",
   "mimetype": "text/x-python",
   "name": "python",
   "nbconvert_exporter": "python",
   "pygments_lexer": "ipython3",
   "version": "3.8.3"
  }
 },
 "nbformat": 4,
 "nbformat_minor": 4
}
