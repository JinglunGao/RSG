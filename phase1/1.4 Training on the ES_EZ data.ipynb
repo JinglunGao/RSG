{
 "cells": [
  {
   "cell_type": "code",
   "execution_count": 1,
   "metadata": {},
   "outputs": [],
   "source": [
    "import numpy as np\n",
    "import pandas as pd\n",
    "import seaborn as sns\n",
    "import matplotlib.pyplot as plt\n",
    "import scipy.stats as si\n",
    "import time\n",
    "\n",
    "from sklearn.preprocessing import MinMaxScaler\n",
    "from sklearn.model_selection import train_test_split\n",
    "from sklearn.metrics import r2_score\n",
    "\n",
    "import tensorflow as tf\n",
    "from tensorflow import keras\n",
    "from tensorflow.keras.models import Sequential\n",
    "from tensorflow.keras import models, layers, activations\n",
    "from tensorflow.keras.layers import BatchNormalization\n",
    "\n",
    "np.set_printoptions(precision = 3, suppress = True)"
   ]
  },
  {
   "cell_type": "code",
   "execution_count": 2,
   "metadata": {},
   "outputs": [
    {
     "data": {
      "text/html": [
       "<div>\n",
       "<style scoped>\n",
       "    .dataframe tbody tr th:only-of-type {\n",
       "        vertical-align: middle;\n",
       "    }\n",
       "\n",
       "    .dataframe tbody tr th {\n",
       "        vertical-align: top;\n",
       "    }\n",
       "\n",
       "    .dataframe thead th {\n",
       "        text-align: right;\n",
       "    }\n",
       "</style>\n",
       "<table border=\"1\" class=\"dataframe\">\n",
       "  <thead>\n",
       "    <tr style=\"text-align: right;\">\n",
       "      <th></th>\n",
       "      <th>Put.Call</th>\n",
       "      <th>Strike.Price</th>\n",
       "      <th>Settlement</th>\n",
       "      <th>Open.Interest</th>\n",
       "      <th>Delta</th>\n",
       "      <th>Implied.Volatility</th>\n",
       "      <th>futures.price</th>\n",
       "      <th>Time.to.maturity</th>\n",
       "      <th>Risk.Free.Rate</th>\n",
       "    </tr>\n",
       "  </thead>\n",
       "  <tbody>\n",
       "    <tr>\n",
       "      <th>0</th>\n",
       "      <td>C</td>\n",
       "      <td>2200</td>\n",
       "      <td>1059.0</td>\n",
       "      <td>826.0</td>\n",
       "      <td>0.99787</td>\n",
       "      <td>0.338267</td>\n",
       "      <td>3259.0</td>\n",
       "      <td>0.213699</td>\n",
       "      <td>0.0154</td>\n",
       "    </tr>\n",
       "    <tr>\n",
       "      <th>1</th>\n",
       "      <td>C</td>\n",
       "      <td>2250</td>\n",
       "      <td>1009.1</td>\n",
       "      <td>728.0</td>\n",
       "      <td>0.99661</td>\n",
       "      <td>0.326829</td>\n",
       "      <td>3259.0</td>\n",
       "      <td>0.213699</td>\n",
       "      <td>0.0154</td>\n",
       "    </tr>\n",
       "    <tr>\n",
       "      <th>2</th>\n",
       "      <td>C</td>\n",
       "      <td>2270</td>\n",
       "      <td>989.1</td>\n",
       "      <td>1.0</td>\n",
       "      <td>0.99586</td>\n",
       "      <td>0.323456</td>\n",
       "      <td>3259.0</td>\n",
       "      <td>0.213699</td>\n",
       "      <td>0.0154</td>\n",
       "    </tr>\n",
       "    <tr>\n",
       "      <th>3</th>\n",
       "      <td>C</td>\n",
       "      <td>2300</td>\n",
       "      <td>959.2</td>\n",
       "      <td>212.0</td>\n",
       "      <td>0.99474</td>\n",
       "      <td>0.317834</td>\n",
       "      <td>3259.0</td>\n",
       "      <td>0.213699</td>\n",
       "      <td>0.0154</td>\n",
       "    </tr>\n",
       "    <tr>\n",
       "      <th>4</th>\n",
       "      <td>C</td>\n",
       "      <td>2310</td>\n",
       "      <td>949.2</td>\n",
       "      <td>42.0</td>\n",
       "      <td>0.99466</td>\n",
       "      <td>0.314282</td>\n",
       "      <td>3259.0</td>\n",
       "      <td>0.213699</td>\n",
       "      <td>0.0154</td>\n",
       "    </tr>\n",
       "  </tbody>\n",
       "</table>\n",
       "</div>"
      ],
      "text/plain": [
       "  Put.Call  Strike.Price  Settlement  Open.Interest    Delta  \\\n",
       "0        C          2200      1059.0          826.0  0.99787   \n",
       "1        C          2250      1009.1          728.0  0.99661   \n",
       "2        C          2270       989.1            1.0  0.99586   \n",
       "3        C          2300       959.2          212.0  0.99474   \n",
       "4        C          2310       949.2           42.0  0.99466   \n",
       "\n",
       "   Implied.Volatility  futures.price  Time.to.maturity  Risk.Free.Rate  \n",
       "0            0.338267         3259.0          0.213699          0.0154  \n",
       "1            0.326829         3259.0          0.213699          0.0154  \n",
       "2            0.323456         3259.0          0.213699          0.0154  \n",
       "3            0.317834         3259.0          0.213699          0.0154  \n",
       "4            0.314282         3259.0          0.213699          0.0154  "
      ]
     },
     "execution_count": 2,
     "metadata": {},
     "output_type": "execute_result"
    }
   ],
   "source": [
    "ES_EZ = pd.read_csv('/Users/gaojinglun/Desktop/RSG/ES_EZ.csv')\n",
    "ES_EZ = ES_EZ.drop(['Unnamed: 0'], axis = 1)\n",
    "df = ES_EZ[['Put.Call', 'Strike.Price', 'Settlement', 'Open.Interest', \n",
    "            'Delta', 'Implied.Volatility', 'futures.price', 'Time.to.maturity', 'Risk.Free.Rate']]\n",
    "df = df.dropna()\n",
    "df.head()"
   ]
  },
  {
   "cell_type": "code",
   "execution_count": 3,
   "metadata": {},
   "outputs": [
    {
     "data": {
      "text/plain": [
       "((13705, 9), (16263, 9))"
      ]
     },
     "execution_count": 3,
     "metadata": {},
     "output_type": "execute_result"
    }
   ],
   "source": [
    "ES_EZ_call = df[df['Put.Call'] == 'C']\n",
    "ES_EZ_call_X = ES_EZ_call[['futures.price', 'Strike.Price', 'Time.to.maturity', \n",
    "                           'Risk.Free.Rate', 'Implied.Volatility']]\n",
    "ES_EZ_call_y = ES_EZ_call['Settlement']\n",
    "\n",
    "ES_EZ_put = df[df['Put.Call'] == 'P']\n",
    "ES_EZ_put_X = ES_EZ_put[['futures.price', 'Strike.Price', 'Time.to.maturity', \n",
    "                           'Risk.Free.Rate', 'Implied.Volatility']]\n",
    "ES_EZ_put_y = ES_EZ_put['Settlement']\n",
    "ES_EZ_call.shape, ES_EZ_put.shape"
   ]
  },
  {
   "cell_type": "code",
   "execution_count": 4,
   "metadata": {},
   "outputs": [
    {
     "data": {
      "text/plain": [
       "((10964, 5), (2741, 5), (10964,), (2741,))"
      ]
     },
     "execution_count": 4,
     "metadata": {},
     "output_type": "execute_result"
    }
   ],
   "source": [
    "X_train, X_test, y_train, y_test = train_test_split(ES_EZ_call_X, ES_EZ_call_y, test_size = 0.2, random_state = 123)\n",
    "X_train.shape, X_test.shape, y_train.shape, y_test.shape"
   ]
  },
  {
   "cell_type": "code",
   "execution_count": 5,
   "metadata": {},
   "outputs": [],
   "source": [
    "# Standardize the features\n",
    "scalerX = MinMaxScaler().fit(X_train)\n",
    "X_train = pd.DataFrame(scalerX.transform(X_train), columns = ES_EZ_call_X.columns.values) \n",
    "X_test = pd.DataFrame(scalerX.transform(X_test), columns = ES_EZ_call_X.columns.values) \n",
    "\n",
    "scalery = MinMaxScaler().fit(y_train.values.reshape(-1, 1))\n",
    "y_train = scalery.transform(y_train.values.reshape(-1, 1))\n",
    "y_test = scalery.transform(y_test.values.reshape(-1, 1))"
   ]
  },
  {
   "cell_type": "code",
   "execution_count": 6,
   "metadata": {},
   "outputs": [],
   "source": [
    "np.random.seed(123)\n",
    "tf.random.set_seed(123)"
   ]
  },
  {
   "cell_type": "code",
   "execution_count": 7,
   "metadata": {},
   "outputs": [],
   "source": [
    "def plot_loss(history):\n",
    "    plt.figure(figsize = (8,6))\n",
    "    plt.plot(history.history['loss'], label = 'loss')\n",
    "    plt.plot(history.history['val_loss'], label = 'val_loss')\n",
    "    plt.xlabel('Epoch')\n",
    "    plt.ylabel('loss')\n",
    "    plt.legend()\n",
    "    plt.grid(True)\n",
    "    \n",
    "def plot_time(time):\n",
    "    print('The total training time is {} seconds.'.format(np.round(np.sum(time), 1)))\n",
    "    plt.figure(figsize = (8,6))\n",
    "    plt.plot(np.arange(1, len(time) + 1), time)\n",
    "    plt.xlabel('Epoch')\n",
    "    plt.ylabel('Time for each epoch')\n",
    "    plt.grid(True)"
   ]
  },
  {
   "cell_type": "code",
   "execution_count": 8,
   "metadata": {},
   "outputs": [],
   "source": [
    "class TimeHistory(tf.keras.callbacks.Callback):\n",
    "    def on_train_begin(self, logs = {}):\n",
    "        self.times = []\n",
    "\n",
    "    def on_epoch_begin(self, batch, logs = {}):\n",
    "        self.epoch_time_start = time.time()\n",
    "\n",
    "    def on_epoch_end(self, batch, logs = {}):\n",
    "        self.times.append(time.time() - self.epoch_time_start)"
   ]
  },
  {
   "cell_type": "code",
   "execution_count": 9,
   "metadata": {},
   "outputs": [
    {
     "name": "stdout",
     "output_type": "stream",
     "text": [
      "When the learning rate is 0.01\n",
      "The training R squared is 0.9805\n",
      "The testing R squared is 0.9809\n",
      "-------------------------------------------------------------------\n",
      "INFO:tensorflow:Assets written to: /Users/gaojinglun/Desktop/RSG/ANN_call_TrainOnESEZ_withLR0.01/assets\n",
      "When the learning rate is 0.001\n",
      "The training R squared is 0.9604\n",
      "The testing R squared is 0.9611\n",
      "-------------------------------------------------------------------\n",
      "INFO:tensorflow:Assets written to: /Users/gaojinglun/Desktop/RSG/ANN_call_TrainOnESEZ_withLR0.001/assets\n",
      "When the learning rate is 0.0001\n",
      "The training R squared is 0.9706\n",
      "The testing R squared is 0.9709\n",
      "-------------------------------------------------------------------\n",
      "INFO:tensorflow:Assets written to: /Users/gaojinglun/Desktop/RSG/ANN_call_TrainOnESEZ_withLR0.0001/assets\n"
     ]
    }
   ],
   "source": [
    "learning_rate = [1e-2, 1e-3, 1e-4]\n",
    "History = []\n",
    "times = []\n",
    "earlyStop = tf.keras.callbacks.EarlyStopping(monitor = 'loss', patience = 3)\n",
    "for lr in learning_rate:\n",
    "    model = models.Sequential()\n",
    "    # Input layer\n",
    "    model.add(layers.Dense(units = 5))\n",
    "    \n",
    "    numLayers = 4\n",
    "    for i in range(numLayers):\n",
    "        model.add(layers.Dense(units = 100))\n",
    "        model.add(BatchNormalization())\n",
    "        model.add(layers.Activation(activations.elu))\n",
    "        model.add(layers.Dropout(0.25))\n",
    "\n",
    "    # Output layer\n",
    "    model.add(layers.Dense(units = 1, activation = \"exponential\"))\n",
    "\n",
    "    model.compile(\n",
    "        optimizer = keras.optimizers.Adam(learning_rate = lr), loss = \"mean_squared_error\"\n",
    "    )\n",
    "    \n",
    "    time_callback = TimeHistory()\n",
    "\n",
    "    history = model.fit(X_train, \n",
    "        y_train, \n",
    "        epochs = 100, \n",
    "        verbose = 0,\n",
    "        batch_size = 32, \n",
    "        callbacks = [earlyStop, time_callback],\n",
    "        validation_split = 0.2)\n",
    "    BSNN_train_pred = model.predict(X_train)\n",
    "    BSNN_test_pred = model.predict(X_test)\n",
    "    print('When the learning rate is', lr)\n",
    "    print(\"The training R squared is\", \n",
    "          np.round(r2_score(y_train, BSNN_train_pred), 4))\n",
    "    print(\"The testing R squared is\", \n",
    "          np.round(r2_score(y_test, BSNN_test_pred), 4))\n",
    "    print('-------------------------------------------------------------------')\n",
    "    History.append(history)\n",
    "    times.append(time_callback.times)\n",
    "    path = \"/Users/gaojinglun/Desktop/RSG/ANN_call_TrainOnESEZ_withLR\" + str(lr)\n",
    "    model.save(path)"
   ]
  },
  {
   "cell_type": "code",
   "execution_count": 10,
   "metadata": {},
   "outputs": [
    {
     "data": {
      "text/plain": [
       "((13010, 5), (3253, 5), (13010,), (3253,))"
      ]
     },
     "execution_count": 10,
     "metadata": {},
     "output_type": "execute_result"
    }
   ],
   "source": [
    "X_train, X_test, y_train, y_test = train_test_split(ES_EZ_put_X, ES_EZ_put_y, test_size = 0.2, random_state = 123)\n",
    "X_train.shape, X_test.shape, y_train.shape, y_test.shape"
   ]
  },
  {
   "cell_type": "code",
   "execution_count": 11,
   "metadata": {},
   "outputs": [],
   "source": [
    "# Standardize the features\n",
    "scalerX = MinMaxScaler().fit(X_train)\n",
    "X_train = pd.DataFrame(scalerX.transform(X_train), columns = ES_EZ_call_X.columns.values) \n",
    "X_test = pd.DataFrame(scalerX.transform(X_test), columns = ES_EZ_call_X.columns.values) \n",
    "\n",
    "scalery = MinMaxScaler().fit(y_train.values.reshape(-1, 1))\n",
    "y_train = scalery.transform(y_train.values.reshape(-1, 1))\n",
    "y_test = scalery.transform(y_test.values.reshape(-1, 1))"
   ]
  },
  {
   "cell_type": "code",
   "execution_count": 12,
   "metadata": {},
   "outputs": [
    {
     "name": "stdout",
     "output_type": "stream",
     "text": [
      "When the learning rate is 0.01\n",
      "The training R squared is 0.9596\n",
      "The testing R squared is 0.9588\n",
      "-------------------------------------------------------------------\n",
      "INFO:tensorflow:Assets written to: /Users/gaojinglun/Desktop/RSG/ANN_put_TrainOnESEZ_withLR0.01/assets\n",
      "When the learning rate is 0.001\n",
      "The training R squared is 0.9753\n",
      "The testing R squared is 0.9734\n",
      "-------------------------------------------------------------------\n",
      "INFO:tensorflow:Assets written to: /Users/gaojinglun/Desktop/RSG/ANN_put_TrainOnESEZ_withLR0.001/assets\n",
      "When the learning rate is 0.0001\n",
      "The training R squared is 0.8577\n",
      "The testing R squared is 0.8554\n",
      "-------------------------------------------------------------------\n",
      "INFO:tensorflow:Assets written to: /Users/gaojinglun/Desktop/RSG/ANN_put_TrainOnESEZ_withLR0.0001/assets\n"
     ]
    }
   ],
   "source": [
    "learning_rate = [1e-2, 1e-3, 1e-4]\n",
    "History = []\n",
    "times = []\n",
    "earlyStop = tf.keras.callbacks.EarlyStopping(monitor = 'loss', patience = 3)\n",
    "for lr in learning_rate:\n",
    "    model = models.Sequential()\n",
    "    # Input layer\n",
    "    model.add(layers.Dense(units = 5))\n",
    "    \n",
    "    numLayers = 4\n",
    "    for i in range(numLayers):\n",
    "        model.add(layers.Dense(units = 100))\n",
    "        model.add(BatchNormalization())\n",
    "        model.add(layers.Activation(activations.elu))\n",
    "        model.add(layers.Dropout(0.25))\n",
    "\n",
    "    # Output layer\n",
    "    model.add(layers.Dense(units = 1, activation = \"exponential\"))\n",
    "\n",
    "    model.compile(\n",
    "        optimizer = keras.optimizers.Adam(learning_rate = lr), loss = \"mean_squared_error\"\n",
    "    )\n",
    "    \n",
    "    time_callback = TimeHistory()\n",
    "\n",
    "    history = model.fit(X_train, \n",
    "        y_train, \n",
    "        epochs = 100, \n",
    "        verbose = 0,\n",
    "        batch_size = 32, \n",
    "        callbacks = [earlyStop, time_callback],\n",
    "        validation_split = 0.2)\n",
    "    BSNN_train_pred = model.predict(X_train)\n",
    "    BSNN_test_pred = model.predict(X_test)\n",
    "    print('When the learning rate is', lr)\n",
    "    print(\"The training R squared is\", \n",
    "          np.round(r2_score(y_train, BSNN_train_pred), 4))\n",
    "    print(\"The testing R squared is\", \n",
    "          np.round(r2_score(y_test, BSNN_test_pred), 4))\n",
    "    print('-------------------------------------------------------------------')\n",
    "    History.append(history)\n",
    "    times.append(time_callback.times)\n",
    "    path = \"/Users/gaojinglun/Desktop/RSG/ANN_put_TrainOnESEZ_withLR\" + str(lr)\n",
    "    model.save(path)"
   ]
  }
 ],
 "metadata": {
  "hide_input": false,
  "kernelspec": {
   "display_name": "Python 3",
   "language": "python",
   "name": "python3"
  },
  "language_info": {
   "codemirror_mode": {
    "name": "ipython",
    "version": 3
   },
   "file_extension": ".py",
   "mimetype": "text/x-python",
   "name": "python",
   "nbconvert_exporter": "python",
   "pygments_lexer": "ipython3",
   "version": "3.8.3"
  }
 },
 "nbformat": 4,
 "nbformat_minor": 4
}
