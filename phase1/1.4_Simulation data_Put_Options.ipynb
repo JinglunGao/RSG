{
 "cells": [
  {
   "cell_type": "code",
   "execution_count": 1,
   "metadata": {},
   "outputs": [],
   "source": [
    "import numpy as np\n",
    "import pandas as pd\n",
    "import scipy.stats as si\n",
    "from itertools import product"
   ]
  },
  {
   "cell_type": "code",
   "execution_count": 2,
   "metadata": {},
   "outputs": [],
   "source": [
    "np.random.seed(123)"
   ]
  },
  {
   "cell_type": "code",
   "execution_count": 3,
   "metadata": {},
   "outputs": [],
   "source": [
    "def black_scholes_put_option(S, K, T, q, r, sigma):\n",
    "    '''\n",
    "    S: Stock price\n",
    "    K: Strike price\n",
    "    T: Maturity\n",
    "    q: Dividend rate\n",
    "    r: Risk free rate\n",
    "    sigma: Volatility\n",
    "    '''\n",
    "    \n",
    "    d1 = (np.log(S / K) + (r - q + 0.5 * sigma ** 2) * T) / (sigma * np.sqrt(T))\n",
    "    d2 = d1 - sigma * np.sqrt(T)\n",
    "    \n",
    "    put = K * np.exp(-r * T) * si.norm.cdf(-d2) - S * np.exp(-q * T) * si.norm.cdf(-d1)\n",
    "    \n",
    "    return put"
   ]
  },
  {
   "cell_type": "code",
   "execution_count": 4,
   "metadata": {},
   "outputs": [],
   "source": [
    "# 184 * 60 * 32 * number of sigma values = 353280 * x\n",
    "sim_size = 59 * 20 * 19 * 50"
   ]
  },
  {
   "cell_type": "code",
   "execution_count": 5,
   "metadata": {},
   "outputs": [
    {
     "name": "stdout",
     "output_type": "stream",
     "text": [
      "Number of different values for T, Strike, r and sigma are 20, 59, 19, 50, respectively.\n"
     ]
    }
   ],
   "source": [
    "S = np.ones(sim_size) * 100\n",
    "\n",
    "K_range = np.array(list(np.arange(2, 80, 5)) + \n",
    "                   list(np.arange(81, 108)) +\n",
    "                   list(np.arange(108, 185, 5))\n",
    "                  )\n",
    "T_range = np.arange(0.01, 1, 0.05)\n",
    "\n",
    "q = np.zeros(sim_size)\n",
    "\n",
    "r = np.array([0.02, 0.04, 0.06, 0.08, 0.1 , 0.12, 0.14, 0.16, 0.18, 0.24, 0.29, 0.89,\n",
    "       0.95, 1.13, 1.41, 1.46, 1.54, 1.57, 1.6 ]) / 100\n",
    "\n",
    "sigma_range = np.zeros(50)\n",
    "for i in range(50):\n",
    "    sigma_sim = 0 \n",
    "    while sigma_sim <= 0.086 or sigma_sim >= 2.17:\n",
    "        sigma_sim = np.random.normal(0.411271, 0.237628, 1)\n",
    "    sigma_range[i] = sigma_sim\n",
    "\n",
    "print('Number of different values for T, Strike, r and sigma are {}, {}, {}, {}, respectively.'.format(\n",
    "    len(T_range), len(K_range), len(r), len(sigma_range)))"
   ]
  },
  {
   "cell_type": "code",
   "execution_count": 6,
   "metadata": {},
   "outputs": [
    {
     "data": {
      "text/plain": [
       "(1121000, 4)"
      ]
     },
     "execution_count": 6,
     "metadata": {},
     "output_type": "execute_result"
    }
   ],
   "source": [
    "# cartesian product \n",
    "matrix = np.array(list(product(K_range, T_range, r, sigma_range)))\n",
    "matrix.shape"
   ]
  },
  {
   "cell_type": "code",
   "execution_count": 7,
   "metadata": {},
   "outputs": [],
   "source": [
    "K = matrix[:,0]\n",
    "T = matrix[:,1]\n",
    "r = matrix[:,2]\n",
    "sigma = matrix[:,3]"
   ]
  },
  {
   "cell_type": "code",
   "execution_count": 8,
   "metadata": {},
   "outputs": [],
   "source": [
    "put_price = black_scholes_put_option(S, K, T, q, r, sigma)"
   ]
  },
  {
   "cell_type": "code",
   "execution_count": 9,
   "metadata": {},
   "outputs": [],
   "source": [
    "sim_data = pd.DataFrame(\n",
    "    np.vstack((S, K, T, q, r, sigma, put_price)).T,\n",
    "    columns = ['Stock price', 'Strike price', 'Maturity', \n",
    "               'Dividend rate', 'Risk free rate', 'Volatility', 'Put Price'] \n",
    ")"
   ]
  },
  {
   "cell_type": "code",
   "execution_count": 10,
   "metadata": {},
   "outputs": [
    {
     "data": {
      "text/html": [
       "<div>\n",
       "<style scoped>\n",
       "    .dataframe tbody tr th:only-of-type {\n",
       "        vertical-align: middle;\n",
       "    }\n",
       "\n",
       "    .dataframe tbody tr th {\n",
       "        vertical-align: top;\n",
       "    }\n",
       "\n",
       "    .dataframe thead th {\n",
       "        text-align: right;\n",
       "    }\n",
       "</style>\n",
       "<table border=\"1\" class=\"dataframe\">\n",
       "  <thead>\n",
       "    <tr style=\"text-align: right;\">\n",
       "      <th></th>\n",
       "      <th>Stock price</th>\n",
       "      <th>Strike price</th>\n",
       "      <th>Maturity</th>\n",
       "      <th>Dividend rate</th>\n",
       "      <th>Risk free rate</th>\n",
       "      <th>Volatility</th>\n",
       "      <th>Put Price</th>\n",
       "    </tr>\n",
       "  </thead>\n",
       "  <tbody>\n",
       "    <tr>\n",
       "      <th>0</th>\n",
       "      <td>100.0</td>\n",
       "      <td>2.0</td>\n",
       "      <td>0.01</td>\n",
       "      <td>0.0</td>\n",
       "      <td>0.0002</td>\n",
       "      <td>0.153295</td>\n",
       "      <td>0.0</td>\n",
       "    </tr>\n",
       "    <tr>\n",
       "      <th>1</th>\n",
       "      <td>100.0</td>\n",
       "      <td>2.0</td>\n",
       "      <td>0.01</td>\n",
       "      <td>0.0</td>\n",
       "      <td>0.0002</td>\n",
       "      <td>0.648268</td>\n",
       "      <td>0.0</td>\n",
       "    </tr>\n",
       "    <tr>\n",
       "      <th>2</th>\n",
       "      <td>100.0</td>\n",
       "      <td>2.0</td>\n",
       "      <td>0.01</td>\n",
       "      <td>0.0</td>\n",
       "      <td>0.0002</td>\n",
       "      <td>0.478515</td>\n",
       "      <td>0.0</td>\n",
       "    </tr>\n",
       "    <tr>\n",
       "      <th>3</th>\n",
       "      <td>100.0</td>\n",
       "      <td>2.0</td>\n",
       "      <td>0.01</td>\n",
       "      <td>0.0</td>\n",
       "      <td>0.0002</td>\n",
       "      <td>0.273779</td>\n",
       "      <td>0.0</td>\n",
       "    </tr>\n",
       "    <tr>\n",
       "      <th>4</th>\n",
       "      <td>100.0</td>\n",
       "      <td>2.0</td>\n",
       "      <td>0.01</td>\n",
       "      <td>0.0</td>\n",
       "      <td>0.0002</td>\n",
       "      <td>0.803699</td>\n",
       "      <td>0.0</td>\n",
       "    </tr>\n",
       "  </tbody>\n",
       "</table>\n",
       "</div>"
      ],
      "text/plain": [
       "   Stock price  Strike price  Maturity  Dividend rate  Risk free rate  \\\n",
       "0        100.0           2.0      0.01            0.0          0.0002   \n",
       "1        100.0           2.0      0.01            0.0          0.0002   \n",
       "2        100.0           2.0      0.01            0.0          0.0002   \n",
       "3        100.0           2.0      0.01            0.0          0.0002   \n",
       "4        100.0           2.0      0.01            0.0          0.0002   \n",
       "\n",
       "   Volatility  Put Price  \n",
       "0    0.153295        0.0  \n",
       "1    0.648268        0.0  \n",
       "2    0.478515        0.0  \n",
       "3    0.273779        0.0  \n",
       "4    0.803699        0.0  "
      ]
     },
     "execution_count": 10,
     "metadata": {},
     "output_type": "execute_result"
    }
   ],
   "source": [
    "sim_data.head()"
   ]
  },
  {
   "cell_type": "code",
   "execution_count": 11,
   "metadata": {},
   "outputs": [],
   "source": [
    "sim_data.to_csv(\"/Users/gaojinglun/Desktop/RSG/ES_EZ_Put_Sim.csv\")"
   ]
  }
 ],
 "metadata": {
  "hide_input": false,
  "kernelspec": {
   "display_name": "Python 3",
   "language": "python",
   "name": "python3"
  },
  "language_info": {
   "codemirror_mode": {
    "name": "ipython",
    "version": 3
   },
   "file_extension": ".py",
   "mimetype": "text/x-python",
   "name": "python",
   "nbconvert_exporter": "python",
   "pygments_lexer": "ipython3",
   "version": "3.8.3"
  }
 },
 "nbformat": 4,
 "nbformat_minor": 4
}
