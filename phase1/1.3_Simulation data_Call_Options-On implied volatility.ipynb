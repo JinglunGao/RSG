{
 "cells": [
  {
   "cell_type": "code",
   "execution_count": 1,
   "metadata": {},
   "outputs": [],
   "source": [
    "import numpy as np\n",
    "import pandas as pd\n",
    "import scipy.stats as si\n",
    "from itertools import product"
   ]
  },
  {
   "cell_type": "code",
   "execution_count": 2,
   "metadata": {},
   "outputs": [],
   "source": [
    "np.random.seed(123)"
   ]
  },
  {
   "cell_type": "code",
   "execution_count": 3,
   "metadata": {},
   "outputs": [],
   "source": [
    "def black_scholes_call_option(S, K, T, q, r, sigma):\n",
    "    '''\n",
    "    S: Stock price\n",
    "    K: Strike price\n",
    "    T: Maturity\n",
    "    q: Dividend rate\n",
    "    r: Risk free rate\n",
    "    sigma: Volatility\n",
    "    '''\n",
    "    \n",
    "    d1 = (np.log(S / K) + (r - q + 0.5 * sigma ** 2) * T) / (sigma * np.sqrt(T))\n",
    "    d2 = d1 - sigma * np.sqrt(T)\n",
    "    \n",
    "    call = (S * np.exp(-q * T) * si.norm.cdf(d1) - K * np.exp(-r * T) * si.norm.cdf(d2))\n",
    "    \n",
    "    return call"
   ]
  },
  {
   "cell_type": "code",
   "execution_count": 4,
   "metadata": {},
   "outputs": [],
   "source": [
    "sim_size = 300000"
   ]
  },
  {
   "cell_type": "code",
   "execution_count": 5,
   "metadata": {},
   "outputs": [
    {
     "name": "stdout",
     "output_type": "stream",
     "text": [
      "Number of different values for T, Strike and sigma are 4, 100, 750, respectively.\n"
     ]
    }
   ],
   "source": [
    "S = np.ones(sim_size) * 100\n",
    "\n",
    "K_range = np.arange()\n",
    "\n",
    "\n",
    "T_range = np.array([0.101370, 0.350685, 0.6, 0.849315])\n",
    "\n",
    "q = np.zeros(sim_size)\n",
    "\n",
    "# U.S. 3-Month T-Bill Used as the Risk-Free Rate from investopedia\n",
    "r = np.ones(sim_size) * 0.02\n",
    "\n",
    "sigma_range = np.zeros(750)\n",
    "for i in range(750):\n",
    "    sigma_sim = 0 \n",
    "    while sigma_sim <= 0 or sigma_sim >= 1:\n",
    "        sigma_sim = np.random.normal(0.298491, 0.134437, 1)\n",
    "    sigma_range[i] = sigma_sim\n",
    "\n",
    "print('Number of different values for T, Strike and sigma are {}, {}, {}, respectively.'.format(\n",
    "    len(T_range), len(K_range), len(sigma_range)))"
   ]
  },
  {
   "cell_type": "code",
   "execution_count": 6,
   "metadata": {},
   "outputs": [
    {
     "data": {
      "text/plain": [
       "(300000, 3)"
      ]
     },
     "execution_count": 6,
     "metadata": {},
     "output_type": "execute_result"
    }
   ],
   "source": [
    "# cartesian product \n",
    "matrix = np.array(list(product(K_range, T_range, sigma_range)))\n",
    "matrix.shape"
   ]
  },
  {
   "cell_type": "code",
   "execution_count": 7,
   "metadata": {},
   "outputs": [],
   "source": [
    "K = matrix[:,0]\n",
    "T = matrix[:,1]\n",
    "sigma = matrix[:,2]"
   ]
  },
  {
   "cell_type": "code",
   "execution_count": 8,
   "metadata": {},
   "outputs": [],
   "source": [
    "call_price = black_scholes_call_option(S, K, T, q, r, sigma)"
   ]
  },
  {
   "cell_type": "code",
   "execution_count": 9,
   "metadata": {},
   "outputs": [],
   "source": [
    "sim_data = pd.DataFrame(\n",
    "    np.vstack((S, K, T, q, r, sigma, call_price)).T,\n",
    "    columns = ['Stock price', 'Strike price', 'Maturity', \n",
    "               'Dividend rate', 'Risk free rate', 'Volatility', 'Call Price'] \n",
    ")"
   ]
  },
  {
   "cell_type": "code",
   "execution_count": 10,
   "metadata": {},
   "outputs": [
    {
     "data": {
      "text/html": [
       "<div>\n",
       "<style scoped>\n",
       "    .dataframe tbody tr th:only-of-type {\n",
       "        vertical-align: middle;\n",
       "    }\n",
       "\n",
       "    .dataframe tbody tr th {\n",
       "        vertical-align: top;\n",
       "    }\n",
       "\n",
       "    .dataframe thead th {\n",
       "        text-align: right;\n",
       "    }\n",
       "</style>\n",
       "<table border=\"1\" class=\"dataframe\">\n",
       "  <thead>\n",
       "    <tr style=\"text-align: right;\">\n",
       "      <th></th>\n",
       "      <th>Stock price</th>\n",
       "      <th>Strike price</th>\n",
       "      <th>Maturity</th>\n",
       "      <th>Dividend rate</th>\n",
       "      <th>Risk free rate</th>\n",
       "      <th>Volatility</th>\n",
       "      <th>Call Price</th>\n",
       "    </tr>\n",
       "  </thead>\n",
       "  <tbody>\n",
       "    <tr>\n",
       "      <th>0</th>\n",
       "      <td>100.0</td>\n",
       "      <td>70.597383</td>\n",
       "      <td>0.10137</td>\n",
       "      <td>0.0</td>\n",
       "      <td>0.02</td>\n",
       "      <td>0.032590</td>\n",
       "      <td>29.545601</td>\n",
       "    </tr>\n",
       "    <tr>\n",
       "      <th>1</th>\n",
       "      <td>100.0</td>\n",
       "      <td>70.597383</td>\n",
       "      <td>0.10137</td>\n",
       "      <td>0.0</td>\n",
       "      <td>0.02</td>\n",
       "      <td>0.394246</td>\n",
       "      <td>29.553880</td>\n",
       "    </tr>\n",
       "    <tr>\n",
       "      <th>2</th>\n",
       "      <td>100.0</td>\n",
       "      <td>70.597383</td>\n",
       "      <td>0.10137</td>\n",
       "      <td>0.0</td>\n",
       "      <td>0.02</td>\n",
       "      <td>0.647799</td>\n",
       "      <td>29.862513</td>\n",
       "    </tr>\n",
       "    <tr>\n",
       "      <th>3</th>\n",
       "      <td>100.0</td>\n",
       "      <td>70.597383</td>\n",
       "      <td>0.10137</td>\n",
       "      <td>0.0</td>\n",
       "      <td>0.02</td>\n",
       "      <td>0.295180</td>\n",
       "      <td>29.545784</td>\n",
       "    </tr>\n",
       "    <tr>\n",
       "      <th>4</th>\n",
       "      <td>100.0</td>\n",
       "      <td>70.597383</td>\n",
       "      <td>0.10137</td>\n",
       "      <td>0.0</td>\n",
       "      <td>0.02</td>\n",
       "      <td>0.303081</td>\n",
       "      <td>29.545882</td>\n",
       "    </tr>\n",
       "  </tbody>\n",
       "</table>\n",
       "</div>"
      ],
      "text/plain": [
       "   Stock price  Strike price  Maturity  Dividend rate  Risk free rate  \\\n",
       "0        100.0     70.597383   0.10137            0.0            0.02   \n",
       "1        100.0     70.597383   0.10137            0.0            0.02   \n",
       "2        100.0     70.597383   0.10137            0.0            0.02   \n",
       "3        100.0     70.597383   0.10137            0.0            0.02   \n",
       "4        100.0     70.597383   0.10137            0.0            0.02   \n",
       "\n",
       "   Volatility  Call Price  \n",
       "0    0.032590   29.545601  \n",
       "1    0.394246   29.553880  \n",
       "2    0.647799   29.862513  \n",
       "3    0.295180   29.545784  \n",
       "4    0.303081   29.545882  "
      ]
     },
     "execution_count": 10,
     "metadata": {},
     "output_type": "execute_result"
    }
   ],
   "source": [
    "sim_data.head()"
   ]
  },
  {
   "cell_type": "code",
   "execution_count": 11,
   "metadata": {},
   "outputs": [],
   "source": [
    "sim_data.to_csv(\"/Users/gaojinglun/Desktop/RSG/sim_data_call_volatility.csv\")"
   ]
  }
 ],
 "metadata": {
  "hide_input": false,
  "kernelspec": {
   "display_name": "Python 3",
   "language": "python",
   "name": "python3"
  },
  "language_info": {
   "codemirror_mode": {
    "name": "ipython",
    "version": 3
   },
   "file_extension": ".py",
   "mimetype": "text/x-python",
   "name": "python",
   "nbconvert_exporter": "python",
   "pygments_lexer": "ipython3",
   "version": "3.8.3"
  }
 },
 "nbformat": 4,
 "nbformat_minor": 4
}
